{
 "cells": [
  {
   "cell_type": "markdown",
   "metadata": {
    "toc": "true"
   },
   "source": [
    "# AfSIS Soil Chemistry Dataset - Modelling¶\n",
    "\n"
   ]
  },
  {
   "cell_type": "markdown",
   "metadata": {},
   "source": [
    "## 1. Load libraries and data"
   ]
  },
  {
   "cell_type": "code",
   "execution_count": 42,
   "metadata": {},
   "outputs": [],
   "source": [
    "import pandas as pd\n",
    "\n",
    "#from sklearn.cross_validation import cross_val_score\n",
    "from sklearn.ensemble import AdaBoostClassifier, RandomForestClassifier\n",
    "from sklearn.ensemble import  RandomForestRegressor, AdaBoostRegressor\n",
    "from sklearn.ensemble import GradientBoostingRegressor\n",
    "import re\n",
    "from sklearn.feature_extraction.text import TfidfVectorizer\n",
    "from sklearn.linear_model.ridge import RidgeCV\n",
    "from sklearn.linear_model import LogisticRegression, Lasso\n",
    "from sklearn.metrics import classification_report, confusion_matrix\n",
    "from sklearn.linear_model import Ridge\n",
    "from sklearn.tree import DecisionTreeClassifier, DecisionTreeRegressor\n",
    "from sklearn import svm\n",
    "import numpy as np\n",
    "import time\n",
    "import statsmodels as sm\n",
    "import seaborn as sns\n",
    "import matplotlib.pyplot as plt\n",
    "from sklearn.preprocessing import OneHotEncoder\n",
    "from sklearn.preprocessing import LabelEncoder\n",
    "from sklearn.preprocessing import LabelBinarizer\n",
    "from sklearn.preprocessing import StandardScaler\n",
    "from sklearn.model_selection import train_test_split\n",
    "from IPython.display import Image\n",
    "\n",
    "\n",
    "from scipy.optimize import minimize\n",
    "from __future__ import division\n",
    "from sklearn.feature_selection import SelectKBest, f_classif, f_regression\n",
    "from sklearn.neighbors import KNeighborsRegressor"
   ]
  },
  {
   "cell_type": "code",
   "execution_count": 2,
   "metadata": {},
   "outputs": [
    {
     "data": {
      "text/html": [
       "<div>\n",
       "<style scoped>\n",
       "    .dataframe tbody tr th:only-of-type {\n",
       "        vertical-align: middle;\n",
       "    }\n",
       "\n",
       "    .dataframe tbody tr th {\n",
       "        vertical-align: top;\n",
       "    }\n",
       "\n",
       "    .dataframe thead th {\n",
       "        text-align: right;\n",
       "    }\n",
       "</style>\n",
       "<table border=\"1\" class=\"dataframe\">\n",
       "  <thead>\n",
       "    <tr style=\"text-align: right;\">\n",
       "      <th></th>\n",
       "      <th>SSN</th>\n",
       "      <th>pH</th>\n",
       "      <th>%N</th>\n",
       "      <th>%C</th>\n",
       "      <th>C % Inorg</th>\n",
       "      <th>C % Org</th>\n",
       "      <th>Am Ox_Al mg/kg</th>\n",
       "      <th>Am Ox-Fe mg/kg</th>\n",
       "      <th>AmOx-Mn/mg/kg</th>\n",
       "      <th>AmOx-Pmg/kg</th>\n",
       "      <th>...</th>\n",
       "      <th>Fe</th>\n",
       "      <th>Mn</th>\n",
       "      <th>Mo</th>\n",
       "      <th>Public</th>\n",
       "      <th>Latitude</th>\n",
       "      <th>Longitude</th>\n",
       "      <th>Cluster</th>\n",
       "      <th>Plot</th>\n",
       "      <th>Depth</th>\n",
       "      <th>Cultivated</th>\n",
       "    </tr>\n",
       "  </thead>\n",
       "  <tbody>\n",
       "    <tr>\n",
       "      <th>0</th>\n",
       "      <td>icr006454</td>\n",
       "      <td>7.85</td>\n",
       "      <td>0.08</td>\n",
       "      <td>0.95</td>\n",
       "      <td>0.0</td>\n",
       "      <td>0.94</td>\n",
       "      <td>2105.973713</td>\n",
       "      <td>868.347797</td>\n",
       "      <td>160.462825</td>\n",
       "      <td>27.456545</td>\n",
       "      <td>...</td>\n",
       "      <td>1.16865</td>\n",
       "      <td>0.02010</td>\n",
       "      <td>0.01845</td>\n",
       "      <td>True</td>\n",
       "      <td>-6.12601</td>\n",
       "      <td>36.440201</td>\n",
       "      <td>1</td>\n",
       "      <td>1</td>\n",
       "      <td>top</td>\n",
       "      <td>True</td>\n",
       "    </tr>\n",
       "    <tr>\n",
       "      <th>1</th>\n",
       "      <td>icr006455</td>\n",
       "      <td>8.03</td>\n",
       "      <td>0.06</td>\n",
       "      <td>0.81</td>\n",
       "      <td>0.1</td>\n",
       "      <td>0.70</td>\n",
       "      <td>2703.686191</td>\n",
       "      <td>1095.670284</td>\n",
       "      <td>185.252606</td>\n",
       "      <td>48.309930</td>\n",
       "      <td>...</td>\n",
       "      <td>1.59154</td>\n",
       "      <td>0.02566</td>\n",
       "      <td>0.01845</td>\n",
       "      <td>True</td>\n",
       "      <td>-6.12601</td>\n",
       "      <td>36.440201</td>\n",
       "      <td>1</td>\n",
       "      <td>1</td>\n",
       "      <td>sub</td>\n",
       "      <td>True</td>\n",
       "    </tr>\n",
       "    <tr>\n",
       "      <th>2</th>\n",
       "      <td>icr006474</td>\n",
       "      <td>5.01</td>\n",
       "      <td>0.05</td>\n",
       "      <td>0.57</td>\n",
       "      <td>0.0</td>\n",
       "      <td>0.57</td>\n",
       "      <td>1554.842158</td>\n",
       "      <td>949.235199</td>\n",
       "      <td>52.608644</td>\n",
       "      <td>22.887339</td>\n",
       "      <td>...</td>\n",
       "      <td>0.88799</td>\n",
       "      <td>0.00792</td>\n",
       "      <td>0.01845</td>\n",
       "      <td>True</td>\n",
       "      <td>-6.08875</td>\n",
       "      <td>36.435982</td>\n",
       "      <td>2</td>\n",
       "      <td>1</td>\n",
       "      <td>top</td>\n",
       "      <td>False</td>\n",
       "    </tr>\n",
       "    <tr>\n",
       "      <th>3</th>\n",
       "      <td>icr006475</td>\n",
       "      <td>4.57</td>\n",
       "      <td>0.05</td>\n",
       "      <td>0.47</td>\n",
       "      <td>0.0</td>\n",
       "      <td>0.47</td>\n",
       "      <td>1846.889773</td>\n",
       "      <td>1070.019199</td>\n",
       "      <td>33.656658</td>\n",
       "      <td>9.381672</td>\n",
       "      <td>...</td>\n",
       "      <td>1.25013</td>\n",
       "      <td>0.00819</td>\n",
       "      <td>0.01845</td>\n",
       "      <td>True</td>\n",
       "      <td>-6.08875</td>\n",
       "      <td>36.435982</td>\n",
       "      <td>2</td>\n",
       "      <td>1</td>\n",
       "      <td>sub</td>\n",
       "      <td>False</td>\n",
       "    </tr>\n",
       "    <tr>\n",
       "      <th>4</th>\n",
       "      <td>icr006492</td>\n",
       "      <td>6.78</td>\n",
       "      <td>0.09</td>\n",
       "      <td>0.98</td>\n",
       "      <td>0.0</td>\n",
       "      <td>0.98</td>\n",
       "      <td>1871.559305</td>\n",
       "      <td>1204.912035</td>\n",
       "      <td>172.634574</td>\n",
       "      <td>32.109882</td>\n",
       "      <td>...</td>\n",
       "      <td>1.48940</td>\n",
       "      <td>0.01938</td>\n",
       "      <td>0.01845</td>\n",
       "      <td>True</td>\n",
       "      <td>-6.06394</td>\n",
       "      <td>36.440500</td>\n",
       "      <td>3</td>\n",
       "      <td>1</td>\n",
       "      <td>top</td>\n",
       "      <td>False</td>\n",
       "    </tr>\n",
       "  </tbody>\n",
       "</table>\n",
       "<p>5 rows × 53 columns</p>\n",
       "</div>"
      ],
      "text/plain": [
       "         SSN    pH    %N    %C  C % Inorg    C % Org  Am Ox_Al mg/kg  \\\n",
       "0  icr006454  7.85  0.08  0.95          0.0     0.94     2105.973713   \n",
       "1  icr006455  8.03  0.06  0.81          0.1     0.70     2703.686191   \n",
       "2  icr006474  5.01  0.05  0.57          0.0     0.57     1554.842158   \n",
       "3  icr006475  4.57  0.05  0.47          0.0     0.47     1846.889773   \n",
       "4  icr006492  6.78  0.09  0.98          0.0     0.98     1871.559305   \n",
       "\n",
       "   Am Ox-Fe mg/kg  AmOx-Mn/mg/kg  AmOx-Pmg/kg  ...       Fe       Mn       Mo  \\\n",
       "0      868.347797     160.462825    27.456545  ...  1.16865  0.02010  0.01845   \n",
       "1     1095.670284     185.252606    48.309930  ...  1.59154  0.02566  0.01845   \n",
       "2      949.235199      52.608644    22.887339  ...  0.88799  0.00792  0.01845   \n",
       "3     1070.019199      33.656658     9.381672  ...  1.25013  0.00819  0.01845   \n",
       "4     1204.912035     172.634574    32.109882  ...  1.48940  0.01938  0.01845   \n",
       "\n",
       "   Public  Latitude  Longitude  Cluster  Plot  Depth  Cultivated  \n",
       "0    True  -6.12601  36.440201        1     1    top        True  \n",
       "1    True  -6.12601  36.440201        1     1    sub        True  \n",
       "2    True  -6.08875  36.435982        2     1    top       False  \n",
       "3    True  -6.08875  36.435982        2     1    sub       False  \n",
       "4    True  -6.06394  36.440500        3     1    top       False  \n",
       "\n",
       "[5 rows x 53 columns]"
      ]
     },
     "execution_count": 2,
     "metadata": {},
     "output_type": "execute_result"
    }
   ],
   "source": [
    "df_composition = pd.read_csv('complete_elemental_analysis_dataset.csv')\n",
    "df_composition.head()"
   ]
  },
  {
   "cell_type": "markdown",
   "metadata": {},
   "source": [
    "## 2. Elemental analysis and soil fertility"
   ]
  },
  {
   "cell_type": "markdown",
   "metadata": {},
   "source": [
    "### 2.1 variables correlation"
   ]
  },
  {
   "cell_type": "code",
   "execution_count": 3,
   "metadata": {},
   "outputs": [
    {
     "data": {
      "text/plain": [
       "<matplotlib.axes._subplots.AxesSubplot at 0x7f6b0dfccdc0>"
      ]
     },
     "execution_count": 3,
     "metadata": {},
     "output_type": "execute_result"
    },
    {
     "data": {
      "image/png": "[encoded data removed]",
      "text/plain": [
       "<Figure size 792x648 with 2 Axes>"
      ]
     },
     "metadata": {
      "needs_background": "light"
     },
     "output_type": "display_data"
    }
   ],
   "source": [
    "# Compute the correlation matrix\n",
    "corr = df_composition.corr()\n",
    "\n",
    "# Generate a mask for the upper triangle\n",
    "mask = np.triu(np.ones_like(corr, dtype=bool))\n",
    "\n",
    "# Set up the matplotlib figure\n",
    "f, ax = plt.subplots(figsize=(11, 9))\n",
    "\n",
    "# Generate a custom diverging colormap\n",
    "cmap = sns.diverging_palette(230, 20, as_cmap=True)\n",
    "\n",
    "# Draw the heatmap with the mask and correct aspect ratio\n",
    "sns.heatmap(corr, mask=mask, cmap=cmap, vmax=.3, center=0,\n",
    "            square=True, linewidths=.5, cbar_kws={\"shrink\": .5})"
   ]
  },
  {
   "cell_type": "markdown",
   "metadata": {},
   "source": [
    "The figures show poor correlation. Surprising that this is true comparing the same element concentration estimated using ICP Optical Emission Spectrometry (ICP-OES-K) and X-rays fluorescence (K)"
   ]
  },
  {
   "cell_type": "markdown",
   "metadata": {},
   "source": [
    "### 2.2 Composition - fertility correlation"
   ]
  },
  {
   "cell_type": "markdown",
   "metadata": {},
   "source": [
    "#### 2.2.1 Features selection"
   ]
  },
  {
   "cell_type": "code",
   "execution_count": 4,
   "metadata": {},
   "outputs": [
    {
     "data": {
      "text/html": [
       "<div>\n",
       "<style scoped>\n",
       "    .dataframe tbody tr th:only-of-type {\n",
       "        vertical-align: middle;\n",
       "    }\n",
       "\n",
       "    .dataframe tbody tr th {\n",
       "        vertical-align: top;\n",
       "    }\n",
       "\n",
       "    .dataframe thead th {\n",
       "        text-align: right;\n",
       "    }\n",
       "</style>\n",
       "<table border=\"1\" class=\"dataframe\">\n",
       "  <thead>\n",
       "    <tr style=\"text-align: right;\">\n",
       "      <th></th>\n",
       "      <th>pH</th>\n",
       "      <th>%N</th>\n",
       "      <th>%P</th>\n",
       "      <th>%K</th>\n",
       "      <th>%Ca</th>\n",
       "      <th>%Cu</th>\n",
       "      <th>%Fe</th>\n",
       "      <th>%Mo</th>\n",
       "      <th>Depth</th>\n",
       "      <th>Cultivated</th>\n",
       "    </tr>\n",
       "  </thead>\n",
       "  <tbody>\n",
       "    <tr>\n",
       "      <th>0</th>\n",
       "      <td>7.85</td>\n",
       "      <td>0.08</td>\n",
       "      <td>0.00506</td>\n",
       "      <td>1.59260</td>\n",
       "      <td>0.44832</td>\n",
       "      <td>0.00098</td>\n",
       "      <td>1.16865</td>\n",
       "      <td>0.01845</td>\n",
       "      <td>top</td>\n",
       "      <td>True</td>\n",
       "    </tr>\n",
       "    <tr>\n",
       "      <th>1</th>\n",
       "      <td>8.03</td>\n",
       "      <td>0.06</td>\n",
       "      <td>0.00506</td>\n",
       "      <td>2.04214</td>\n",
       "      <td>0.90155</td>\n",
       "      <td>0.00124</td>\n",
       "      <td>1.59154</td>\n",
       "      <td>0.01845</td>\n",
       "      <td>sub</td>\n",
       "      <td>True</td>\n",
       "    </tr>\n",
       "    <tr>\n",
       "      <th>2</th>\n",
       "      <td>5.01</td>\n",
       "      <td>0.05</td>\n",
       "      <td>0.00506</td>\n",
       "      <td>1.28172</td>\n",
       "      <td>0.08998</td>\n",
       "      <td>0.00093</td>\n",
       "      <td>0.88799</td>\n",
       "      <td>0.01845</td>\n",
       "      <td>top</td>\n",
       "      <td>False</td>\n",
       "    </tr>\n",
       "    <tr>\n",
       "      <th>3</th>\n",
       "      <td>4.57</td>\n",
       "      <td>0.05</td>\n",
       "      <td>0.00506</td>\n",
       "      <td>1.29913</td>\n",
       "      <td>0.09441</td>\n",
       "      <td>0.00130</td>\n",
       "      <td>1.25013</td>\n",
       "      <td>0.01845</td>\n",
       "      <td>sub</td>\n",
       "      <td>False</td>\n",
       "    </tr>\n",
       "    <tr>\n",
       "      <th>4</th>\n",
       "      <td>6.78</td>\n",
       "      <td>0.09</td>\n",
       "      <td>0.00506</td>\n",
       "      <td>2.21456</td>\n",
       "      <td>0.76517</td>\n",
       "      <td>0.00144</td>\n",
       "      <td>1.48940</td>\n",
       "      <td>0.01845</td>\n",
       "      <td>top</td>\n",
       "      <td>False</td>\n",
       "    </tr>\n",
       "  </tbody>\n",
       "</table>\n",
       "</div>"
      ],
      "text/plain": [
       "     pH    %N       %P       %K      %Ca      %Cu      %Fe      %Mo Depth  \\\n",
       "0  7.85  0.08  0.00506  1.59260  0.44832  0.00098  1.16865  0.01845   top   \n",
       "1  8.03  0.06  0.00506  2.04214  0.90155  0.00124  1.59154  0.01845   sub   \n",
       "2  5.01  0.05  0.00506  1.28172  0.08998  0.00093  0.88799  0.01845   top   \n",
       "3  4.57  0.05  0.00506  1.29913  0.09441  0.00130  1.25013  0.01845   sub   \n",
       "4  6.78  0.09  0.00506  2.21456  0.76517  0.00144  1.48940  0.01845   top   \n",
       "\n",
       "  Cultivated  \n",
       "0       True  \n",
       "1       True  \n",
       "2      False  \n",
       "3      False  \n",
       "4      False  "
      ]
     },
     "execution_count": 4,
     "metadata": {},
     "output_type": "execute_result"
    }
   ],
   "source": [
    "elemental_variables = ['pH', '%N', 'P', 'K', 'Ca','Cu','Fe', 'Mo', 'Depth', 'Cultivated']\n",
    "\n",
    "df_composition_reduced = df_composition[elemental_variables]\n",
    "df_composition_reduced = df_composition_reduced.rename(columns={\"P\": \"%P\", \"K\": \"%K\",\"Ca\": \"%Ca\", \"Cu\": \"%Cu\", \"Fe\": \"%Fe\", \"Mo\": \"%Mo\"})\n",
    "df_composition_reduced.head()"
   ]
  },
  {
   "cell_type": "markdown",
   "metadata": {},
   "source": [
    "#### 2.2.2 Categorical features encoding"
   ]
  },
  {
   "cell_type": "code",
   "execution_count": 5,
   "metadata": {},
   "outputs": [],
   "source": [
    "# creating instance of one-hot-encoder\n",
    "enc = OneHotEncoder(sparse=False)# label encoded values of depth\n",
    "enc_df = pd.DataFrame(enc.fit_transform(df_composition_reduced[['Depth']]), columns = ['depth_sub','depth_top'])\n",
    "\n",
    "df_composition_reduced = pd.merge(df_composition_reduced, enc_df, left_index=True, right_index=True)\n",
    "df_composition_reduced = df_composition_reduced.reset_index(drop = True)\n"
   ]
  },
  {
   "cell_type": "code",
   "execution_count": 6,
   "metadata": {},
   "outputs": [
    {
     "name": "stdout",
     "output_type": "stream",
     "text": [
      "['True' 'False']\n"
     ]
    }
   ],
   "source": [
    "df_composition_cultivated  = df_composition_reduced[df_composition_reduced['Cultivated'] != \"unknown\"]  # eliminate unknown values\n",
    "print(df_composition_cultivated['Cultivated'].unique())"
   ]
  },
  {
   "cell_type": "code",
   "execution_count": 7,
   "metadata": {},
   "outputs": [
    {
     "name": "stdout",
     "output_type": "stream",
     "text": [
      "(148, 13)\n"
     ]
    },
    {
     "name": "stderr",
     "output_type": "stream",
     "text": [
      "<ipython-input-7-d4eb68b28776>:3: SettingWithCopyWarning: \n",
      "A value is trying to be set on a copy of a slice from a DataFrame.\n",
      "Try using .loc[row_indexer,col_indexer] = value instead\n",
      "\n",
      "See the caveats in the documentation: https://pandas.pydata.org/pandas-docs/stable/user_guide/indexing.html#returning-a-view-versus-a-copy\n",
      "  df_composition_cultivated['Cultivated_n'] = labelencoder.fit_transform(df_composition_cultivated['Cultivated'])\n"
     ]
    }
   ],
   "source": [
    "# creating instance of labelencoder for the column \"Cultivated\"\n",
    "labelencoder = LabelEncoder()# Assigning numerical values and storing in another column\n",
    "df_composition_cultivated['Cultivated_n'] = labelencoder.fit_transform(df_composition_cultivated['Cultivated'])\n",
    "\n",
    "print(df_composition_cultivated.shape)\n",
    "df_composition_cultivated = df_composition_cultivated.drop(['Depth', 'Cultivated'], axis = 1)"
   ]
  },
  {
   "cell_type": "code",
   "execution_count": 8,
   "metadata": {},
   "outputs": [
    {
     "data": {
      "text/html": [
       "<div>\n",
       "<style scoped>\n",
       "    .dataframe tbody tr th:only-of-type {\n",
       "        vertical-align: middle;\n",
       "    }\n",
       "\n",
       "    .dataframe tbody tr th {\n",
       "        vertical-align: top;\n",
       "    }\n",
       "\n",
       "    .dataframe thead th {\n",
       "        text-align: right;\n",
       "    }\n",
       "</style>\n",
       "<table border=\"1\" class=\"dataframe\">\n",
       "  <thead>\n",
       "    <tr style=\"text-align: right;\">\n",
       "      <th></th>\n",
       "      <th>pH</th>\n",
       "      <th>%N</th>\n",
       "      <th>%P</th>\n",
       "      <th>%K</th>\n",
       "      <th>%Ca</th>\n",
       "      <th>%Cu</th>\n",
       "      <th>%Fe</th>\n",
       "      <th>%Mo</th>\n",
       "      <th>depth_sub</th>\n",
       "      <th>depth_top</th>\n",
       "      <th>Cultivated_n</th>\n",
       "    </tr>\n",
       "  </thead>\n",
       "  <tbody>\n",
       "    <tr>\n",
       "      <th>0</th>\n",
       "      <td>7.85</td>\n",
       "      <td>0.08</td>\n",
       "      <td>0.00506</td>\n",
       "      <td>1.59260</td>\n",
       "      <td>0.44832</td>\n",
       "      <td>0.00098</td>\n",
       "      <td>1.16865</td>\n",
       "      <td>0.01845</td>\n",
       "      <td>0.0</td>\n",
       "      <td>1.0</td>\n",
       "      <td>1</td>\n",
       "    </tr>\n",
       "    <tr>\n",
       "      <th>1</th>\n",
       "      <td>8.03</td>\n",
       "      <td>0.06</td>\n",
       "      <td>0.00506</td>\n",
       "      <td>2.04214</td>\n",
       "      <td>0.90155</td>\n",
       "      <td>0.00124</td>\n",
       "      <td>1.59154</td>\n",
       "      <td>0.01845</td>\n",
       "      <td>1.0</td>\n",
       "      <td>0.0</td>\n",
       "      <td>1</td>\n",
       "    </tr>\n",
       "    <tr>\n",
       "      <th>2</th>\n",
       "      <td>5.01</td>\n",
       "      <td>0.05</td>\n",
       "      <td>0.00506</td>\n",
       "      <td>1.28172</td>\n",
       "      <td>0.08998</td>\n",
       "      <td>0.00093</td>\n",
       "      <td>0.88799</td>\n",
       "      <td>0.01845</td>\n",
       "      <td>0.0</td>\n",
       "      <td>1.0</td>\n",
       "      <td>0</td>\n",
       "    </tr>\n",
       "    <tr>\n",
       "      <th>3</th>\n",
       "      <td>4.57</td>\n",
       "      <td>0.05</td>\n",
       "      <td>0.00506</td>\n",
       "      <td>1.29913</td>\n",
       "      <td>0.09441</td>\n",
       "      <td>0.00130</td>\n",
       "      <td>1.25013</td>\n",
       "      <td>0.01845</td>\n",
       "      <td>1.0</td>\n",
       "      <td>0.0</td>\n",
       "      <td>0</td>\n",
       "    </tr>\n",
       "    <tr>\n",
       "      <th>4</th>\n",
       "      <td>6.78</td>\n",
       "      <td>0.09</td>\n",
       "      <td>0.00506</td>\n",
       "      <td>2.21456</td>\n",
       "      <td>0.76517</td>\n",
       "      <td>0.00144</td>\n",
       "      <td>1.48940</td>\n",
       "      <td>0.01845</td>\n",
       "      <td>0.0</td>\n",
       "      <td>1.0</td>\n",
       "      <td>0</td>\n",
       "    </tr>\n",
       "  </tbody>\n",
       "</table>\n",
       "</div>"
      ],
      "text/plain": [
       "     pH    %N       %P       %K      %Ca      %Cu      %Fe      %Mo  \\\n",
       "0  7.85  0.08  0.00506  1.59260  0.44832  0.00098  1.16865  0.01845   \n",
       "1  8.03  0.06  0.00506  2.04214  0.90155  0.00124  1.59154  0.01845   \n",
       "2  5.01  0.05  0.00506  1.28172  0.08998  0.00093  0.88799  0.01845   \n",
       "3  4.57  0.05  0.00506  1.29913  0.09441  0.00130  1.25013  0.01845   \n",
       "4  6.78  0.09  0.00506  2.21456  0.76517  0.00144  1.48940  0.01845   \n",
       "\n",
       "   depth_sub  depth_top  Cultivated_n  \n",
       "0        0.0        1.0             1  \n",
       "1        1.0        0.0             1  \n",
       "2        0.0        1.0             0  \n",
       "3        1.0        0.0             0  \n",
       "4        0.0        1.0             0  "
      ]
     },
     "execution_count": 8,
     "metadata": {},
     "output_type": "execute_result"
    }
   ],
   "source": [
    "df_composition_cultivated.head()"
   ]
  },
  {
   "cell_type": "markdown",
   "metadata": {},
   "source": [
    "#### 2.2.3 Data modeling - logistic regression"
   ]
  },
  {
   "cell_type": "code",
   "execution_count": 36,
   "metadata": {},
   "outputs": [],
   "source": [
    "\n",
    "X_cultivated = df_composition_cultivated.drop(['Cultivated_n'], axis = 1).values[:, 1:]\n",
    "from sklearn.preprocessing import StandardScaler\n",
    "X_cult_scaled = StandardScaler().fit_transform(X_cultivated) # scale those features\n",
    "y_cultivated = df_composition_cultivated['Cultivated_n'].values\n",
    "\n",
    "X1_train, X1_test, y1_train, y1_test = train_test_split(X_cult_scaled, y_cultivated, test_size = 0.2, random_state = 42)"
   ]
  },
  {
   "cell_type": "code",
   "execution_count": 40,
   "metadata": {},
   "outputs": [
    {
     "name": "stdout",
     "output_type": "stream",
     "text": [
      "Score of the logistic regression model for soil composition and fertility =  0.83\n"
     ]
    },
    {
     "name": "stderr",
     "output_type": "stream",
     "text": [
      "/home/marco/anaconda3/lib/python3.8/site-packages/sklearn/svm/_base.py:976: ConvergenceWarning: Liblinear failed to converge, increase the number of iterations.\n",
      "  warnings.warn(\"Liblinear failed to converge, increase \"\n"
     ]
    }
   ],
   "source": [
    "lr_cultivated = LogisticRegression(solver='liblinear',dual=True, random_state=42)\n",
    "\n",
    "lr_cultivated.fit(X1_train, y1_train)\n",
    "y1_pred = regr.predict(X1_test) # estimation of cultivated value based on fit\n",
    "accuracy_lr = regr.score(X1_test, y1_test)\n",
    "print('Score of the logistic regression model for soil composition and fertility = ',np.round(accuracy_lr,2))"
   ]
  },
  {
   "cell_type": "code",
   "execution_count": 41,
   "metadata": {},
   "outputs": [
    {
     "name": "stdout",
     "output_type": "stream",
     "text": [
      "              precision    recall  f1-score   support\n",
      "\n",
      "           0       0.86      0.96      0.91        25\n",
      "           1       0.50      0.20      0.29         5\n",
      "\n",
      "    accuracy                           0.83        30\n",
      "   macro avg       0.68      0.58      0.60        30\n",
      "weighted avg       0.80      0.83      0.80        30\n",
      "\n"
     ]
    },
    {
     "data": {
      "text/html": [
       "<div>\n",
       "<style scoped>\n",
       "    .dataframe tbody tr th:only-of-type {\n",
       "        vertical-align: middle;\n",
       "    }\n",
       "\n",
       "    .dataframe tbody tr th {\n",
       "        vertical-align: top;\n",
       "    }\n",
       "\n",
       "    .dataframe thead th {\n",
       "        text-align: right;\n",
       "    }\n",
       "</style>\n",
       "<table border=\"1\" class=\"dataframe\">\n",
       "  <thead>\n",
       "    <tr style=\"text-align: right;\">\n",
       "      <th></th>\n",
       "      <th>predicted negative</th>\n",
       "      <th>predicted positive</th>\n",
       "    </tr>\n",
       "  </thead>\n",
       "  <tbody>\n",
       "    <tr>\n",
       "      <th>actual negative</th>\n",
       "      <td>24</td>\n",
       "      <td>1</td>\n",
       "    </tr>\n",
       "    <tr>\n",
       "      <th>actual positive</th>\n",
       "      <td>4</td>\n",
       "      <td>1</td>\n",
       "    </tr>\n",
       "  </tbody>\n",
       "</table>\n",
       "</div>"
      ],
      "text/plain": [
       "                 predicted negative  predicted positive\n",
       "actual negative                  24                   1\n",
       "actual positive                   4                   1"
      ]
     },
     "execution_count": 41,
     "metadata": {},
     "output_type": "execute_result"
    }
   ],
   "source": [
    "cm1 = confusion_matrix(y1_test, y1_pred)\n",
    "\n",
    "print(classification_report(y1_test, y1_pred))\n",
    "\n",
    "df_confusionmatrix1 = pd.DataFrame(data=cm1, index=[\"actual negative\",\"actual positive\"], columns=[\"predicted negative\",\"predicted positive\"])\n",
    "df_confusionmatrix1 \n"
   ]
  },
  {
   "cell_type": "code",
   "execution_count": 43,
   "metadata": {},
   "outputs": [
    {
     "data": {
      "image/png": "[encoded data removed]",
      "text/plain": [
       "<IPython.core.display.Image object>"
      ]
     },
     "execution_count": 43,
     "metadata": {},
     "output_type": "execute_result"
    }
   ],
   "source": [
    "Image(filename='img/logisticregression.png') "
   ]
  },
  {
   "cell_type": "code",
   "execution_count": null,
   "metadata": {},
   "outputs": [],
   "source": []
  }
 ],
 "metadata": {
  "kernelspec": {
   "display_name": "Python 3",
   "language": "python",
   "name": "python3"
  },
  "language_info": {
   "codemirror_mode": {
    "name": "ipython",
    "version": 3
   },
   "file_extension": ".py",
   "mimetype": "text/x-python",
   "name": "python",
   "nbconvert_exporter": "python",
   "pygments_lexer": "ipython3",
   "version": "3.8.3"
  }
 },
 "nbformat": 4,
 "nbformat_minor": 4
}

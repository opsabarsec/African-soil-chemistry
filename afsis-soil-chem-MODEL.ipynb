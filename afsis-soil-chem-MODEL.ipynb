{
 "cells": [
  {
   "cell_type": "markdown",
   "metadata": {
    "toc": "true"
   },
   "source": [
    "# AfSIS Soil Chemistry Dataset - Modelling¶\n",
    "\n"
   ]
  },
  {
   "cell_type": "markdown",
   "metadata": {},
   "source": [
    "## 1. Load libraries and data"
   ]
  },
  {
   "cell_type": "code",
   "execution_count": 1,
   "metadata": {},
   "outputs": [],
   "source": [
    "#!pip install xgboost"
   ]
  },
  {
   "cell_type": "code",
   "execution_count": 80,
   "metadata": {},
   "outputs": [],
   "source": [
    "import pandas as pd\n",
    "from sys import stdout\n",
    "#from sklearn.cross_validation import cross_val_score\n",
    "from sklearn.linear_model import LinearRegression\n",
    "from sklearn.ensemble import  RandomForestRegressor, AdaBoostRegressor\n",
    "from sklearn.ensemble import GradientBoostingRegressor\n",
    "\n",
    "\n",
    "import re\n",
    "from sklearn.feature_extraction.text import TfidfVectorizer\n",
    "from sklearn.linear_model.ridge import Ridge\n",
    "from sklearn.linear_model import LogisticRegression, Lasso\n",
    "from sklearn.metrics import classification_report, confusion_matrix\n",
    "from sklearn.ensemble import RandomForestRegressor\n",
    "import xgboost \n",
    "from xgboost import XGBRegressor\n",
    "\n",
    "from sklearn.datasets import make_regression\n",
    "from sklearn import svm\n",
    "import numpy as np\n",
    "import time\n",
    "import statistics \n",
    "import statsmodels as sm\n",
    "import seaborn as sns\n",
    "import matplotlib.pyplot as plt\n",
    "from sklearn.preprocessing import OneHotEncoder\n",
    "from sklearn.preprocessing import LabelEncoder\n",
    "from sklearn.preprocessing import LabelBinarizer\n",
    "from sklearn.preprocessing import StandardScaler\n",
    "from sklearn.preprocessing import MinMaxScaler\n",
    "from sklearn.model_selection import train_test_split\n",
    "from IPython.display import Image\n",
    "\n",
    "from sklearn.decomposition import PCA\n",
    "from scipy.signal import savgol_filter\n",
    "\n",
    "from sklearn.cross_decomposition import PLSRegression\n",
    "from sklearn.cross_decomposition import PLSCanonical\n",
    "from sklearn.cross_decomposition import PLSSVD\n",
    "\n",
    "\n",
    "from sklearn.model_selection import cross_val_predict\n",
    "from sklearn.model_selection import cross_val_score\n",
    "from sklearn.metrics import mean_squared_error, r2_score\n",
    "from sklearn.model_selection import cross_validate\n",
    "from sklearn.model_selection import KFold\n",
    "from sklearn.neighbors import KNeighborsRegressor\n",
    "from sklearn.model_selection import GridSearchCV\n",
    "\n",
    "import keras\n",
    "from keras.models import Sequential\n",
    "from keras.layers import Dense, Dropout, Flatten\n",
    "from keras.layers import Conv1D,Conv2D, Reshape, MaxPooling1D\n",
    "from keras.constraints import maxnorm\n",
    "from keras.layers.normalization import BatchNormalization\n",
    "from keras.callbacks import ReduceLROnPlateau\n",
    "from keras.layers.noise import GaussianNoise"
   ]
  },
  {
   "cell_type": "code",
   "execution_count": 3,
   "metadata": {},
   "outputs": [
    {
     "data": {
      "text/html": [
       "<div>\n",
       "<style scoped>\n",
       "    .dataframe tbody tr th:only-of-type {\n",
       "        vertical-align: middle;\n",
       "    }\n",
       "\n",
       "    .dataframe tbody tr th {\n",
       "        vertical-align: top;\n",
       "    }\n",
       "\n",
       "    .dataframe thead th {\n",
       "        text-align: right;\n",
       "    }\n",
       "</style>\n",
       "<table border=\"1\" class=\"dataframe\">\n",
       "  <thead>\n",
       "    <tr style=\"text-align: right;\">\n",
       "      <th></th>\n",
       "      <th>SSN</th>\n",
       "      <th>M3 Ca</th>\n",
       "      <th>M3 K</th>\n",
       "      <th>M3 Al</th>\n",
       "      <th>M3 P</th>\n",
       "      <th>M3 S</th>\n",
       "      <th>PH</th>\n",
       "      <th>Psa asand</th>\n",
       "      <th>Psa asilt</th>\n",
       "      <th>Psa aclay</th>\n",
       "      <th>...</th>\n",
       "      <th>Zn</th>\n",
       "      <th>Fe</th>\n",
       "      <th>Mn</th>\n",
       "      <th>Mo</th>\n",
       "      <th>Latitude</th>\n",
       "      <th>Longitude</th>\n",
       "      <th>Cluster</th>\n",
       "      <th>Depth</th>\n",
       "      <th>Country</th>\n",
       "      <th>Cultivated</th>\n",
       "    </tr>\n",
       "  </thead>\n",
       "  <tbody>\n",
       "    <tr>\n",
       "      <th>0</th>\n",
       "      <td>icr006475</td>\n",
       "      <td>207.1</td>\n",
       "      <td>306.30</td>\n",
       "      <td>1095.000</td>\n",
       "      <td>4.495</td>\n",
       "      <td>18.960</td>\n",
       "      <td>4.682</td>\n",
       "      <td>97.848667</td>\n",
       "      <td>1.845333</td>\n",
       "      <td>0.306000</td>\n",
       "      <td>...</td>\n",
       "      <td>22.0</td>\n",
       "      <td>12501.3</td>\n",
       "      <td>81.9</td>\n",
       "      <td>184.5</td>\n",
       "      <td>-6.088750</td>\n",
       "      <td>36.435982</td>\n",
       "      <td>2</td>\n",
       "      <td>sub</td>\n",
       "      <td>Tanzania</td>\n",
       "      <td>False</td>\n",
       "    </tr>\n",
       "    <tr>\n",
       "      <th>1</th>\n",
       "      <td>icr006586</td>\n",
       "      <td>1665.0</td>\n",
       "      <td>1186.00</td>\n",
       "      <td>1165.000</td>\n",
       "      <td>12.510</td>\n",
       "      <td>13.600</td>\n",
       "      <td>7.062</td>\n",
       "      <td>89.520000</td>\n",
       "      <td>9.553667</td>\n",
       "      <td>0.926333</td>\n",
       "      <td>...</td>\n",
       "      <td>38.5</td>\n",
       "      <td>24094.6</td>\n",
       "      <td>422.4</td>\n",
       "      <td>184.5</td>\n",
       "      <td>-6.055750</td>\n",
       "      <td>36.457722</td>\n",
       "      <td>8</td>\n",
       "      <td>top</td>\n",
       "      <td>Tanzania</td>\n",
       "      <td>False</td>\n",
       "    </tr>\n",
       "    <tr>\n",
       "      <th>2</th>\n",
       "      <td>icr021104</td>\n",
       "      <td>258.7</td>\n",
       "      <td>35.25</td>\n",
       "      <td>441.400</td>\n",
       "      <td>4.424</td>\n",
       "      <td>3.608</td>\n",
       "      <td>5.522</td>\n",
       "      <td>89.950000</td>\n",
       "      <td>5.205000</td>\n",
       "      <td>4.845000</td>\n",
       "      <td>...</td>\n",
       "      <td>2.3</td>\n",
       "      <td>2213.4</td>\n",
       "      <td>13.2</td>\n",
       "      <td>184.5</td>\n",
       "      <td>-8.049305</td>\n",
       "      <td>37.333698</td>\n",
       "      <td>14</td>\n",
       "      <td>sub</td>\n",
       "      <td>Tanzania</td>\n",
       "      <td>False</td>\n",
       "    </tr>\n",
       "    <tr>\n",
       "      <th>3</th>\n",
       "      <td>icr033622</td>\n",
       "      <td>11858.3</td>\n",
       "      <td>1156.00</td>\n",
       "      <td>108.286</td>\n",
       "      <td>31.233</td>\n",
       "      <td>25.460</td>\n",
       "      <td>8.583</td>\n",
       "      <td>91.445000</td>\n",
       "      <td>6.310000</td>\n",
       "      <td>2.245000</td>\n",
       "      <td>...</td>\n",
       "      <td>29.8</td>\n",
       "      <td>24135.0</td>\n",
       "      <td>460.4</td>\n",
       "      <td>184.5</td>\n",
       "      <td>4.178087</td>\n",
       "      <td>38.261890</td>\n",
       "      <td>2</td>\n",
       "      <td>sub</td>\n",
       "      <td>Ethiopia</td>\n",
       "      <td>unknown</td>\n",
       "    </tr>\n",
       "    <tr>\n",
       "      <th>4</th>\n",
       "      <td>icr006570</td>\n",
       "      <td>896.2</td>\n",
       "      <td>607.30</td>\n",
       "      <td>1151.000</td>\n",
       "      <td>5.986</td>\n",
       "      <td>20.080</td>\n",
       "      <td>6.661</td>\n",
       "      <td>97.789667</td>\n",
       "      <td>1.885000</td>\n",
       "      <td>0.325667</td>\n",
       "      <td>...</td>\n",
       "      <td>13.4</td>\n",
       "      <td>9135.1</td>\n",
       "      <td>132.6</td>\n",
       "      <td>184.5</td>\n",
       "      <td>-6.069970</td>\n",
       "      <td>36.464588</td>\n",
       "      <td>7</td>\n",
       "      <td>top</td>\n",
       "      <td>Tanzania</td>\n",
       "      <td>False</td>\n",
       "    </tr>\n",
       "  </tbody>\n",
       "</table>\n",
       "<p>5 rows × 37 columns</p>\n",
       "</div>"
      ],
      "text/plain": [
       "         SSN    M3 Ca     M3 K     M3 Al    M3 P    M3 S     PH  Psa asand  \\\n",
       "0  icr006475    207.1   306.30  1095.000   4.495  18.960  4.682  97.848667   \n",
       "1  icr006586   1665.0  1186.00  1165.000  12.510  13.600  7.062  89.520000   \n",
       "2  icr021104    258.7    35.25   441.400   4.424   3.608  5.522  89.950000   \n",
       "3  icr033622  11858.3  1156.00   108.286  31.233  25.460  8.583  91.445000   \n",
       "4  icr006570    896.2   607.30  1151.000   5.986  20.080  6.661  97.789667   \n",
       "\n",
       "   Psa asilt  Psa aclay  ...    Zn       Fe     Mn     Mo  Latitude  \\\n",
       "0   1.845333   0.306000  ...  22.0  12501.3   81.9  184.5 -6.088750   \n",
       "1   9.553667   0.926333  ...  38.5  24094.6  422.4  184.5 -6.055750   \n",
       "2   5.205000   4.845000  ...   2.3   2213.4   13.2  184.5 -8.049305   \n",
       "3   6.310000   2.245000  ...  29.8  24135.0  460.4  184.5  4.178087   \n",
       "4   1.885000   0.325667  ...  13.4   9135.1  132.6  184.5 -6.069970   \n",
       "\n",
       "   Longitude  Cluster  Depth   Country  Cultivated  \n",
       "0  36.435982        2    sub  Tanzania       False  \n",
       "1  36.457722        8    top  Tanzania       False  \n",
       "2  37.333698       14    sub  Tanzania       False  \n",
       "3  38.261890        2    sub  Ethiopia     unknown  \n",
       "4  36.464588        7    top  Tanzania       False  \n",
       "\n",
       "[5 rows x 37 columns]"
      ]
     },
     "execution_count": 3,
     "metadata": {},
     "output_type": "execute_result"
    }
   ],
   "source": [
    "df_composition = pd.read_csv('elemental_analysis_dataset.csv')\n",
    "#df_composition = df_composition.rename(columns={\"P\": \"%P\", \"K\": \"%K\",\"Ca\": \"%Ca\", \"Cu\": \"%Cu\", \"Fe\": \"%Fe\", \"Mo\": \"%Mo\",\"Mg\": \"%Mg\",\"S\": \"%S\",\"Mn\": \"%Mn\",\"Zn\": \"%Zn\" , \"Cl\": \"%Cl\",})\n",
    "df_composition.head()"
   ]
  },
  {
   "cell_type": "code",
   "execution_count": 4,
   "metadata": {},
   "outputs": [
    {
     "name": "stdout",
     "output_type": "stream",
     "text": [
      "Index(['SSN', 'M3 Ca', 'M3 K', 'M3 Al', 'M3 P', 'M3 S', 'PH', 'Psa asand',\n",
      "       'Psa asilt', 'Psa aclay', 'Volfr', 'Awc1', 'Lshrinkpct',\n",
      "       'Flash2000_N_ppm', 'Acidified carbon', 'pH', 'Leco_N_ppm', 'C % Org',\n",
      "       'ICP OES K mg/kg ', 'ICP OES P mg/kg ', 'P', 'K', 'S', 'Ca', 'Mg', 'Cu',\n",
      "       'Cl', 'Zn', 'Fe', 'Mn', 'Mo', 'Latitude', 'Longitude', 'Cluster',\n",
      "       'Depth', 'Country', 'Cultivated'],\n",
      "      dtype='object')\n"
     ]
    }
   ],
   "source": [
    "print(df_composition.columns)"
   ]
  },
  {
   "cell_type": "markdown",
   "metadata": {},
   "source": [
    "## 2. Elemental analysis and soil fertility"
   ]
  },
  {
   "cell_type": "markdown",
   "metadata": {},
   "source": [
    "### 2.1 Soil chemistry variables correlation"
   ]
  },
  {
   "cell_type": "code",
   "execution_count": 5,
   "metadata": {},
   "outputs": [
    {
     "data": {
      "text/plain": [
       "<matplotlib.axes._subplots.AxesSubplot at 0x7f0dcfa828b0>"
      ]
     },
     "execution_count": 5,
     "metadata": {},
     "output_type": "execute_result"
    },
    {
     "data": {
      "image/png": "[encoded data removed]",
      "text/plain": [
       "<Figure size 792x648 with 2 Axes>"
      ]
     },
     "metadata": {
      "needs_background": "light"
     },
     "output_type": "display_data"
    }
   ],
   "source": [
    "# Compute the correlation matrix\n",
    "corr = df_composition.corr()\n",
    "\n",
    "# Generate a mask for the upper triangle\n",
    "mask = np.triu(np.ones_like(corr, dtype=bool))\n",
    "\n",
    "# Set up the matplotlib figure\n",
    "f, ax = plt.subplots(figsize=(11, 9))\n",
    "\n",
    "# Generate a custom diverging colormap\n",
    "cmap = sns.diverging_palette(230, 20, as_cmap=True)\n",
    "\n",
    "# Draw the heatmap with the mask and correct aspect ratio\n",
    "sns.heatmap(corr, mask=mask, cmap=cmap, vmax=.95, center=0,\n",
    "            square=True, linewidths=.5, cbar_kws={\"shrink\": .5})"
   ]
  },
  {
   "cell_type": "markdown",
   "metadata": {},
   "source": [
    "The figures show poor correlation. Surprising that this is true comparing the same element concentration estimated using ICP Optical Emission Spectrometry (ICP-OES-K) and X-rays fluorescence (K)"
   ]
  },
  {
   "cell_type": "code",
   "execution_count": 6,
   "metadata": {},
   "outputs": [
    {
     "data": {
      "text/html": [
       "<div>\n",
       "<style scoped>\n",
       "    .dataframe tbody tr th:only-of-type {\n",
       "        vertical-align: middle;\n",
       "    }\n",
       "\n",
       "    .dataframe tbody tr th {\n",
       "        vertical-align: top;\n",
       "    }\n",
       "\n",
       "    .dataframe thead th {\n",
       "        text-align: right;\n",
       "    }\n",
       "</style>\n",
       "<table border=\"1\" class=\"dataframe\">\n",
       "  <thead>\n",
       "    <tr style=\"text-align: right;\">\n",
       "      <th></th>\n",
       "      <th>M3 K</th>\n",
       "      <th>ICP OES K mg/kg</th>\n",
       "      <th>K</th>\n",
       "      <th>M3 P</th>\n",
       "      <th>ICP OES P mg/kg</th>\n",
       "      <th>P</th>\n",
       "      <th>M3 S</th>\n",
       "      <th>S</th>\n",
       "      <th>PH</th>\n",
       "      <th>pH</th>\n",
       "      <th>Flash2000_N_ppm</th>\n",
       "      <th>Leco_N_ppm</th>\n",
       "      <th>Acidified carbon</th>\n",
       "      <th>C % Org</th>\n",
       "    </tr>\n",
       "  </thead>\n",
       "  <tbody>\n",
       "    <tr>\n",
       "      <th>0</th>\n",
       "      <td>306.30</td>\n",
       "      <td>1487.768795</td>\n",
       "      <td>12991.3</td>\n",
       "      <td>4.495</td>\n",
       "      <td>83.555482</td>\n",
       "      <td>50.6</td>\n",
       "      <td>18.960</td>\n",
       "      <td>45.7</td>\n",
       "      <td>4.682</td>\n",
       "      <td>4.57</td>\n",
       "      <td>392.82719</td>\n",
       "      <td>500.0</td>\n",
       "      <td>0.429813</td>\n",
       "      <td>0.47</td>\n",
       "    </tr>\n",
       "    <tr>\n",
       "      <th>1</th>\n",
       "      <td>1186.00</td>\n",
       "      <td>9379.867053</td>\n",
       "      <td>15173.5</td>\n",
       "      <td>12.510</td>\n",
       "      <td>230.593961</td>\n",
       "      <td>50.6</td>\n",
       "      <td>13.600</td>\n",
       "      <td>45.7</td>\n",
       "      <td>7.062</td>\n",
       "      <td>7.06</td>\n",
       "      <td>859.46908</td>\n",
       "      <td>1100.0</td>\n",
       "      <td>0.912364</td>\n",
       "      <td>1.09</td>\n",
       "    </tr>\n",
       "    <tr>\n",
       "      <th>2</th>\n",
       "      <td>35.25</td>\n",
       "      <td>272.882131</td>\n",
       "      <td>6838.9</td>\n",
       "      <td>4.424</td>\n",
       "      <td>29.281256</td>\n",
       "      <td>50.6</td>\n",
       "      <td>3.608</td>\n",
       "      <td>45.7</td>\n",
       "      <td>5.522</td>\n",
       "      <td>5.27</td>\n",
       "      <td>186.29957</td>\n",
       "      <td>200.0</td>\n",
       "      <td>0.219614</td>\n",
       "      <td>0.25</td>\n",
       "    </tr>\n",
       "    <tr>\n",
       "      <th>3</th>\n",
       "      <td>1156.00</td>\n",
       "      <td>5259.289698</td>\n",
       "      <td>15845.8</td>\n",
       "      <td>31.233</td>\n",
       "      <td>622.223963</td>\n",
       "      <td>431.6</td>\n",
       "      <td>25.460</td>\n",
       "      <td>45.7</td>\n",
       "      <td>8.583</td>\n",
       "      <td>8.50</td>\n",
       "      <td>1026.56581</td>\n",
       "      <td>900.0</td>\n",
       "      <td>1.083015</td>\n",
       "      <td>1.01</td>\n",
       "    </tr>\n",
       "    <tr>\n",
       "      <th>4</th>\n",
       "      <td>607.30</td>\n",
       "      <td>2434.413016</td>\n",
       "      <td>12201.6</td>\n",
       "      <td>5.986</td>\n",
       "      <td>115.206106</td>\n",
       "      <td>50.6</td>\n",
       "      <td>20.080</td>\n",
       "      <td>45.7</td>\n",
       "      <td>6.661</td>\n",
       "      <td>6.50</td>\n",
       "      <td>377.73812</td>\n",
       "      <td>600.0</td>\n",
       "      <td>0.527140</td>\n",
       "      <td>0.62</td>\n",
       "    </tr>\n",
       "  </tbody>\n",
       "</table>\n",
       "</div>"
      ],
      "text/plain": [
       "      M3 K  ICP OES K mg/kg         K    M3 P  ICP OES P mg/kg       P  \\\n",
       "0   306.30       1487.768795  12991.3   4.495         83.555482   50.6   \n",
       "1  1186.00       9379.867053  15173.5  12.510        230.593961   50.6   \n",
       "2    35.25        272.882131   6838.9   4.424         29.281256   50.6   \n",
       "3  1156.00       5259.289698  15845.8  31.233        622.223963  431.6   \n",
       "4   607.30       2434.413016  12201.6   5.986        115.206106   50.6   \n",
       "\n",
       "     M3 S     S     PH    pH  Flash2000_N_ppm  Leco_N_ppm  Acidified carbon  \\\n",
       "0  18.960  45.7  4.682  4.57        392.82719       500.0          0.429813   \n",
       "1  13.600  45.7  7.062  7.06        859.46908      1100.0          0.912364   \n",
       "2   3.608  45.7  5.522  5.27        186.29957       200.0          0.219614   \n",
       "3  25.460  45.7  8.583  8.50       1026.56581       900.0          1.083015   \n",
       "4  20.080  45.7  6.661  6.50        377.73812       600.0          0.527140   \n",
       "\n",
       "   C % Org  \n",
       "0     0.47  \n",
       "1     1.09  \n",
       "2     0.25  \n",
       "3     1.01  \n",
       "4     0.62  "
      ]
     },
     "execution_count": 6,
     "metadata": {},
     "output_type": "execute_result"
    }
   ],
   "source": [
    "selected = [ 'M3 K', 'ICP OES K mg/kg ', 'K','M3 P', 'ICP OES P mg/kg ', 'P', 'M3 S', 'S','PH','pH', 'Flash2000_N_ppm', 'Leco_N_ppm','Acidified carbon', 'C % Org']\n",
    "df_corr = df_composition[selected]\n",
    "df_corr.head()"
   ]
  },
  {
   "cell_type": "code",
   "execution_count": 82,
   "metadata": {},
   "outputs": [
    {
     "name": "stdout",
     "output_type": "stream",
     "text": [
      "Variance of sample set is 1.2\n",
      "pH MSE 0.2\n"
     ]
    },
    {
     "data": {
      "text/plain": [
       "<matplotlib.axes._subplots.AxesSubplot at 0x7f0cf312cc40>"
      ]
     },
     "execution_count": 82,
     "metadata": {},
     "output_type": "execute_result"
    },
    {
     "data": {
      "image/png": "[encoded data removed]",
      "text/plain": [
       "<Figure size 792x648 with 2 Axes>"
      ]
     },
     "metadata": {
      "needs_background": "light"
     },
     "output_type": "display_data"
    }
   ],
   "source": [
    "#max_pH = 10\n",
    "ph_mse = mean_squared_error(df_corr['pH'],df_corr['PH'])\n",
    "ph_rmse = np.sqrt(mean_squared_error(df_corr['pH'],df_corr['PH']))\n",
    "print(\"Variance of sample set is % s\" %(round(statistics.variance(df_corr['pH']),2)) )\n",
    "print('pH MSE',np.round(ph_mse,2))\n",
    "# Compute the correlation matrix\n",
    "corr = df_corr.corr()\n",
    "\n",
    "# Generate a mask for the upper triangle\n",
    "mask = np.triu(np.ones_like(corr, dtype=bool))\n",
    "\n",
    "# Set up the matplotlib figure\n",
    "f, ax = plt.subplots(figsize=(11, 9))\n",
    "\n",
    "# Generate a custom diverging colormap\n",
    "cmap = sns.diverging_palette(230, 20, as_cmap=True)\n",
    "\n",
    "# Draw the heatmap with the mask and correct aspect ratio\n",
    "sns.heatmap(corr, mask=mask, cmap=cmap, vmax=1, center=0,\n",
    "            square=True, linewidths=.5, cbar_kws={\"shrink\": .5})"
   ]
  },
  {
   "cell_type": "markdown",
   "metadata": {},
   "source": [
    "### 2.2 Composition - fertility correlation"
   ]
  },
  {
   "cell_type": "markdown",
   "metadata": {},
   "source": [
    "#### 2.2.1 Features selection"
   ]
  },
  {
   "cell_type": "code",
   "execution_count": 8,
   "metadata": {},
   "outputs": [
    {
     "name": "stdout",
     "output_type": "stream",
     "text": [
      "AWC1 is a meaurement of water content\n",
      "Flash2000_N_ppm is a measurement of nitrogen concentration expressed in ppm\n",
      "acidified carbon is a measurement of % organic matter into the soil\n",
      "\n"
     ]
    },
    {
     "data": {
      "text/html": [
       "<div>\n",
       "<style scoped>\n",
       "    .dataframe tbody tr th:only-of-type {\n",
       "        vertical-align: middle;\n",
       "    }\n",
       "\n",
       "    .dataframe tbody tr th {\n",
       "        vertical-align: top;\n",
       "    }\n",
       "\n",
       "    .dataframe thead th {\n",
       "        text-align: right;\n",
       "    }\n",
       "</style>\n",
       "<table border=\"1\" class=\"dataframe\">\n",
       "  <thead>\n",
       "    <tr style=\"text-align: right;\">\n",
       "      <th></th>\n",
       "      <th>pH</th>\n",
       "      <th>Flash2000_N_ppm</th>\n",
       "      <th>Awc1</th>\n",
       "      <th>P</th>\n",
       "      <th>K</th>\n",
       "      <th>S</th>\n",
       "      <th>Ca</th>\n",
       "      <th>Mg</th>\n",
       "      <th>Cu</th>\n",
       "      <th>Cl</th>\n",
       "      <th>Zn</th>\n",
       "      <th>Fe</th>\n",
       "      <th>Depth</th>\n",
       "      <th>Cultivated</th>\n",
       "    </tr>\n",
       "  </thead>\n",
       "  <tbody>\n",
       "    <tr>\n",
       "      <th>0</th>\n",
       "      <td>4.57</td>\n",
       "      <td>392.82719</td>\n",
       "      <td>0.034962</td>\n",
       "      <td>50.6</td>\n",
       "      <td>12991.3</td>\n",
       "      <td>45.7</td>\n",
       "      <td>944.1</td>\n",
       "      <td>5575.0</td>\n",
       "      <td>13.0</td>\n",
       "      <td>210.2</td>\n",
       "      <td>22.0</td>\n",
       "      <td>12501.3</td>\n",
       "      <td>sub</td>\n",
       "      <td>False</td>\n",
       "    </tr>\n",
       "    <tr>\n",
       "      <th>1</th>\n",
       "      <td>7.06</td>\n",
       "      <td>859.46908</td>\n",
       "      <td>0.042649</td>\n",
       "      <td>50.6</td>\n",
       "      <td>15173.5</td>\n",
       "      <td>45.7</td>\n",
       "      <td>9301.0</td>\n",
       "      <td>5519.1</td>\n",
       "      <td>18.4</td>\n",
       "      <td>152.6</td>\n",
       "      <td>38.5</td>\n",
       "      <td>24094.6</td>\n",
       "      <td>top</td>\n",
       "      <td>False</td>\n",
       "    </tr>\n",
       "    <tr>\n",
       "      <th>2</th>\n",
       "      <td>5.27</td>\n",
       "      <td>186.29957</td>\n",
       "      <td>0.091913</td>\n",
       "      <td>50.6</td>\n",
       "      <td>6838.9</td>\n",
       "      <td>45.7</td>\n",
       "      <td>884.3</td>\n",
       "      <td>5575.0</td>\n",
       "      <td>2.8</td>\n",
       "      <td>229.5</td>\n",
       "      <td>2.3</td>\n",
       "      <td>2213.4</td>\n",
       "      <td>sub</td>\n",
       "      <td>False</td>\n",
       "    </tr>\n",
       "    <tr>\n",
       "      <th>3</th>\n",
       "      <td>8.50</td>\n",
       "      <td>1026.56581</td>\n",
       "      <td>0.159708</td>\n",
       "      <td>431.6</td>\n",
       "      <td>15845.8</td>\n",
       "      <td>45.7</td>\n",
       "      <td>46529.1</td>\n",
       "      <td>33771.2</td>\n",
       "      <td>13.0</td>\n",
       "      <td>58.2</td>\n",
       "      <td>29.8</td>\n",
       "      <td>24135.0</td>\n",
       "      <td>sub</td>\n",
       "      <td>unknown</td>\n",
       "    </tr>\n",
       "    <tr>\n",
       "      <th>4</th>\n",
       "      <td>6.50</td>\n",
       "      <td>377.73812</td>\n",
       "      <td>0.033089</td>\n",
       "      <td>50.6</td>\n",
       "      <td>12201.6</td>\n",
       "      <td>45.7</td>\n",
       "      <td>1790.1</td>\n",
       "      <td>5575.0</td>\n",
       "      <td>7.7</td>\n",
       "      <td>122.5</td>\n",
       "      <td>13.4</td>\n",
       "      <td>9135.1</td>\n",
       "      <td>top</td>\n",
       "      <td>False</td>\n",
       "    </tr>\n",
       "  </tbody>\n",
       "</table>\n",
       "</div>"
      ],
      "text/plain": [
       "     pH  Flash2000_N_ppm      Awc1      P        K     S       Ca       Mg  \\\n",
       "0  4.57        392.82719  0.034962   50.6  12991.3  45.7    944.1   5575.0   \n",
       "1  7.06        859.46908  0.042649   50.6  15173.5  45.7   9301.0   5519.1   \n",
       "2  5.27        186.29957  0.091913   50.6   6838.9  45.7    884.3   5575.0   \n",
       "3  8.50       1026.56581  0.159708  431.6  15845.8  45.7  46529.1  33771.2   \n",
       "4  6.50        377.73812  0.033089   50.6  12201.6  45.7   1790.1   5575.0   \n",
       "\n",
       "     Cu     Cl    Zn       Fe Depth Cultivated  \n",
       "0  13.0  210.2  22.0  12501.3   sub      False  \n",
       "1  18.4  152.6  38.5  24094.6   top      False  \n",
       "2   2.8  229.5   2.3   2213.4   sub      False  \n",
       "3  13.0   58.2  29.8  24135.0   sub    unknown  \n",
       "4   7.7  122.5  13.4   9135.1   top      False  "
      ]
     },
     "execution_count": 8,
     "metadata": {},
     "output_type": "execute_result"
    }
   ],
   "source": [
    "elemental_variables = ['pH','Flash2000_N_ppm','Awc1','P', 'K', 'S', 'Ca', 'Mg', 'Cu',\n",
    "       'Cl', 'Zn', 'Fe', 'Depth', 'Cultivated']\n",
    "# major and oligoelements are taken into account for the soil composition\n",
    "\n",
    "df_composition_reduced = df_composition[elemental_variables]\n",
    "print(\"AWC1 is a meaurement of water content\")\n",
    "print(\"Flash2000_N_ppm is a measurement of nitrogen concentration expressed in ppm\")\n",
    "print(\"acidified carbon is a measurement of % organic matter into the soil\")\n",
    "print('')\n",
    "df_composition_reduced.head()"
   ]
  },
  {
   "cell_type": "markdown",
   "metadata": {},
   "source": [
    "#### 2.2.2 Categorical features encoding"
   ]
  },
  {
   "cell_type": "code",
   "execution_count": 9,
   "metadata": {},
   "outputs": [],
   "source": [
    "# creating instance of one-hot-encoder\n",
    "enc = OneHotEncoder(sparse=False)# label encoded values of depth\n",
    "enc_df = pd.DataFrame(enc.fit_transform(df_composition_reduced[['Depth']]), columns = ['depth_sub','depth_top'])\n",
    "\n",
    "df_composition_reduced = pd.merge(df_composition_reduced, enc_df, left_index=True, right_index=True)\n",
    "df_composition_reduced = df_composition_reduced.reset_index(drop = True)\n"
   ]
  },
  {
   "cell_type": "code",
   "execution_count": 10,
   "metadata": {},
   "outputs": [
    {
     "name": "stdout",
     "output_type": "stream",
     "text": [
      "['False' 'True']\n"
     ]
    }
   ],
   "source": [
    "df_composition_cultivated  = df_composition_reduced[df_composition_reduced['Cultivated'] != \"unknown\"]  # eliminate unknown values\n",
    "print(df_composition_cultivated['Cultivated'].unique())"
   ]
  },
  {
   "cell_type": "code",
   "execution_count": 98,
   "metadata": {},
   "outputs": [],
   "source": [
    "# creating instance of labelencoder for the column \"Cultivated\"\n",
    "labelencoder = LabelEncoder()# Assigning numerical values and storing in another column\n",
    "df_composition_cultivated['Cultivated_n'] = labelencoder.fit_transform(df_composition_cultivated['Cultivated'])\n",
    "\n",
    "print(df_composition_cultivated.shape)\n",
    "df_composition_cultivated = df_composition_cultivated.drop(['Depth', 'Cultivated'], axis = 1)"
   ]
  },
  {
   "cell_type": "code",
   "execution_count": 105,
   "metadata": {},
   "outputs": [
    {
     "name": "stdout",
     "output_type": "stream",
     "text": [
      "% fertile land samples 22.3\n"
     ]
    }
   ],
   "source": [
    "pc_pos  = (df_composition_cultivated['Cultivated_n'].sum()/148)*100\n",
    "print('% fertile land samples',np.round(pc_pos,1))"
   ]
  },
  {
   "cell_type": "code",
   "execution_count": 12,
   "metadata": {},
   "outputs": [
    {
     "data": {
      "text/html": [
       "<div>\n",
       "<style scoped>\n",
       "    .dataframe tbody tr th:only-of-type {\n",
       "        vertical-align: middle;\n",
       "    }\n",
       "\n",
       "    .dataframe tbody tr th {\n",
       "        vertical-align: top;\n",
       "    }\n",
       "\n",
       "    .dataframe thead th {\n",
       "        text-align: right;\n",
       "    }\n",
       "</style>\n",
       "<table border=\"1\" class=\"dataframe\">\n",
       "  <thead>\n",
       "    <tr style=\"text-align: right;\">\n",
       "      <th></th>\n",
       "      <th>pH</th>\n",
       "      <th>Flash2000_N_ppm</th>\n",
       "      <th>Awc1</th>\n",
       "      <th>P</th>\n",
       "      <th>K</th>\n",
       "      <th>S</th>\n",
       "      <th>Ca</th>\n",
       "      <th>Mg</th>\n",
       "      <th>Cu</th>\n",
       "      <th>Cl</th>\n",
       "      <th>Zn</th>\n",
       "      <th>Fe</th>\n",
       "      <th>depth_sub</th>\n",
       "      <th>depth_top</th>\n",
       "      <th>Cultivated_n</th>\n",
       "    </tr>\n",
       "  </thead>\n",
       "  <tbody>\n",
       "    <tr>\n",
       "      <th>0</th>\n",
       "      <td>4.57</td>\n",
       "      <td>392.82719</td>\n",
       "      <td>0.034962</td>\n",
       "      <td>50.6</td>\n",
       "      <td>12991.3</td>\n",
       "      <td>45.7</td>\n",
       "      <td>944.1</td>\n",
       "      <td>5575.0</td>\n",
       "      <td>13.0</td>\n",
       "      <td>210.2</td>\n",
       "      <td>22.0</td>\n",
       "      <td>12501.3</td>\n",
       "      <td>1.0</td>\n",
       "      <td>0.0</td>\n",
       "      <td>0</td>\n",
       "    </tr>\n",
       "    <tr>\n",
       "      <th>1</th>\n",
       "      <td>7.06</td>\n",
       "      <td>859.46908</td>\n",
       "      <td>0.042649</td>\n",
       "      <td>50.6</td>\n",
       "      <td>15173.5</td>\n",
       "      <td>45.7</td>\n",
       "      <td>9301.0</td>\n",
       "      <td>5519.1</td>\n",
       "      <td>18.4</td>\n",
       "      <td>152.6</td>\n",
       "      <td>38.5</td>\n",
       "      <td>24094.6</td>\n",
       "      <td>0.0</td>\n",
       "      <td>1.0</td>\n",
       "      <td>0</td>\n",
       "    </tr>\n",
       "    <tr>\n",
       "      <th>2</th>\n",
       "      <td>5.27</td>\n",
       "      <td>186.29957</td>\n",
       "      <td>0.091913</td>\n",
       "      <td>50.6</td>\n",
       "      <td>6838.9</td>\n",
       "      <td>45.7</td>\n",
       "      <td>884.3</td>\n",
       "      <td>5575.0</td>\n",
       "      <td>2.8</td>\n",
       "      <td>229.5</td>\n",
       "      <td>2.3</td>\n",
       "      <td>2213.4</td>\n",
       "      <td>1.0</td>\n",
       "      <td>0.0</td>\n",
       "      <td>0</td>\n",
       "    </tr>\n",
       "    <tr>\n",
       "      <th>4</th>\n",
       "      <td>6.50</td>\n",
       "      <td>377.73812</td>\n",
       "      <td>0.033089</td>\n",
       "      <td>50.6</td>\n",
       "      <td>12201.6</td>\n",
       "      <td>45.7</td>\n",
       "      <td>1790.1</td>\n",
       "      <td>5575.0</td>\n",
       "      <td>7.7</td>\n",
       "      <td>122.5</td>\n",
       "      <td>13.4</td>\n",
       "      <td>9135.1</td>\n",
       "      <td>0.0</td>\n",
       "      <td>1.0</td>\n",
       "      <td>0</td>\n",
       "    </tr>\n",
       "    <tr>\n",
       "      <th>5</th>\n",
       "      <td>5.41</td>\n",
       "      <td>2520.21961</td>\n",
       "      <td>0.112162</td>\n",
       "      <td>50.6</td>\n",
       "      <td>4731.1</td>\n",
       "      <td>45.7</td>\n",
       "      <td>4924.8</td>\n",
       "      <td>5575.0</td>\n",
       "      <td>56.1</td>\n",
       "      <td>145.1</td>\n",
       "      <td>40.6</td>\n",
       "      <td>67075.9</td>\n",
       "      <td>0.0</td>\n",
       "      <td>1.0</td>\n",
       "      <td>0</td>\n",
       "    </tr>\n",
       "  </tbody>\n",
       "</table>\n",
       "</div>"
      ],
      "text/plain": [
       "     pH  Flash2000_N_ppm      Awc1     P        K     S      Ca      Mg    Cu  \\\n",
       "0  4.57        392.82719  0.034962  50.6  12991.3  45.7   944.1  5575.0  13.0   \n",
       "1  7.06        859.46908  0.042649  50.6  15173.5  45.7  9301.0  5519.1  18.4   \n",
       "2  5.27        186.29957  0.091913  50.6   6838.9  45.7   884.3  5575.0   2.8   \n",
       "4  6.50        377.73812  0.033089  50.6  12201.6  45.7  1790.1  5575.0   7.7   \n",
       "5  5.41       2520.21961  0.112162  50.6   4731.1  45.7  4924.8  5575.0  56.1   \n",
       "\n",
       "      Cl    Zn       Fe  depth_sub  depth_top  Cultivated_n  \n",
       "0  210.2  22.0  12501.3        1.0        0.0             0  \n",
       "1  152.6  38.5  24094.6        0.0        1.0             0  \n",
       "2  229.5   2.3   2213.4        1.0        0.0             0  \n",
       "4  122.5  13.4   9135.1        0.0        1.0             0  \n",
       "5  145.1  40.6  67075.9        0.0        1.0             0  "
      ]
     },
     "execution_count": 12,
     "metadata": {},
     "output_type": "execute_result"
    }
   ],
   "source": [
    "df_composition_cultivated.head()"
   ]
  },
  {
   "cell_type": "markdown",
   "metadata": {},
   "source": [
    "#### 2.2.3 Data modeling - logistic regression"
   ]
  },
  {
   "cell_type": "code",
   "execution_count": 13,
   "metadata": {},
   "outputs": [],
   "source": [
    "\n",
    "X_cultivated = df_composition_cultivated.drop(['Cultivated_n'], axis = 1).values[:, 1:]\n",
    "\n",
    "X_cult_scaled = StandardScaler().fit_transform(X_cultivated) # scale those features\n",
    "y_cultivated = df_composition_cultivated['Cultivated_n'].values\n",
    "\n",
    "X1_train, X1_test, y1_train, y1_test = train_test_split(X_cult_scaled, y_cultivated, test_size = 0.2, random_state = 42)"
   ]
  },
  {
   "cell_type": "code",
   "execution_count": 14,
   "metadata": {},
   "outputs": [
    {
     "name": "stdout",
     "output_type": "stream",
     "text": [
      "Score of the logistic regression model for soil composition and fertility =  0.83\n"
     ]
    },
    {
     "name": "stderr",
     "output_type": "stream",
     "text": [
      "/home/marco/anaconda3/lib/python3.8/site-packages/sklearn/svm/_base.py:976: ConvergenceWarning: Liblinear failed to converge, increase the number of iterations.\n",
      "  warnings.warn(\"Liblinear failed to converge, increase \"\n"
     ]
    }
   ],
   "source": [
    "lr_cultivated = LogisticRegression(solver='liblinear',dual=True, random_state=42)\n",
    "\n",
    "lr_cultivated.fit(X1_train, y1_train)\n",
    "y1_pred = lr_cultivated.predict(X1_test) # estimation of cultivated value based on fit\n",
    "accuracy_lr = lr_cultivated.score(X1_test, y1_test)\n",
    "print('Score of the logistic regression model for soil composition and fertility = ',np.round(accuracy_lr,2))"
   ]
  },
  {
   "cell_type": "code",
   "execution_count": 15,
   "metadata": {},
   "outputs": [
    {
     "name": "stdout",
     "output_type": "stream",
     "text": [
      "              precision    recall  f1-score   support\n",
      "\n",
      "           0       0.89      0.93      0.91        27\n",
      "           1       0.00      0.00      0.00         3\n",
      "\n",
      "    accuracy                           0.83        30\n",
      "   macro avg       0.45      0.46      0.45        30\n",
      "weighted avg       0.80      0.83      0.82        30\n",
      "\n"
     ]
    },
    {
     "data": {
      "text/html": [
       "<div>\n",
       "<style scoped>\n",
       "    .dataframe tbody tr th:only-of-type {\n",
       "        vertical-align: middle;\n",
       "    }\n",
       "\n",
       "    .dataframe tbody tr th {\n",
       "        vertical-align: top;\n",
       "    }\n",
       "\n",
       "    .dataframe thead th {\n",
       "        text-align: right;\n",
       "    }\n",
       "</style>\n",
       "<table border=\"1\" class=\"dataframe\">\n",
       "  <thead>\n",
       "    <tr style=\"text-align: right;\">\n",
       "      <th></th>\n",
       "      <th>predicted negative</th>\n",
       "      <th>predicted positive</th>\n",
       "    </tr>\n",
       "  </thead>\n",
       "  <tbody>\n",
       "    <tr>\n",
       "      <th>actual negative</th>\n",
       "      <td>25</td>\n",
       "      <td>2</td>\n",
       "    </tr>\n",
       "    <tr>\n",
       "      <th>actual positive</th>\n",
       "      <td>3</td>\n",
       "      <td>0</td>\n",
       "    </tr>\n",
       "  </tbody>\n",
       "</table>\n",
       "</div>"
      ],
      "text/plain": [
       "                 predicted negative  predicted positive\n",
       "actual negative                  25                   2\n",
       "actual positive                   3                   0"
      ]
     },
     "execution_count": 15,
     "metadata": {},
     "output_type": "execute_result"
    }
   ],
   "source": [
    "cm1 = confusion_matrix(y1_test, y1_pred)\n",
    "\n",
    "print(classification_report(y1_test, y1_pred))\n",
    "\n",
    "df_confusionmatrix1 = pd.DataFrame(data=cm1, index=[\"actual negative\",\"actual positive\"], columns=[\"predicted negative\",\"predicted positive\"])\n",
    "df_confusionmatrix1 "
   ]
  },
  {
   "cell_type": "code",
   "execution_count": 16,
   "metadata": {},
   "outputs": [
    {
     "name": "stderr",
     "output_type": "stream",
     "text": [
      "/home/marco/anaconda3/lib/python3.8/site-packages/sklearn/model_selection/_split.py:670: UserWarning: The least populated class in y has only 3 members, which is less than n_splits=5.\n",
      "  warnings.warn((\"The least populated class in y has only %d\"\n",
      "/home/marco/anaconda3/lib/python3.8/site-packages/sklearn/model_selection/_split.py:670: UserWarning: The least populated class in y has only 3 members, which is less than n_splits=5.\n",
      "  warnings.warn((\"The least populated class in y has only %d\"\n"
     ]
    },
    {
     "data": {
      "text/plain": [
       "array([0.83333333, 0.5       , 0.83333333, 0.83333333, 0.83333333])"
      ]
     },
     "execution_count": 16,
     "metadata": {},
     "output_type": "execute_result"
    }
   ],
   "source": [
    "# Cross-validation\n",
    "y_cv = cross_val_predict(lr_cultivated, X1_test, y1_test, cv=5)\n",
    "scores = cross_val_score(lr_cultivated, X1_test, y1_test, cv=5)\n",
    "scores"
   ]
  },
  {
   "cell_type": "code",
   "execution_count": 17,
   "metadata": {},
   "outputs": [
    {
     "name": "stdout",
     "output_type": "stream",
     "text": [
      "Logistic Regression: 1-dimensional representation\n"
     ]
    },
    {
     "data": {
      "image/png": "[encoded data removed]",
      "text/plain": [
       "<IPython.core.display.Image object>"
      ]
     },
     "execution_count": 17,
     "metadata": {},
     "output_type": "execute_result"
    }
   ],
   "source": [
    "print(\"Logistic Regression: 1-dimensional representation\")\n",
    "Image(filename='img/logisticregression.png') "
   ]
  },
  {
   "cell_type": "code",
   "execution_count": 18,
   "metadata": {},
   "outputs": [
    {
     "name": "stdout",
     "output_type": "stream",
     "text": [
      "the new component contains [30.6097796  18.49971864 15.10061963 10.03959827  7.97674046] % of the information from the 5 variables for a total of 82.22645659713287 %\n"
     ]
    }
   ],
   "source": [
    "n_components = 5\n",
    "\n",
    "pca = PCA(n_components= n_components)\n",
    "principalComponents = pca.fit_transform(X_cult_scaled)\n",
    "\n",
    "df_PCA_composition = pd.DataFrame(data = principalComponents , columns = ['compositional_component1','compositional_component2','compositional_component3','compositional_component4','compositional_component5'])\n",
    "\n",
    "\n",
    "print('the new component contains',pca.explained_variance_ratio_ * 100, '% of the information from the', n_components ,'variables', 'for a total of',sum(pca.explained_variance_ratio_ * 100),'%' )\n",
    "#"
   ]
  },
  {
   "cell_type": "code",
   "execution_count": 19,
   "metadata": {},
   "outputs": [
    {
     "name": "stdout",
     "output_type": "stream",
     "text": [
      "all features Index(['pH', 'Flash2000_N_ppm', 'Awc1', 'P', 'K', 'S', 'Ca', 'Mg', 'Cu', 'Cl',\n",
      "       'Zn', 'Fe', 'depth_sub', 'depth_top'],\n",
      "      dtype='object') 14\n",
      "[0.73846109 0.51768887 0.4817683  0.43768256 0.2221693  0.18772211\n",
      " 0.12030957 0.11968293 0.11968293 0.11810195 0.07462063 0.07322147\n",
      " 0.04785942]\n",
      "Index(['Cl', 'Awc1', 'Ca', 'Cu', 'S'], dtype='object')\n"
     ]
    }
   ],
   "source": [
    "importance = lr_cultivated.coef_[0]\n",
    "cult_features = df_composition_cultivated.drop(['Cultivated_n'], axis = 1)\n",
    "print('all features',cult_features.columns, len(cult_features.columns) )\n",
    "names_of_variables =cult_features.columns\n",
    "\n",
    "#create random weights and get the magnitude\n",
    "weights = np.random.rand(4)\n",
    "abs_weights = np.abs(importance)\n",
    "\n",
    "#get the sorting indices\n",
    "sorted_index = np.argsort(abs_weights)[::-1]\n",
    "\n",
    "#check if the sorting indices are correct\n",
    "print(abs_weights[sorted_index])\n",
    "\n",
    "#get the index of the top-2 features\n",
    "top_5 = sorted_index[:5]\n",
    "\n",
    "#get the names of the top 2 most important features\n",
    "print(names_of_variables[top_5])\n",
    "ls_top5 = names_of_variables[top_5].tolist()\n",
    "ls_top5[1] = 'water content'"
   ]
  },
  {
   "cell_type": "code",
   "execution_count": 20,
   "metadata": {},
   "outputs": [
    {
     "data": {
      "image/png": "[encoded data removed]",
      "text/plain": [
       "<Figure size 432x288 with 1 Axes>"
      ]
     },
     "metadata": {
      "needs_background": "light"
     },
     "output_type": "display_data"
    }
   ],
   "source": [
    "# plot feature importance\n",
    "plt.bar(ls_top5, abs_weights[sorted_index[:5]])\n",
    "plt.ylabel('Importance')\n",
    "plt.show()"
   ]
  },
  {
   "cell_type": "markdown",
   "metadata": {},
   "source": [
    "#### 2.2.4 Data modeling - major elements correlation"
   ]
  },
  {
   "cell_type": "markdown",
   "metadata": {},
   "source": [
    "The %N cannot be detected by XRF. It is interesting then to predict it by a correlation with major elements"
   ]
  },
  {
   "cell_type": "code",
   "execution_count": 21,
   "metadata": {},
   "outputs": [
    {
     "data": {
      "image/png": "[encoded data removed]",
      "text/plain": [
       "<IPython.core.display.Image object>"
      ]
     },
     "execution_count": 21,
     "metadata": {},
     "output_type": "execute_result"
    }
   ],
   "source": [
    "Image(filename='img/majorelements.png')"
   ]
  },
  {
   "cell_type": "code",
   "execution_count": 22,
   "metadata": {},
   "outputs": [
    {
     "name": "stdout",
     "output_type": "stream",
     "text": [
      "(467, 8)\n"
     ]
    },
    {
     "data": {
      "text/html": [
       "<div>\n",
       "<style scoped>\n",
       "    .dataframe tbody tr th:only-of-type {\n",
       "        vertical-align: middle;\n",
       "    }\n",
       "\n",
       "    .dataframe tbody tr th {\n",
       "        vertical-align: top;\n",
       "    }\n",
       "\n",
       "    .dataframe thead th {\n",
       "        text-align: right;\n",
       "    }\n",
       "</style>\n",
       "<table border=\"1\" class=\"dataframe\">\n",
       "  <thead>\n",
       "    <tr style=\"text-align: right;\">\n",
       "      <th></th>\n",
       "      <th>Flash2000_N_ppm</th>\n",
       "      <th>P</th>\n",
       "      <th>K</th>\n",
       "      <th>S</th>\n",
       "      <th>Ca</th>\n",
       "      <th>Mg</th>\n",
       "      <th>Cl</th>\n",
       "      <th>Fe</th>\n",
       "    </tr>\n",
       "  </thead>\n",
       "  <tbody>\n",
       "    <tr>\n",
       "      <th>0</th>\n",
       "      <td>392.82719</td>\n",
       "      <td>50.6</td>\n",
       "      <td>12991.3</td>\n",
       "      <td>45.7</td>\n",
       "      <td>944.1</td>\n",
       "      <td>5575.0</td>\n",
       "      <td>210.2</td>\n",
       "      <td>12501.3</td>\n",
       "    </tr>\n",
       "    <tr>\n",
       "      <th>1</th>\n",
       "      <td>859.46908</td>\n",
       "      <td>50.6</td>\n",
       "      <td>15173.5</td>\n",
       "      <td>45.7</td>\n",
       "      <td>9301.0</td>\n",
       "      <td>5519.1</td>\n",
       "      <td>152.6</td>\n",
       "      <td>24094.6</td>\n",
       "    </tr>\n",
       "    <tr>\n",
       "      <th>2</th>\n",
       "      <td>186.29957</td>\n",
       "      <td>50.6</td>\n",
       "      <td>6838.9</td>\n",
       "      <td>45.7</td>\n",
       "      <td>884.3</td>\n",
       "      <td>5575.0</td>\n",
       "      <td>229.5</td>\n",
       "      <td>2213.4</td>\n",
       "    </tr>\n",
       "    <tr>\n",
       "      <th>3</th>\n",
       "      <td>1026.56581</td>\n",
       "      <td>431.6</td>\n",
       "      <td>15845.8</td>\n",
       "      <td>45.7</td>\n",
       "      <td>46529.1</td>\n",
       "      <td>33771.2</td>\n",
       "      <td>58.2</td>\n",
       "      <td>24135.0</td>\n",
       "    </tr>\n",
       "    <tr>\n",
       "      <th>4</th>\n",
       "      <td>377.73812</td>\n",
       "      <td>50.6</td>\n",
       "      <td>12201.6</td>\n",
       "      <td>45.7</td>\n",
       "      <td>1790.1</td>\n",
       "      <td>5575.0</td>\n",
       "      <td>122.5</td>\n",
       "      <td>9135.1</td>\n",
       "    </tr>\n",
       "  </tbody>\n",
       "</table>\n",
       "</div>"
      ],
      "text/plain": [
       "   Flash2000_N_ppm      P        K     S       Ca       Mg     Cl       Fe\n",
       "0        392.82719   50.6  12991.3  45.7    944.1   5575.0  210.2  12501.3\n",
       "1        859.46908   50.6  15173.5  45.7   9301.0   5519.1  152.6  24094.6\n",
       "2        186.29957   50.6   6838.9  45.7    884.3   5575.0  229.5   2213.4\n",
       "3       1026.56581  431.6  15845.8  45.7  46529.1  33771.2   58.2  24135.0\n",
       "4        377.73812   50.6  12201.6  45.7   1790.1   5575.0  122.5   9135.1"
      ]
     },
     "execution_count": 22,
     "metadata": {},
     "output_type": "execute_result"
    }
   ],
   "source": [
    "major_elements = ['Flash2000_N_ppm','P', 'K', 'S', 'Ca', 'Mg', 'Cl','Fe']\n",
    "df_composition_major = df_composition[major_elements]\n",
    "print(df_composition_major.shape)\n",
    "df_composition_major.head()"
   ]
  },
  {
   "cell_type": "code",
   "execution_count": 23,
   "metadata": {},
   "outputs": [],
   "source": [
    "#Variables selection\n",
    "X_major = df_composition_major.drop(['Flash2000_N_ppm'], axis = 1).values[:, 1:]\n",
    "\n",
    "X_maj_scaled = StandardScaler().fit_transform(X_major) # scale those features\n",
    "y_maj = df_composition_major['Flash2000_N_ppm'].values\n",
    "\n",
    "X0_train, X0_test, y0_train, y0_test = train_test_split(X_maj_scaled, y_maj, test_size = 0.2, random_state = 42)"
   ]
  },
  {
   "cell_type": "markdown",
   "metadata": {},
   "source": [
    "Multilinear regression"
   ]
  },
  {
   "cell_type": "code",
   "execution_count": 24,
   "metadata": {},
   "outputs": [
    {
     "name": "stdout",
     "output_type": "stream",
     "text": [
      "R2: -1.187\n",
      "RMSE: 1125.092\n",
      "scaled RMSE 0.43\n"
     ]
    }
   ],
   "source": [
    "reg = LinearRegression()\n",
    "reg.fit(X0_train, y0_train)\n",
    "\n",
    "y0_pred = reg.predict(X0_test)\n",
    "\n",
    "multilinear_r2 = r2_score(y0_test,y0_pred)\n",
    "\n",
    "\n",
    "# Calculate mean squared error for the regression\n",
    "multilinear_mse = mean_squared_error(y0_test, y0_pred)\n",
    "multilinear_rmse = np.sqrt(multilinear_mse)\n",
    "print('R2: %5.3f'  % multilinear_r2)\n",
    "\n",
    "print('RMSE: %5.3f' % multilinear_rmse)\n",
    "\n",
    "y0_pred_scaled = y0_pred/max(y0_pred)\n",
    "y0_test_scaled = y0_test/max(y0_test)\n",
    "scaled_RMSE = np.sqrt(mean_squared_error(y0_test_scaled, y0_pred_scaled))\n",
    "print('scaled RMSE' ,np.round(scaled_RMSE,2) )"
   ]
  },
  {
   "cell_type": "markdown",
   "metadata": {},
   "source": [
    "XGBoost"
   ]
  },
  {
   "cell_type": "code",
   "execution_count": 25,
   "metadata": {},
   "outputs": [
    {
     "name": "stdout",
     "output_type": "stream",
     "text": [
      "R2: 0.366\n",
      "RMSE: 605.714\n",
      "scaled RMSE 0.16\n"
     ]
    }
   ],
   "source": [
    "#kfold = KFold(shuffle=True, random_state=0, n_splits=4)\n",
    "xgb = XGBRegressor(n_estimators=500, min_child_weight=20, n_jobs=-1, objective='reg:squarederror')\n",
    "\n",
    "xgb.fit(X0_train, y0_train)\n",
    "\n",
    "y_pred_xgb = xgb.predict(X0_test)#.reshape(1, 1))\n",
    "\n",
    "# Calculate scores for the regression\n",
    "xgb_score = r2_score(y0_test, y_pred_xgb)\n",
    "\n",
    "# Calculate mean squared error for the regression\n",
    "xgb_rmse = np.sqrt(mean_squared_error(y0_test, y_pred_xgb))\n",
    "\n",
    "print('R2: %5.3f'  % xgb_score)\n",
    "\n",
    "print('RMSE: %5.3f' % xgb_rmse)\n",
    "y0_xgb_scaled = y_pred_xgb/max(y_pred_xgb)\n",
    "y0_test_scaled = y0_test/max(y0_test)\n",
    "scaled_RMSE = np.sqrt(mean_squared_error(y0_test_scaled, y0_xgb_scaled))\n",
    "print('scaled RMSE' ,np.round(scaled_RMSE,2) )"
   ]
  },
  {
   "cell_type": "markdown",
   "metadata": {},
   "source": [
    "Random Forest"
   ]
  },
  {
   "cell_type": "code",
   "execution_count": 26,
   "metadata": {},
   "outputs": [
    {
     "name": "stdout",
     "output_type": "stream",
     "text": [
      "R2: 0.539\n",
      "RMSE: 516.346\n",
      "scaled RMSE 0.17\n"
     ]
    }
   ],
   "source": [
    "rf = RandomForestRegressor(max_depth=20, random_state=42)\n",
    "rf.fit(X0_train, y0_train)\n",
    "\n",
    "y_pred_rf = rf.predict(X0_test)#.reshape(1, 1))\n",
    "\n",
    "# Calculate scores for the regression\n",
    "rf_score = r2_score(y0_test, y_pred_rf)\n",
    "\n",
    "# Calculate mean squared error for the regression\n",
    "rf_rmse = np.sqrt(mean_squared_error(y0_test, y_pred_rf))\n",
    "\n",
    "print('R2: %5.3f'  % rf_score)\n",
    "\n",
    "print('RMSE: %5.3f' % rf_rmse)\n",
    "y0_rf_scaled = y_pred_xgb/max(y_pred_rf)\n",
    "y0_test_scaled = y0_test/max(y0_test)\n",
    "scaled_RMSE = np.sqrt(mean_squared_error(y0_test_scaled, y0_rf_scaled))\n",
    "print('scaled RMSE' ,np.round(scaled_RMSE,2) )"
   ]
  },
  {
   "cell_type": "code",
   "execution_count": 27,
   "metadata": {},
   "outputs": [
    {
     "name": "stdout",
     "output_type": "stream",
     "text": [
      "all features Index(['P', 'K', 'S', 'Ca', 'Mg', 'Cl', 'Fe'], dtype='object') 7\n",
      "[0.33644053 0.28435927 0.15141579 0.11729529 0.08574149 0.02474762]\n",
      "Index(['Cl', 'K', 'P', 'Mg', 'S'], dtype='object')\n"
     ]
    },
    {
     "data": {
      "text/plain": [
       "['Cl', 'K', 'P', 'Mg', 'S']"
      ]
     },
     "execution_count": 27,
     "metadata": {},
     "output_type": "execute_result"
    }
   ],
   "source": [
    "rf_importance = rf.feature_importances_\n",
    "comp_features = df_composition_major.drop(['Flash2000_N_ppm'], axis = 1)\n",
    "print('all features',comp_features.columns, len(comp_features.columns) )\n",
    "names_of_variables =comp_features.columns\n",
    "\n",
    "#create random weights and get the magnitude\n",
    "weights = np.random.rand(4)\n",
    "abs_weights = np.abs(rf_importance)\n",
    "\n",
    "#get the sorting indices\n",
    "sorted_index = np.argsort(abs_weights)[::-1]\n",
    "\n",
    "#check if the sorting indices are correct\n",
    "print(abs_weights[sorted_index])\n",
    "\n",
    "#get the index of the top-2 features\n",
    "top_5 = sorted_index[:5]\n",
    "\n",
    "#get the names of the top 2 most important features\n",
    "print(names_of_variables[top_5])\n",
    "ls_top5 = names_of_variables[top_5].tolist()\n",
    "ls_top5"
   ]
  },
  {
   "cell_type": "code",
   "execution_count": 28,
   "metadata": {},
   "outputs": [
    {
     "data": {
      "image/png": "[encoded data removed]",
      "text/plain": [
       "<Figure size 432x288 with 1 Axes>"
      ]
     },
     "metadata": {
      "needs_background": "light"
     },
     "output_type": "display_data"
    }
   ],
   "source": [
    "# plot feature importance\n",
    "plt.bar(ls_top5, abs_weights[sorted_index[:5]], color = 'r')\n",
    "plt.ylabel('Importance')\n",
    "plt.show()"
   ]
  },
  {
   "cell_type": "markdown",
   "metadata": {},
   "source": [
    "Poor correlation between elements concentration"
   ]
  },
  {
   "cell_type": "markdown",
   "metadata": {},
   "source": [
    "## 3. Elemental analysis - Infrared spectroscopy correlation"
   ]
  },
  {
   "cell_type": "markdown",
   "metadata": {},
   "source": [
    "### 3.1 Loading mid-infrared spectra and target variables"
   ]
  },
  {
   "cell_type": "code",
   "execution_count": 29,
   "metadata": {},
   "outputs": [],
   "source": [
    "df_FTIR_raw = pd.read_csv('middle_infrared_spectra_dataset.csv')\n",
    "todrop = ['SSN'] #irrelevant\n",
    "df_FTIR = df_FTIR_raw.drop(todrop, axis = 1)\n",
    "X = df_FTIR.values #spectra are already scaled\n",
    "X_scaled = StandardScaler().fit_transform(X) "
   ]
  },
  {
   "cell_type": "markdown",
   "metadata": {},
   "source": [
    "##### Targets selection"
   ]
  },
  {
   "cell_type": "code",
   "execution_count": 89,
   "metadata": {},
   "outputs": [
    {
     "name": "stdout",
     "output_type": "stream",
     "text": [
      "shapes verification (467,) (467, 3)\n"
     ]
    }
   ],
   "source": [
    "df_composition['%N'] = df_composition['Flash2000_N_ppm']/1000\n",
    "df_composition['%sand'] = df_composition['Psa asand']/100\n",
    "# single target regression\n",
    "target_feature = '%N' #['C % Org', '%P', '%K']#, '%Ca', '%Cu', '%Fe', '%Mo','pH'\n",
    "# multiple targets regression\n",
    "target_features = ['%N', 'pH',  '%sand']#, '%Ca', '%Cu', '%Fe', '%Mo','pH', ,  Psa asilt', 'Psa aclay', 'Volfr', 'Awc1', 'Lshrinkpct',       'Flash2000_N_ppm', 'Acidified carbon', 'pH', 'Leco_N_ppm', 'C % Org',]\n",
    "\n",
    "y2 = df_composition[target_feature].values #PLS1 - single feature regression\n",
    "Y2 = df_composition[target_features].values #PLS2 - multiple features regression\n",
    "Y2_scaled = StandardScaler().fit_transform(Y2) \n",
    "print('shapes verification',y2.shape, Y2.shape)"
   ]
  },
  {
   "cell_type": "code",
   "execution_count": 96,
   "metadata": {},
   "outputs": [],
   "source": [
    "#test train split\n",
    "X2_train, X2_test, y2_train, y2_test = train_test_split(X_scaled, y2, test_size = 0.2, random_state = 42)"
   ]
  },
  {
   "cell_type": "markdown",
   "metadata": {},
   "source": [
    "### 3.2 Multivariate linear regression"
   ]
  },
  {
   "cell_type": "code",
   "execution_count": 85,
   "metadata": {},
   "outputs": [
    {
     "name": "stdout",
     "output_type": "stream",
     "text": [
      "linear regression R² -4.398603753886251\n",
      "linear regression RMSE 1.76763619689215\n"
     ]
    }
   ],
   "source": [
    "lr = LinearRegression()\n",
    "\n",
    "lr_model = lr.fit(X2_train,y2_train)\n",
    "\n",
    "y_lr = lr.predict(X2_test)  \n",
    "r2_lr = r2_score(y2_test, y_lr)\n",
    "rmse_lr = np.sqrt(mean_squared_error(y2_test, y_lr))\n",
    "print('linear regression R²',r2_lr )\n",
    "print('linear regression RMSE',rmse_lr )"
   ]
  },
  {
   "cell_type": "code",
   "execution_count": 86,
   "metadata": {},
   "outputs": [
    {
     "data": {
      "text/plain": [
       "Text(0.5, 1.0, 'Multivariate linear regression')"
      ]
     },
     "execution_count": 86,
     "metadata": {},
     "output_type": "execute_result"
    },
    {
     "data": {
      "image/png": "[encoded data removed]",
      "text/plain": [
       "<Figure size 432x288 with 1 Axes>"
      ]
     },
     "metadata": {
      "needs_background": "light"
     },
     "output_type": "display_data"
    }
   ],
   "source": [
    "plt.scatter(y2_test, y_lr, label = target_feature)\n",
    "plt.legend()\n",
    "plt.xlabel('actual values')\n",
    "plt.ylabel('predicted values')\n",
    "plt.title('Multivariate linear regression')"
   ]
  },
  {
   "cell_type": "markdown",
   "metadata": {},
   "source": [
    "### 3.3 Multivariate partial least squares (PLS) regression\n",
    "#### 3.3.1 PLS1: univariate target "
   ]
  },
  {
   "cell_type": "markdown",
   "metadata": {},
   "source": [
    "NIR spectra should be correlated to COH elements, i.e. organic carbon and we investigate the correlation between these data with multivariate partial least squares regression. The predicting variables are the FTIR wavelenghts. The target is % organic C. \n"
   ]
  },
  {
   "cell_type": "code",
   "execution_count": 38,
   "metadata": {},
   "outputs": [],
   "source": [
    "# what is the optimal number of latent predictive features?\n",
    "n_comp = 30\n",
    "mse = []\n",
    "r2 = []\n",
    "component = np.arange(1, n_comp,2)\n",
    "    \n",
    "for i in component:\n",
    "    pls = PLSRegression(n_components=i)\n",
    "    model = pls.fit(X2_train, y2_train)\n",
    "    \n",
    "    y_c = model.predict(X2_test)\n",
    "\n",
    "    mse.append(mean_squared_error(y2_test, y_c))\n",
    "    r2.append(r2_score(y2_test, y_c))"
   ]
  },
  {
   "cell_type": "code",
   "execution_count": 39,
   "metadata": {},
   "outputs": [
    {
     "data": {
      "text/plain": [
       "Text(0.5, 0, 'Number of PLS components')"
      ]
     },
     "execution_count": 39,
     "metadata": {},
     "output_type": "execute_result"
    },
    {
     "data": {
      "image/png": "[encoded data removed]",
      "text/plain": [
       "<Figure size 288x576 with 2 Axes>"
      ]
     },
     "metadata": {
      "needs_background": "light"
     },
     "output_type": "display_data"
    }
   ],
   "source": [
    "plt.figure(figsize= (4,8))\n",
    "plt.subplot(211)\n",
    "plt.scatter(component, mse, label = 'mse', marker = '+', c='r')\n",
    "plt.title('PLS')\n",
    "plt.ylabel('MSE')\n",
    "\n",
    "plt.subplot(212)\n",
    "plt.scatter(component, r2, label = 'R²', alpha=0.5, marker=r'$\\clubsuit$', c='g')\n",
    "plt.ylabel('R²')\n",
    "plt.xlabel('Number of PLS components')"
   ]
  },
  {
   "cell_type": "markdown",
   "metadata": {},
   "source": [
    "Now let's run this function by setting the optimized mumber of components."
   ]
  },
  {
   "cell_type": "code",
   "execution_count": 112,
   "metadata": {},
   "outputs": [
    {
     "name": "stdout",
     "output_type": "stream",
     "text": [
      "PLS R²: -0.597\n",
      "PLS RMSE: 0.961\n"
     ]
    }
   ],
   "source": [
    "pls = PLSRegression(n_components=20)\n",
    "model_pls = pls.fit(X2_train, y2_train)\n",
    "\n",
    "y_c = model_pls.predict(X2_test)\n",
    "\n",
    "\n",
    "# Calculate score\n",
    "score_c = r2_score(y2_test, y_c)\n",
    "\n",
    "\n",
    "\n",
    "# Calculate root mean squared error \n",
    "rmse_c = np.sqrt(mean_squared_error(y2_test, y_c))\n",
    "\n",
    "print('PLS R²: %5.3f'  % score_c)\n",
    "\n",
    "print('PLS RMSE: %5.3f' % rmse_c)"
   ]
  },
  {
   "cell_type": "code",
   "execution_count": 113,
   "metadata": {},
   "outputs": [
    {
     "name": "stderr",
     "output_type": "stream",
     "text": [
      "No handles with labels found to put in legend.\n"
     ]
    },
    {
     "data": {
      "text/plain": [
       "Text(0.5, 1.0, 'PLS regression')"
      ]
     },
     "execution_count": 113,
     "metadata": {},
     "output_type": "execute_result"
    },
    {
     "data": {
      "image/png": "[encoded data removed]",
      "text/plain": [
       "<Figure size 432x288 with 1 Axes>"
      ]
     },
     "metadata": {
      "needs_background": "light"
     },
     "output_type": "display_data"
    }
   ],
   "source": [
    "sns.residplot(y2_test, y_c, lowess=True, color=\"r\")\n",
    "plt.legend()\n",
    "plt.xlabel('actual values')\n",
    "plt.ylabel('predicted values')\n",
    "plt.title('PLS regression')"
   ]
  },
  {
   "cell_type": "markdown",
   "metadata": {},
   "source": [
    "#### 3.3.2 Multivariate target"
   ]
  },
  {
   "cell_type": "markdown",
   "metadata": {},
   "source": [
    "- PLS canonical"
   ]
  },
  {
   "cell_type": "code",
   "execution_count": 90,
   "metadata": {},
   "outputs": [],
   "source": [
    "X2_train, X2_test, Y2_train, Y2_test = train_test_split(X, Y2, test_size = 0.2, random_state = 42)"
   ]
  },
  {
   "cell_type": "code",
   "execution_count": 43,
   "metadata": {},
   "outputs": [
    {
     "name": "stdout",
     "output_type": "stream",
     "text": [
      "n targets:  3\n"
     ]
    }
   ],
   "source": [
    "print('n targets: ',len(target_features))\n",
    "\n",
    "plsca = PLSCanonical(n_components= len(target_features))\n",
    "model_pls_canonical = plsca.fit(X2_train, Y2_train)\n",
    "X_c, Y_c = plsca.transform(X2_test, Y2_test)\n",
    "\n"
   ]
  },
  {
   "cell_type": "code",
   "execution_count": 44,
   "metadata": {},
   "outputs": [
    {
     "name": "stdout",
     "output_type": "stream",
     "text": [
      "R² score %N :  -0.18514679707524984\n",
      "R² score pH :  -33.07396764367303\n",
      "R² score %sand :  -48.144788339965494\n",
      "\n",
      "R² PLS Canonical average: -27.135\n",
      "RMSE score %N :  0.83\n",
      "RMSE PLS Canonical average: 3.610\n"
     ]
    }
   ],
   "source": [
    "\n",
    "# Calculate scores \n",
    "plsca_score_c = r2_score(Y2_test, Y_c)\n",
    "\n",
    "# Calculate mean squared error \n",
    "plsca_mse_c = mean_squared_error(Y2_test, Y_c)\n",
    "\n",
    "\n",
    "print('R² score',target_features[0],': ',r2_score(Y2_test[:,0], Y_c[:,0]))\n",
    "print('R² score',target_features[1],': ',r2_score(Y2_test[:,1], Y_c[:,1]))\n",
    "print('R² score',target_features[2],': ',r2_score(Y2_test[:,2], Y_c[:,2]))\n",
    "#print('R² score',target_features[3],': ',r2_score(Y2_test[:,3], Y_c[:,3]))\n",
    "print('')\n",
    "print('R² PLS Canonical average: %5.3f'  % plsca_score_c)\n",
    "print('RMSE score',target_features[0],': ',np.round(np.sqrt(mean_squared_error(Y2_test[:,0], Y_c[:,0])),2))\n",
    "print('RMSE PLS Canonical average: %5.3f' % np.round(np.sqrt(plsca_mse_c),2))\n"
   ]
  },
  {
   "cell_type": "code",
   "execution_count": 45,
   "metadata": {},
   "outputs": [
    {
     "data": {
      "text/plain": [
       "[]"
      ]
     },
     "execution_count": 45,
     "metadata": {},
     "output_type": "execute_result"
    },
    {
     "data": {
      "image/png": "[encoded data removed]",
      "text/plain": [
       "<Figure size 432x288 with 1 Axes>"
      ]
     },
     "metadata": {
      "needs_background": "light"
     },
     "output_type": "display_data"
    }
   ],
   "source": [
    "plt.scatter(Y2_test[:,0], Y_c[:,0], label = target_features[0], color = 'r')\n",
    "plt.scatter(Y2_test[:,1], Y_c[:,1], label = target_features[1], color = 'b')\n",
    "plt.scatter(Y2_test[:,2], Y_c[:,2], label = target_features[2], color = 'k')\n",
    "#plt.scatter(Y2_test[:,3], Y_c[:,3], label = target_features[3], color = 'g')\n",
    "plt.legend()\n",
    "plt.xlabel('actual values')\n",
    "plt.ylabel('predicted values')\n",
    "plt.title('PLS Canonical - 3 variables prediction')\n",
    "plt.plot()"
   ]
  },
  {
   "cell_type": "markdown",
   "metadata": {},
   "source": [
    "### 3.4 Random forest regression"
   ]
  },
  {
   "cell_type": "markdown",
   "metadata": {},
   "source": [
    "#### 3.4.1 One target variable"
   ]
  },
  {
   "cell_type": "code",
   "execution_count": 87,
   "metadata": {},
   "outputs": [
    {
     "name": "stdout",
     "output_type": "stream",
     "text": [
      "random forest regression R²: -0.180\n",
      "random forest regression RMSE: 0.830\n"
     ]
    }
   ],
   "source": [
    "X2, y2 = make_regression(n_features=len(df_FTIR.columns), n_informative=150,random_state=0, shuffle=False)\n",
    "\n",
    "rf = RandomForestRegressor(max_depth=20, random_state=42)\n",
    "rf.fit(X2_train, y2_train)\n",
    "y_pred_rf = rf.predict(X2_test)#.reshape(1, 1))\n",
    "\n",
    "# Calculate score R2\n",
    "rf_score_c = r2_score(y2_test, y_pred_rf)\n",
    "\n",
    "# Calculate root mean squared error\n",
    "rf_rmse_c = np.sqrt(mean_squared_error(y2_test, y_pred_rf))\n",
    "\n",
    "print('random forest regression R²: %5.3f'  % rf_score_c)\n",
    "\n",
    "print('random forest regression RMSE: %5.3f' % np.round(rf_rmse_c,2))"
   ]
  },
  {
   "cell_type": "code",
   "execution_count": 37,
   "metadata": {},
   "outputs": [
    {
     "name": "stderr",
     "output_type": "stream",
     "text": [
      "No handles with labels found to put in legend.\n"
     ]
    },
    {
     "data": {
      "text/plain": [
       "Text(0.5, 1.0, 'Random forest regression')"
      ]
     },
     "execution_count": 37,
     "metadata": {},
     "output_type": "execute_result"
    },
    {
     "data": {
      "image/png": "[encoded data removed]",
      "text/plain": [
       "<Figure size 432x288 with 1 Axes>"
      ]
     },
     "metadata": {
      "needs_background": "light"
     },
     "output_type": "display_data"
    }
   ],
   "source": [
    "sns.residplot(y2_test, y_pred_rf, lowess=True, color=\"r\")\n",
    "plt.legend()\n",
    "plt.xlabel('actual values')\n",
    "plt.ylabel('predicted values')\n",
    "plt.title('Random forest regression')"
   ]
  },
  {
   "cell_type": "markdown",
   "metadata": {},
   "source": [
    "#### 3.4.2 Multivariate target"
   ]
  },
  {
   "cell_type": "code",
   "execution_count": 91,
   "metadata": {},
   "outputs": [
    {
     "name": "stdout",
     "output_type": "stream",
     "text": [
      "random forest regression R²: -0.070\n",
      "random forest regression RMSE: 0.780\n"
     ]
    }
   ],
   "source": [
    "\n",
    "#X2, y2 = make_regression(n_features=len(df_FTIR.columns), n_informative=150,random_state=0, shuffle=False)\n",
    "\n",
    "rf = RandomForestRegressor(max_depth=20, random_state=42)\n",
    "rf.fit(X2_train, Y2_train)\n",
    "Y_pred_rf = rf.predict(X2_test)#.reshape(1, 1))\n",
    "\n",
    "# Calculate score R2\n",
    "rf_score_c = r2_score(Y2_test, Y_pred_rf)\n",
    "\n",
    "# Calculate root mean squared error\n",
    "rf_rmse_c = np.sqrt(mean_squared_error(Y2_test, Y_pred_rf))\n",
    "\n",
    "print('random forest regression R²: %5.3f'  % rf_score_c)\n",
    "\n",
    "print('random forest regression RMSE: %5.3f' % np.round(rf_rmse_c,2))\n"
   ]
  },
  {
   "cell_type": "code",
   "execution_count": 97,
   "metadata": {},
   "outputs": [
    {
     "name": "stdout",
     "output_type": "stream",
     "text": [
      "R² score %N :  -0.14604758535058426\n",
      "R² score pH :  -0.050488510389144814\n",
      "R² score %sand :  -0.01440851542187449\n",
      "\n",
      "R² RF average: -0.070\n",
      "RMSE RF score %N :  0.81\n",
      "RMSE Random Forest average: 0.780\n"
     ]
    }
   ],
   "source": [
    "\n",
    "# Calculate scores \n",
    "RF_score = r2_score(Y2_test, Y_pred_rf)\n",
    "\n",
    "# Calculate mean squared error \n",
    "RF_MSE = mean_squared_error(Y2_test, Y_pred_rf)\n",
    "\n",
    "\n",
    "print('R² score',target_features[0],': ',r2_score(Y2_test[:,0], Y_pred_rf[:,0]))\n",
    "print('R² score',target_features[1],': ',r2_score(Y2_test[:,1], Y_pred_rf[:,1]))\n",
    "print('R² score',target_features[2],': ',r2_score(Y2_test[:,2], Y_pred_rf[:,2]))\n",
    "#print('R² score',target_features[3],': ',r2_score(Y2_test[:,3], Y_c[:,3]))\n",
    "print('')\n",
    "print('R² RF average: %5.3f'  % RF_score)\n",
    "print('RMSE RF score',target_features[0],': ',np.round(np.sqrt(mean_squared_error(Y2_test[:,0], Y_pred_rf[:,0])),2))\n",
    "print('RMSE Random Forest average: %5.3f' % np.round(np.sqrt(RF_MSE),2))\n"
   ]
  },
  {
   "cell_type": "code",
   "execution_count": 95,
   "metadata": {},
   "outputs": [
    {
     "data": {
      "text/plain": [
       "[]"
      ]
     },
     "execution_count": 95,
     "metadata": {},
     "output_type": "execute_result"
    },
    {
     "data": {
      "image/png": "[encoded data removed]",
      "text/plain": [
       "<Figure size 432x288 with 1 Axes>"
      ]
     },
     "metadata": {
      "needs_background": "light"
     },
     "output_type": "display_data"
    }
   ],
   "source": [
    "plt.scatter(Y2_test[:,0], Y_pred_rf[:,0], label = target_features[0], color = 'r')\n",
    "plt.scatter(Y2_test[:,1], Y_pred_rf[:,1], label = target_features[1], color = 'b')\n",
    "plt.scatter(Y2_test[:,2], Y_pred_rf[:,2], label = target_features[2], color = 'k')\n",
    "#plt.scatter(Y2_test[:,3], Y_c[:,3], label = target_features[3], color = 'g')\n",
    "plt.legend()\n",
    "plt.xlabel('actual values')\n",
    "plt.ylabel('predicted values')\n",
    "plt.title('Random Forest Regressor - 3 variables prediction')\n",
    "plt.plot()"
   ]
  },
  {
   "cell_type": "markdown",
   "metadata": {},
   "source": [
    "## 4. Convolutional neural network for chemiometrics\n",
    "\n",
    "Results can be improved as described in https://www.sciencedirect.com/science/article/abs/pii/S0016706119302368\n",
    "\n",
    "- algorithm can be modified\n",
    "- FTIR data can be further processed"
   ]
  },
  {
   "cell_type": "markdown",
   "metadata": {},
   "source": [
    "### 4.1 Published convolutional neural network (CNN)"
   ]
  },
  {
   "cell_type": "code",
   "execution_count": 46,
   "metadata": {},
   "outputs": [],
   "source": [
    "#X2_train, X2_test, Y2_train, Y2_test = train_test_split(X, Y2, test_size = 0.2, random_state = 42)\n",
    "#Y2_pc = Y2/10000 # % instead of PPM\n",
    "\n",
    "X2_train, X2_test, Y2_train, Y2_test = train_test_split(X, Y2, test_size=0.2, random_state=42)\n",
    "X2_train, X2_val, Y2_train, Y2_val = train_test_split(X2_train, Y2_train, test_size=0.1, random_state=1)"
   ]
  },
  {
   "cell_type": "markdown",
   "metadata": {},
   "source": [
    "#### 4.1.1 CNN used for chemiometrics in the literature\n",
    "https://github.com/EBjerrum/Deep-Chemometrics"
   ]
  },
  {
   "cell_type": "code",
   "execution_count": 47,
   "metadata": {},
   "outputs": [],
   "source": [
    "#Hyperparameters for the network\n",
    "DENSE = 128\n",
    "DROPOUT = 0.5\n",
    "C1_K  = 8 #Number of kernels/feature extractors for first layer\n",
    "C1_S  = 16 #Width of the convolutional mini networks\n",
    "C2_K  = 32\n",
    "C2_S  = 16\n",
    "\n",
    "activation='relu'\n",
    "\n",
    "input_dim = X2_train.shape[1]\n",
    "\n",
    "#The model\n",
    "def make_model1():\n",
    "    model = Sequential()\n",
    "    #Adding a bit of GaussianNoise also works as regularization\n",
    "    model.add(GaussianNoise(0.05, input_shape=(input_dim,)))\n",
    "    #First two is number of filter + kernel size\n",
    "    model.add(Reshape((input_dim, 1)))\n",
    "    model.add(Conv1D(C1_K, (C1_S), activation=activation, padding=\"same\"))\n",
    "    model.add(Conv1D(C2_K, (C2_S), padding=\"same\", activation=activation))\n",
    "    model.add(Flatten())\n",
    "    model.add(Dropout(DROPOUT))\n",
    "    model.add(Dense(DENSE, activation=activation))\n",
    "    model.add(Dense(Y2_train.shape[1], activation='linear'))\n",
    "\n",
    "    model.compile(loss='mse', metrics=['accuracy'], optimizer=keras.optimizers.Adadelta(lr=0.01))#, metrics=['mean_absolute_error'])\n",
    "\n",
    "    return model"
   ]
  },
  {
   "cell_type": "code",
   "execution_count": 48,
   "metadata": {},
   "outputs": [
    {
     "name": "stdout",
     "output_type": "stream",
     "text": [
      "Model: \"sequential\"\n",
      "_________________________________________________________________\n",
      "Layer (type)                 Output Shape              Param #   \n",
      "=================================================================\n",
      "gaussian_noise (GaussianNois (None, 2542)              0         \n",
      "_________________________________________________________________\n",
      "reshape (Reshape)            (None, 2542, 1)           0         \n",
      "_________________________________________________________________\n",
      "conv1d (Conv1D)              (None, 2542, 8)           136       \n",
      "_________________________________________________________________\n",
      "conv1d_1 (Conv1D)            (None, 2542, 32)          4128      \n",
      "_________________________________________________________________\n",
      "flatten (Flatten)            (None, 81344)             0         \n",
      "_________________________________________________________________\n",
      "dropout (Dropout)            (None, 81344)             0         \n",
      "_________________________________________________________________\n",
      "dense (Dense)                (None, 128)               10412160  \n",
      "_________________________________________________________________\n",
      "dense_1 (Dense)              (None, 3)                 387       \n",
      "=================================================================\n",
      "Total params: 10,416,811\n",
      "Trainable params: 10,416,811\n",
      "Non-trainable params: 0\n",
      "_________________________________________________________________\n",
      "None\n"
     ]
    }
   ],
   "source": [
    "original_model = make_model1()\n",
    "print(original_model.summary())"
   ]
  },
  {
   "cell_type": "code",
   "execution_count": 49,
   "metadata": {
    "scrolled": true
   },
   "outputs": [
    {
     "name": "stdout",
     "output_type": "stream",
     "text": [
      "Epoch 1/100\n",
      "84/84 [==============================] - 4s 52ms/step - loss: 1.2384 - accuracy: 1.0000 - val_loss: 0.9298 - val_accuracy: 1.0000 - lr: 0.0100\n",
      "Epoch 2/100\n",
      "84/84 [==============================] - 5s 54ms/step - loss: 0.9185 - accuracy: 1.0000 - val_loss: 0.9777 - val_accuracy: 1.0000 - lr: 0.0100\n",
      "Epoch 3/100\n",
      "84/84 [==============================] - 4s 53ms/step - loss: 0.9426 - accuracy: 1.0000 - val_loss: 0.8706 - val_accuracy: 1.0000 - lr: 0.0100\n",
      "Epoch 4/100\n",
      "84/84 [==============================] - 4s 51ms/step - loss: 0.9111 - accuracy: 1.0000 - val_loss: 1.0194 - val_accuracy: 1.0000 - lr: 0.0100\n",
      "Epoch 5/100\n",
      "84/84 [==============================] - 4s 50ms/step - loss: 0.7976 - accuracy: 1.0000 - val_loss: 0.9191 - val_accuracy: 1.0000 - lr: 0.0100\n",
      "Epoch 6/100\n",
      "84/84 [==============================] - 4s 50ms/step - loss: 0.8195 - accuracy: 1.0000 - val_loss: 0.8399 - val_accuracy: 1.0000 - lr: 0.0100\n",
      "Epoch 7/100\n",
      "84/84 [==============================] - 4s 49ms/step - loss: 0.8252 - accuracy: 1.0000 - val_loss: 0.8817 - val_accuracy: 1.0000 - lr: 0.0100\n",
      "Epoch 8/100\n",
      "84/84 [==============================] - 4s 50ms/step - loss: 0.8017 - accuracy: 1.0000 - val_loss: 0.8499 - val_accuracy: 1.0000 - lr: 0.0100\n",
      "Epoch 9/100\n",
      "84/84 [==============================] - 4s 51ms/step - loss: 0.7868 - accuracy: 1.0000 - val_loss: 0.8281 - val_accuracy: 1.0000 - lr: 0.0100\n",
      "Epoch 10/100\n",
      "84/84 [==============================] - 4s 50ms/step - loss: 0.7955 - accuracy: 1.0000 - val_loss: 0.8709 - val_accuracy: 1.0000 - lr: 0.0100\n",
      "Epoch 11/100\n",
      "84/84 [==============================] - 4s 50ms/step - loss: 0.7574 - accuracy: 1.0000 - val_loss: 0.9615 - val_accuracy: 1.0000 - lr: 0.0100\n",
      "Epoch 12/100\n",
      "84/84 [==============================] - 4s 50ms/step - loss: 0.7848 - accuracy: 1.0000 - val_loss: 0.9742 - val_accuracy: 1.0000 - lr: 0.0100\n",
      "Epoch 13/100\n",
      "84/84 [==============================] - 4s 49ms/step - loss: 0.7569 - accuracy: 1.0000 - val_loss: 0.8325 - val_accuracy: 1.0000 - lr: 0.0100\n",
      "Epoch 14/100\n",
      "84/84 [==============================] - ETA: 0s - loss: 0.7740 - accuracy: 1.0000\n",
      "Epoch 00014: ReduceLROnPlateau reducing learning rate to 0.004999999888241291.\n",
      "84/84 [==============================] - 4s 49ms/step - loss: 0.7740 - accuracy: 1.0000 - val_loss: 0.8388 - val_accuracy: 1.0000 - lr: 0.0100\n",
      "Epoch 15/100\n",
      "84/84 [==============================] - 4s 49ms/step - loss: 0.7578 - accuracy: 1.0000 - val_loss: 0.8246 - val_accuracy: 1.0000 - lr: 0.0050\n",
      "Epoch 16/100\n",
      "84/84 [==============================] - 4s 49ms/step - loss: 0.7303 - accuracy: 1.0000 - val_loss: 0.8106 - val_accuracy: 1.0000 - lr: 0.0050\n",
      "Epoch 17/100\n",
      "84/84 [==============================] - 4s 48ms/step - loss: 0.7325 - accuracy: 1.0000 - val_loss: 0.8074 - val_accuracy: 1.0000 - lr: 0.0050\n",
      "Epoch 18/100\n",
      "84/84 [==============================] - 4s 50ms/step - loss: 0.7241 - accuracy: 1.0000 - val_loss: 0.8642 - val_accuracy: 1.0000 - lr: 0.0050\n",
      "Epoch 19/100\n",
      "84/84 [==============================] - 4s 50ms/step - loss: 0.7156 - accuracy: 1.0000 - val_loss: 0.8303 - val_accuracy: 1.0000 - lr: 0.0050\n",
      "Epoch 20/100\n",
      "84/84 [==============================] - 4s 50ms/step - loss: 0.7211 - accuracy: 1.0000 - val_loss: 0.8032 - val_accuracy: 1.0000 - lr: 0.0050\n",
      "Epoch 21/100\n",
      "84/84 [==============================] - 4s 49ms/step - loss: 0.6956 - accuracy: 1.0000 - val_loss: 0.8179 - val_accuracy: 1.0000 - lr: 0.0050\n",
      "Epoch 22/100\n",
      "84/84 [==============================] - 4s 50ms/step - loss: 0.7344 - accuracy: 1.0000 - val_loss: 0.8075 - val_accuracy: 1.0000 - lr: 0.0050\n",
      "Epoch 23/100\n",
      "84/84 [==============================] - 4s 51ms/step - loss: 0.7148 - accuracy: 1.0000 - val_loss: 0.7983 - val_accuracy: 1.0000 - lr: 0.0050\n",
      "Epoch 24/100\n",
      "84/84 [==============================] - 5s 56ms/step - loss: 0.7338 - accuracy: 1.0000 - val_loss: 0.8117 - val_accuracy: 1.0000 - lr: 0.0050\n",
      "Epoch 25/100\n",
      "84/84 [==============================] - 5s 57ms/step - loss: 0.7177 - accuracy: 1.0000 - val_loss: 0.8026 - val_accuracy: 1.0000 - lr: 0.0050\n",
      "Epoch 26/100\n",
      "84/84 [==============================] - 4s 50ms/step - loss: 0.7203 - accuracy: 1.0000 - val_loss: 0.8028 - val_accuracy: 1.0000 - lr: 0.0050\n",
      "Epoch 27/100\n",
      "84/84 [==============================] - 4s 50ms/step - loss: 0.7030 - accuracy: 1.0000 - val_loss: 0.8085 - val_accuracy: 1.0000 - lr: 0.0050\n",
      "Epoch 28/100\n",
      "84/84 [==============================] - ETA: 0s - loss: 0.6938 - accuracy: 1.0000\n",
      "Epoch 00028: ReduceLROnPlateau reducing learning rate to 0.0024999999441206455.\n",
      "84/84 [==============================] - 4s 50ms/step - loss: 0.6938 - accuracy: 1.0000 - val_loss: 0.8125 - val_accuracy: 1.0000 - lr: 0.0050\n",
      "Epoch 29/100\n",
      "84/84 [==============================] - 4s 50ms/step - loss: 0.7278 - accuracy: 1.0000 - val_loss: 0.7920 - val_accuracy: 1.0000 - lr: 0.0025\n",
      "Epoch 30/100\n",
      "84/84 [==============================] - 4s 49ms/step - loss: 0.6898 - accuracy: 1.0000 - val_loss: 0.8081 - val_accuracy: 1.0000 - lr: 0.0025\n",
      "Epoch 31/100\n",
      "84/84 [==============================] - 4s 49ms/step - loss: 0.6976 - accuracy: 1.0000 - val_loss: 0.7949 - val_accuracy: 1.0000 - lr: 0.0025\n",
      "Epoch 32/100\n",
      "84/84 [==============================] - 4s 50ms/step - loss: 0.7353 - accuracy: 1.0000 - val_loss: 0.7970 - val_accuracy: 1.0000 - lr: 0.0025\n",
      "Epoch 33/100\n",
      "84/84 [==============================] - 4s 49ms/step - loss: 0.7048 - accuracy: 1.0000 - val_loss: 0.7945 - val_accuracy: 1.0000 - lr: 0.0025\n",
      "Epoch 34/100\n",
      "84/84 [==============================] - 4s 49ms/step - loss: 0.7019 - accuracy: 1.0000 - val_loss: 0.7913 - val_accuracy: 1.0000 - lr: 0.0025\n",
      "Epoch 35/100\n",
      "84/84 [==============================] - 4s 49ms/step - loss: 0.6839 - accuracy: 1.0000 - val_loss: 0.8164 - val_accuracy: 1.0000 - lr: 0.0025\n",
      "Epoch 36/100\n",
      "84/84 [==============================] - 4s 50ms/step - loss: 0.6931 - accuracy: 1.0000 - val_loss: 0.7943 - val_accuracy: 1.0000 - lr: 0.0025\n",
      "Epoch 37/100\n",
      "84/84 [==============================] - 4s 51ms/step - loss: 0.6830 - accuracy: 1.0000 - val_loss: 0.7902 - val_accuracy: 1.0000 - lr: 0.0025\n",
      "Epoch 38/100\n",
      "84/84 [==============================] - 4s 52ms/step - loss: 0.7008 - accuracy: 1.0000 - val_loss: 0.7945 - val_accuracy: 1.0000 - lr: 0.0025\n",
      "Epoch 39/100\n",
      "84/84 [==============================] - 4s 50ms/step - loss: 0.6920 - accuracy: 1.0000 - val_loss: 0.7944 - val_accuracy: 1.0000 - lr: 0.0025\n",
      "Epoch 40/100\n",
      "84/84 [==============================] - 4s 51ms/step - loss: 0.6968 - accuracy: 1.0000 - val_loss: 0.7933 - val_accuracy: 1.0000 - lr: 0.0025\n",
      "Epoch 41/100\n",
      "84/84 [==============================] - 4s 50ms/step - loss: 0.7135 - accuracy: 1.0000 - val_loss: 0.7894 - val_accuracy: 1.0000 - lr: 0.0025\n",
      "Epoch 42/100\n",
      "84/84 [==============================] - 4s 51ms/step - loss: 0.6897 - accuracy: 1.0000 - val_loss: 0.7923 - val_accuracy: 1.0000 - lr: 0.0025\n",
      "Epoch 43/100\n",
      "84/84 [==============================] - 4s 50ms/step - loss: 0.6976 - accuracy: 1.0000 - val_loss: 0.7872 - val_accuracy: 1.0000 - lr: 0.0025\n",
      "Epoch 44/100\n",
      "84/84 [==============================] - 4s 51ms/step - loss: 0.6680 - accuracy: 1.0000 - val_loss: 0.7894 - val_accuracy: 1.0000 - lr: 0.0025\n",
      "Epoch 45/100\n",
      "84/84 [==============================] - 4s 53ms/step - loss: 0.6770 - accuracy: 1.0000 - val_loss: 0.8249 - val_accuracy: 1.0000 - lr: 0.0025\n",
      "Epoch 46/100\n",
      "84/84 [==============================] - 4s 50ms/step - loss: 0.6962 - accuracy: 1.0000 - val_loss: 0.7966 - val_accuracy: 1.0000 - lr: 0.0025\n",
      "Epoch 47/100\n",
      "84/84 [==============================] - 4s 52ms/step - loss: 0.6789 - accuracy: 1.0000 - val_loss: 0.7886 - val_accuracy: 1.0000 - lr: 0.0025\n",
      "Epoch 48/100\n",
      "84/84 [==============================] - 4s 53ms/step - loss: 0.7161 - accuracy: 1.0000 - val_loss: 0.7861 - val_accuracy: 1.0000 - lr: 0.0025\n",
      "Epoch 49/100\n",
      "84/84 [==============================] - 4s 51ms/step - loss: 0.6846 - accuracy: 1.0000 - val_loss: 0.7930 - val_accuracy: 1.0000 - lr: 0.0025\n",
      "Epoch 50/100\n",
      "84/84 [==============================] - 4s 51ms/step - loss: 0.7016 - accuracy: 1.0000 - val_loss: 0.7888 - val_accuracy: 1.0000 - lr: 0.0025\n",
      "Epoch 51/100\n",
      "84/84 [==============================] - 5s 55ms/step - loss: 0.6952 - accuracy: 1.0000 - val_loss: 0.7871 - val_accuracy: 1.0000 - lr: 0.0025\n",
      "Epoch 52/100\n",
      "84/84 [==============================] - 4s 51ms/step - loss: 0.6929 - accuracy: 1.0000 - val_loss: 0.7871 - val_accuracy: 1.0000 - lr: 0.0025\n",
      "Epoch 53/100\n",
      "83/84 [============================>.] - ETA: 0s - loss: 0.6962 - accuracy: 1.0000\n",
      "Epoch 00053: ReduceLROnPlateau reducing learning rate to 0.0012499999720603228.\n",
      "84/84 [==============================] - 4s 52ms/step - loss: 0.6950 - accuracy: 1.0000 - val_loss: 0.7893 - val_accuracy: 1.0000 - lr: 0.0025\n",
      "Epoch 54/100\n",
      "84/84 [==============================] - 5s 54ms/step - loss: 0.6854 - accuracy: 1.0000 - val_loss: 0.7889 - val_accuracy: 1.0000 - lr: 0.0012\n",
      "Epoch 55/100\n",
      "84/84 [==============================] - 5s 55ms/step - loss: 0.6707 - accuracy: 1.0000 - val_loss: 0.7845 - val_accuracy: 1.0000 - lr: 0.0012\n",
      "Epoch 56/100\n",
      "84/84 [==============================] - 4s 52ms/step - loss: 0.6819 - accuracy: 1.0000 - val_loss: 0.7918 - val_accuracy: 1.0000 - lr: 0.0012\n",
      "Epoch 57/100\n",
      "84/84 [==============================] - 4s 53ms/step - loss: 0.6987 - accuracy: 1.0000 - val_loss: 0.7937 - val_accuracy: 1.0000 - lr: 0.0012\n",
      "Epoch 58/100\n",
      "84/84 [==============================] - 4s 53ms/step - loss: 0.6891 - accuracy: 1.0000 - val_loss: 0.7952 - val_accuracy: 1.0000 - lr: 0.0012\n",
      "Epoch 59/100\n",
      "84/84 [==============================] - 4s 53ms/step - loss: 0.7202 - accuracy: 1.0000 - val_loss: 0.7889 - val_accuracy: 1.0000 - lr: 0.0012\n",
      "Epoch 60/100\n",
      "84/84 [==============================] - ETA: 0s - loss: 0.6884 - accuracy: 1.0000\n",
      "Epoch 00060: ReduceLROnPlateau reducing learning rate to 0.0006249999860301614.\n",
      "84/84 [==============================] - 4s 51ms/step - loss: 0.6884 - accuracy: 1.0000 - val_loss: 0.7998 - val_accuracy: 1.0000 - lr: 0.0012\n",
      "Epoch 61/100\n",
      "84/84 [==============================] - 4s 51ms/step - loss: 0.6836 - accuracy: 1.0000 - val_loss: 0.7887 - val_accuracy: 1.0000 - lr: 6.2500e-04\n",
      "Epoch 62/100\n",
      "84/84 [==============================] - 4s 52ms/step - loss: 0.6721 - accuracy: 1.0000 - val_loss: 0.7903 - val_accuracy: 1.0000 - lr: 6.2500e-04\n",
      "Epoch 63/100\n",
      "84/84 [==============================] - 4s 53ms/step - loss: 0.6784 - accuracy: 1.0000 - val_loss: 0.7894 - val_accuracy: 1.0000 - lr: 6.2500e-04\n",
      "Epoch 64/100\n",
      "84/84 [==============================] - 4s 52ms/step - loss: 0.6844 - accuracy: 1.0000 - val_loss: 0.7926 - val_accuracy: 1.0000 - lr: 6.2500e-04\n",
      "Epoch 65/100\n",
      "84/84 [==============================] - ETA: 0s - loss: 0.6901 - accuracy: 1.0000\n",
      "Epoch 00065: ReduceLROnPlateau reducing learning rate to 0.0003124999930150807.\n",
      "84/84 [==============================] - 4s 51ms/step - loss: 0.6901 - accuracy: 1.0000 - val_loss: 0.7874 - val_accuracy: 1.0000 - lr: 6.2500e-04\n",
      "Epoch 66/100\n",
      "84/84 [==============================] - 4s 50ms/step - loss: 0.6913 - accuracy: 1.0000 - val_loss: 0.7883 - val_accuracy: 1.0000 - lr: 3.1250e-04\n",
      "Epoch 67/100\n",
      "84/84 [==============================] - 4s 52ms/step - loss: 0.6936 - accuracy: 1.0000 - val_loss: 0.7881 - val_accuracy: 1.0000 - lr: 3.1250e-04\n",
      "Epoch 68/100\n",
      "84/84 [==============================] - 4s 52ms/step - loss: 0.6725 - accuracy: 1.0000 - val_loss: 0.7876 - val_accuracy: 1.0000 - lr: 3.1250e-04\n",
      "Epoch 69/100\n",
      "84/84 [==============================] - 4s 51ms/step - loss: 0.6848 - accuracy: 1.0000 - val_loss: 0.7877 - val_accuracy: 1.0000 - lr: 3.1250e-04\n",
      "Epoch 70/100\n",
      "84/84 [==============================] - ETA: 0s - loss: 0.6540 - accuracy: 1.0000\n",
      "Epoch 00070: ReduceLROnPlateau reducing learning rate to 0.00015624999650754035.\n",
      "84/84 [==============================] - 4s 50ms/step - loss: 0.6540 - accuracy: 1.0000 - val_loss: 0.7874 - val_accuracy: 1.0000 - lr: 3.1250e-04\n",
      "Epoch 71/100\n",
      "84/84 [==============================] - 5s 55ms/step - loss: 0.6793 - accuracy: 1.0000 - val_loss: 0.7883 - val_accuracy: 1.0000 - lr: 1.5625e-04\n",
      "Epoch 72/100\n",
      "84/84 [==============================] - 4s 50ms/step - loss: 0.6809 - accuracy: 1.0000 - val_loss: 0.7894 - val_accuracy: 1.0000 - lr: 1.5625e-04\n",
      "Epoch 73/100\n",
      "84/84 [==============================] - 4s 51ms/step - loss: 0.6790 - accuracy: 1.0000 - val_loss: 0.7899 - val_accuracy: 1.0000 - lr: 1.5625e-04\n",
      "Epoch 74/100\n",
      "84/84 [==============================] - 4s 50ms/step - loss: 0.6937 - accuracy: 1.0000 - val_loss: 0.7890 - val_accuracy: 1.0000 - lr: 1.5625e-04\n",
      "Epoch 75/100\n",
      "84/84 [==============================] - ETA: 0s - loss: 0.6762 - accuracy: 1.0000\n",
      "Epoch 00075: ReduceLROnPlateau reducing learning rate to 7.812499825377017e-05.\n",
      "84/84 [==============================] - 4s 50ms/step - loss: 0.6762 - accuracy: 1.0000 - val_loss: 0.7886 - val_accuracy: 1.0000 - lr: 1.5625e-04\n",
      "Epoch 76/100\n",
      "84/84 [==============================] - 4s 51ms/step - loss: 0.6855 - accuracy: 1.0000 - val_loss: 0.7884 - val_accuracy: 1.0000 - lr: 7.8125e-05\n",
      "Epoch 77/100\n",
      "84/84 [==============================] - 4s 51ms/step - loss: 0.6929 - accuracy: 1.0000 - val_loss: 0.7884 - val_accuracy: 1.0000 - lr: 7.8125e-05\n",
      "Epoch 78/100\n",
      "84/84 [==============================] - 4s 50ms/step - loss: 0.6940 - accuracy: 1.0000 - val_loss: 0.7884 - val_accuracy: 1.0000 - lr: 7.8125e-05\n",
      "Epoch 79/100\n",
      "84/84 [==============================] - 4s 50ms/step - loss: 0.6935 - accuracy: 1.0000 - val_loss: 0.7886 - val_accuracy: 1.0000 - lr: 7.8125e-05\n",
      "Epoch 80/100\n",
      "83/84 [============================>.] - ETA: 0s - loss: 0.6754 - accuracy: 1.0000\n",
      "Epoch 00080: ReduceLROnPlateau reducing learning rate to 3.9062499126885086e-05.\n",
      "84/84 [==============================] - 4s 50ms/step - loss: 0.6722 - accuracy: 1.0000 - val_loss: 0.7887 - val_accuracy: 1.0000 - lr: 7.8125e-05\n",
      "Epoch 81/100\n",
      "84/84 [==============================] - 4s 49ms/step - loss: 0.6764 - accuracy: 1.0000 - val_loss: 0.7888 - val_accuracy: 1.0000 - lr: 3.9062e-05\n",
      "Epoch 82/100\n",
      "84/84 [==============================] - 4s 48ms/step - loss: 0.6873 - accuracy: 1.0000 - val_loss: 0.7888 - val_accuracy: 1.0000 - lr: 3.9062e-05\n",
      "Epoch 83/100\n",
      "84/84 [==============================] - 5s 54ms/step - loss: 0.6412 - accuracy: 1.0000 - val_loss: 0.7887 - val_accuracy: 1.0000 - lr: 3.9062e-05\n",
      "Epoch 84/100\n",
      "84/84 [==============================] - 5s 54ms/step - loss: 0.6828 - accuracy: 1.0000 - val_loss: 0.7885 - val_accuracy: 1.0000 - lr: 3.9062e-05\n",
      "Epoch 85/100\n",
      "84/84 [==============================] - ETA: 0s - loss: 0.6852 - accuracy: 1.0000\n",
      "Epoch 00085: ReduceLROnPlateau reducing learning rate to 1.9531249563442543e-05.\n",
      "84/84 [==============================] - 4s 52ms/step - loss: 0.6852 - accuracy: 1.0000 - val_loss: 0.7885 - val_accuracy: 1.0000 - lr: 3.9062e-05\n",
      "Epoch 86/100\n",
      "84/84 [==============================] - 4s 51ms/step - loss: 0.6614 - accuracy: 1.0000 - val_loss: 0.7884 - val_accuracy: 1.0000 - lr: 1.9531e-05\n",
      "Epoch 87/100\n",
      "84/84 [==============================] - 4s 51ms/step - loss: 0.6870 - accuracy: 1.0000 - val_loss: 0.7883 - val_accuracy: 1.0000 - lr: 1.9531e-05\n",
      "Epoch 88/100\n",
      "84/84 [==============================] - 4s 51ms/step - loss: 0.6802 - accuracy: 1.0000 - val_loss: 0.7883 - val_accuracy: 1.0000 - lr: 1.9531e-05\n",
      "Epoch 89/100\n",
      "84/84 [==============================] - 4s 51ms/step - loss: 0.6421 - accuracy: 1.0000 - val_loss: 0.7883 - val_accuracy: 1.0000 - lr: 1.9531e-05\n",
      "Epoch 90/100\n",
      "84/84 [==============================] - ETA: 0s - loss: 0.7088 - accuracy: 1.0000\n",
      "Epoch 00090: ReduceLROnPlateau reducing learning rate to 9.765624781721272e-06.\n",
      "84/84 [==============================] - 4s 51ms/step - loss: 0.7088 - accuracy: 1.0000 - val_loss: 0.7883 - val_accuracy: 1.0000 - lr: 1.9531e-05\n",
      "Epoch 91/100\n",
      "84/84 [==============================] - 4s 51ms/step - loss: 0.6707 - accuracy: 1.0000 - val_loss: 0.7883 - val_accuracy: 1.0000 - lr: 9.7656e-06\n",
      "Epoch 92/100\n",
      "84/84 [==============================] - 4s 49ms/step - loss: 0.6760 - accuracy: 1.0000 - val_loss: 0.7883 - val_accuracy: 1.0000 - lr: 9.7656e-06\n",
      "Epoch 93/100\n",
      "84/84 [==============================] - 4s 51ms/step - loss: 0.6674 - accuracy: 1.0000 - val_loss: 0.7883 - val_accuracy: 1.0000 - lr: 9.7656e-06\n",
      "Epoch 94/100\n",
      "84/84 [==============================] - 4s 51ms/step - loss: 0.6771 - accuracy: 1.0000 - val_loss: 0.7883 - val_accuracy: 1.0000 - lr: 9.7656e-06\n",
      "Epoch 95/100\n",
      "84/84 [==============================] - ETA: 0s - loss: 0.6797 - accuracy: 1.0000\n",
      "Epoch 00095: ReduceLROnPlateau reducing learning rate to 4.882812390860636e-06.\n",
      "84/84 [==============================] - 4s 51ms/step - loss: 0.6797 - accuracy: 1.0000 - val_loss: 0.7883 - val_accuracy: 1.0000 - lr: 9.7656e-06\n",
      "Epoch 96/100\n",
      "84/84 [==============================] - 4s 51ms/step - loss: 0.6893 - accuracy: 1.0000 - val_loss: 0.7883 - val_accuracy: 1.0000 - lr: 4.8828e-06\n",
      "Epoch 97/100\n",
      "84/84 [==============================] - 4s 52ms/step - loss: 0.6845 - accuracy: 1.0000 - val_loss: 0.7883 - val_accuracy: 1.0000 - lr: 4.8828e-06\n",
      "Epoch 98/100\n",
      "84/84 [==============================] - 4s 52ms/step - loss: 0.6815 - accuracy: 1.0000 - val_loss: 0.7883 - val_accuracy: 1.0000 - lr: 4.8828e-06\n",
      "Epoch 99/100\n",
      "84/84 [==============================] - 4s 51ms/step - loss: 0.6782 - accuracy: 1.0000 - val_loss: 0.7883 - val_accuracy: 1.0000 - lr: 4.8828e-06\n",
      "Epoch 100/100\n",
      "83/84 [============================>.] - ETA: 0s - loss: 0.6787 - accuracy: 1.0000\n",
      "Epoch 00100: ReduceLROnPlateau reducing learning rate to 2.441406195430318e-06.\n",
      "84/84 [==============================] - 4s 53ms/step - loss: 0.6740 - accuracy: 1.0000 - val_loss: 0.7883 - val_accuracy: 1.0000 - lr: 4.8828e-06\n"
     ]
    }
   ],
   "source": [
    "rdlr = ReduceLROnPlateau(patience=5, factor=0.5, min_lr=1e-6, monitor='val_loss', verbose=1)\n",
    "\n",
    "h1 = original_model.fit(X2_train, Y2_train, epochs=100, batch_size=4, validation_data=(X2_val, Y2_val), callbacks=[rdlr])"
   ]
  },
  {
   "cell_type": "code",
   "execution_count": 50,
   "metadata": {},
   "outputs": [
    {
     "data": {
      "image/png": "[encoded data removed]",
      "text/plain": [
       "<Figure size 432x864 with 3 Axes>"
      ]
     },
     "metadata": {
      "needs_background": "light"
     },
     "output_type": "display_data"
    }
   ],
   "source": [
    "#fig, ax = plt.subplots(1, 2, figsize=(10, 3))\n",
    "plt.figure(figsize= (6,12))\n",
    "plt.subplot(211)\n",
    "plt.plot(h1.history['loss'], label='loss')\n",
    "plt.plot(h1.history['val_loss'], label='val_loss')\n",
    "plt.ylabel('MSE Loss')\n",
    "#plt.xticks(epochs,\" \")\n",
    "_ = plt.legend()\n",
    "ax2 = plt.gca().twinx()\n",
    "ax2.plot(h1.history['lr'], color='r', linestyle='dashed')\n",
    "ax2.set_ylabel('lr',color='r')\n",
    "\n",
    "\n",
    "plt.subplot(212)\n",
    "plt.plot(h1.history['accuracy'], label='accuracy')\n",
    "plt.plot(h1.history['val_accuracy'], label='val_accuracy')\n",
    "plt.ylabel('Accuracy')\n",
    "plt.xlabel('Epochs')\n",
    "\n",
    "\n",
    "\n",
    "\n",
    "_ = plt.legend()"
   ]
  },
  {
   "cell_type": "markdown",
   "metadata": {},
   "source": [
    "#### 4.1.2 CNN with additional layers"
   ]
  },
  {
   "cell_type": "markdown",
   "metadata": {},
   "source": [
    "Modified model"
   ]
  },
  {
   "cell_type": "code",
   "execution_count": 51,
   "metadata": {},
   "outputs": [],
   "source": [
    "#Hyperparameters for the network\n",
    "DENSE = 100\n",
    "DROPOUT = 0.3\n",
    "C1_K  = 32 #Number of kernels/feature extractors for first layer\n",
    "C1_S  = 20 #Width of the convolutional mini networks\n",
    "C2_K  = 64\n",
    "C2_S  = 20\n",
    "C3_K  = 128\n",
    "C3_S  = 20\n",
    "C4_K  = 256\n",
    "C4_S  = 20\n",
    "\n",
    "activation='relu'\n",
    "\n",
    "input_dim = X2_train.shape[1]\n",
    "\n",
    "#The model\n",
    "def make_model():\n",
    "    model = Sequential()\n",
    "    #Adding a bit of GaussianNoise also works as regularization\n",
    "    model.add(GaussianNoise(0.02, input_shape=(input_dim,)))\n",
    "    #First two is number of filter + kernel size\n",
    "    model.add(Reshape((input_dim, 1)))\n",
    "    model.add(Conv1D(C1_K, (C1_S), activation=activation, padding=\"same\"))\n",
    "    model.add(MaxPooling1D(pool_size=2, padding='valid'))\n",
    "    model.add(Conv1D(C2_K, (C2_S), padding=\"same\", activation=activation))\n",
    "    model.add(MaxPooling1D(pool_size=5, padding='valid'))\n",
    "    model.add(Conv1D(C3_K, (C3_S), padding=\"same\", activation=activation))\n",
    "    model.add(MaxPooling1D(pool_size=5, padding='valid'))\n",
    "    model.add(Conv1D(C4_K, (C4_S), padding=\"same\", activation=activation))\n",
    "    model.add(MaxPooling1D(pool_size=5, padding='valid'))\n",
    "    \n",
    "    model.add(Flatten())\n",
    "    \n",
    "    model.add(Dense(1028, activation='tanh', kernel_constraint=maxnorm(3)))\n",
    "    model.add(BatchNormalization())\n",
    "    model.add(Dense(512, activation='tanh', kernel_constraint=maxnorm(3)))\n",
    "    model.add(BatchNormalization())\n",
    "    model.add(Dropout(DROPOUT))\n",
    "    model.add(Dense(256, activation='tanh', kernel_constraint=maxnorm(3)))\n",
    "    model.add(BatchNormalization())\n",
    "    model.add(Dropout(DROPOUT))\n",
    "    model.add(Dense(128, activation='tanh', kernel_constraint=maxnorm(3)))\n",
    "    model.add(BatchNormalization())\n",
    "    model.add(Dropout(DROPOUT))\n",
    "    model.add(Dense(DENSE, activation='swish'))\n",
    "    model.add(Dense(Y2_train.shape[1], activation='linear'))\n",
    "\n",
    "    #model.compile(loss='mse', optimizer=keras.optimizers.Adadelta(lr=0.005))#, metrics=['mean_absolute_error'])\n",
    "    model.compile(loss='mse', metrics=['accuracy'], optimizer=keras.optimizers.Adadelta(lr=0.005))#, metrics=['mean_absolute_error'])\n",
    "     \n",
    "    return model\n",
    "\n"
   ]
  },
  {
   "cell_type": "code",
   "execution_count": 52,
   "metadata": {},
   "outputs": [
    {
     "name": "stdout",
     "output_type": "stream",
     "text": [
      "Model: \"sequential_1\"\n",
      "_________________________________________________________________\n",
      "Layer (type)                 Output Shape              Param #   \n",
      "=================================================================\n",
      "gaussian_noise_1 (GaussianNo (None, 2542)              0         \n",
      "_________________________________________________________________\n",
      "reshape_1 (Reshape)          (None, 2542, 1)           0         \n",
      "_________________________________________________________________\n",
      "conv1d_2 (Conv1D)            (None, 2542, 32)          672       \n",
      "_________________________________________________________________\n",
      "max_pooling1d (MaxPooling1D) (None, 1271, 32)          0         \n",
      "_________________________________________________________________\n",
      "conv1d_3 (Conv1D)            (None, 1271, 64)          41024     \n",
      "_________________________________________________________________\n",
      "max_pooling1d_1 (MaxPooling1 (None, 254, 64)           0         \n",
      "_________________________________________________________________\n",
      "conv1d_4 (Conv1D)            (None, 254, 128)          163968    \n",
      "_________________________________________________________________\n",
      "max_pooling1d_2 (MaxPooling1 (None, 50, 128)           0         \n",
      "_________________________________________________________________\n",
      "conv1d_5 (Conv1D)            (None, 50, 256)           655616    \n",
      "_________________________________________________________________\n",
      "max_pooling1d_3 (MaxPooling1 (None, 10, 256)           0         \n",
      "_________________________________________________________________\n",
      "flatten_1 (Flatten)          (None, 2560)              0         \n",
      "_________________________________________________________________\n",
      "dense_2 (Dense)              (None, 1028)              2632708   \n",
      "_________________________________________________________________\n",
      "batch_normalization (BatchNo (None, 1028)              4112      \n",
      "_________________________________________________________________\n",
      "dense_3 (Dense)              (None, 512)               526848    \n",
      "_________________________________________________________________\n",
      "batch_normalization_1 (Batch (None, 512)               2048      \n",
      "_________________________________________________________________\n",
      "dropout_1 (Dropout)          (None, 512)               0         \n",
      "_________________________________________________________________\n",
      "dense_4 (Dense)              (None, 256)               131328    \n",
      "_________________________________________________________________\n",
      "batch_normalization_2 (Batch (None, 256)               1024      \n",
      "_________________________________________________________________\n",
      "dropout_2 (Dropout)          (None, 256)               0         \n",
      "_________________________________________________________________\n",
      "dense_5 (Dense)              (None, 128)               32896     \n",
      "_________________________________________________________________\n",
      "batch_normalization_3 (Batch (None, 128)               512       \n",
      "_________________________________________________________________\n",
      "dropout_3 (Dropout)          (None, 128)               0         \n",
      "_________________________________________________________________\n",
      "dense_6 (Dense)              (None, 100)               12900     \n",
      "_________________________________________________________________\n",
      "dense_7 (Dense)              (None, 3)                 303       \n",
      "=================================================================\n",
      "Total params: 4,205,959\n",
      "Trainable params: 4,202,111\n",
      "Non-trainable params: 3,848\n",
      "_________________________________________________________________\n",
      "None\n"
     ]
    }
   ],
   "source": [
    "model = make_model()\n",
    "print(model.summary())"
   ]
  },
  {
   "cell_type": "code",
   "execution_count": 53,
   "metadata": {
    "scrolled": true
   },
   "outputs": [
    {
     "name": "stdout",
     "output_type": "stream",
     "text": [
      "Epoch 1/100\n",
      "84/84 [==============================] - 4s 48ms/step - loss: 11.8991 - accuracy: 0.3463 - val_loss: 12.8959 - val_accuracy: 1.0000 - lr: 0.0050\n",
      "Epoch 2/100\n",
      "84/84 [==============================] - 4s 47ms/step - loss: 10.9021 - accuracy: 0.3582 - val_loss: 12.6345 - val_accuracy: 0.3421 - lr: 0.0050\n",
      "Epoch 3/100\n",
      "84/84 [==============================] - 4s 46ms/step - loss: 9.8980 - accuracy: 0.4448 - val_loss: 12.3687 - val_accuracy: 0.2368 - lr: 0.0050\n",
      "Epoch 4/100\n",
      "84/84 [==============================] - 4s 44ms/step - loss: 9.3189 - accuracy: 0.5015 - val_loss: 12.6331 - val_accuracy: 0.9737 - lr: 0.0050\n",
      "Epoch 5/100\n",
      "84/84 [==============================] - 4s 50ms/step - loss: 8.6981 - accuracy: 0.5642 - val_loss: 9.2094 - val_accuracy: 0.8947 - lr: 0.0050\n",
      "Epoch 6/100\n",
      "84/84 [==============================] - 4s 48ms/step - loss: 8.2660 - accuracy: 0.6000 - val_loss: 6.1647 - val_accuracy: 0.8421 - lr: 0.0050\n",
      "Epoch 7/100\n",
      "84/84 [==============================] - 4s 45ms/step - loss: 7.7586 - accuracy: 0.6896 - val_loss: 7.5883 - val_accuracy: 0.6053 - lr: 0.0050\n",
      "Epoch 8/100\n",
      "83/84 [============================>.] - ETA: 0s - loss: 7.4749 - accuracy: 0.6657\n",
      "Epoch 00008: ReduceLROnPlateau reducing learning rate to 0.0024999999441206455.\n",
      "84/84 [==============================] - 4s 46ms/step - loss: 7.4537 - accuracy: 0.6687 - val_loss: 6.9500 - val_accuracy: 0.6579 - lr: 0.0050\n",
      "Epoch 9/100\n",
      "84/84 [==============================] - 4s 47ms/step - loss: 6.9258 - accuracy: 0.7045 - val_loss: 5.9294 - val_accuracy: 0.7368 - lr: 0.0025\n",
      "Epoch 10/100\n",
      "84/84 [==============================] - 4s 45ms/step - loss: 7.2436 - accuracy: 0.6985 - val_loss: 4.2696 - val_accuracy: 1.0000 - lr: 0.0025\n",
      "Epoch 11/100\n",
      "84/84 [==============================] - 4s 45ms/step - loss: 6.8430 - accuracy: 0.7373 - val_loss: 4.6672 - val_accuracy: 0.9474 - lr: 0.0025\n",
      "Epoch 12/100\n",
      "84/84 [==============================] - 4s 45ms/step - loss: 6.7821 - accuracy: 0.7284 - val_loss: 4.0348 - val_accuracy: 1.0000 - lr: 0.0025\n",
      "Epoch 13/100\n",
      "84/84 [==============================] - 4s 47ms/step - loss: 6.5233 - accuracy: 0.7672 - val_loss: 4.0219 - val_accuracy: 0.8684 - lr: 0.0025\n",
      "Epoch 14/100\n",
      "84/84 [==============================] - 4s 46ms/step - loss: 6.5596 - accuracy: 0.7493 - val_loss: 3.3360 - val_accuracy: 1.0000 - lr: 0.0025\n",
      "Epoch 15/100\n",
      "84/84 [==============================] - 4s 46ms/step - loss: 6.1297 - accuracy: 0.8030 - val_loss: 3.5180 - val_accuracy: 0.9474 - lr: 0.0025\n",
      "Epoch 16/100\n",
      "84/84 [==============================] - 4s 49ms/step - loss: 6.0388 - accuracy: 0.8328 - val_loss: 2.9722 - val_accuracy: 1.0000 - lr: 0.0025\n",
      "Epoch 17/100\n",
      "84/84 [==============================] - 4s 49ms/step - loss: 5.8419 - accuracy: 0.8299 - val_loss: 2.6821 - val_accuracy: 1.0000 - lr: 0.0025\n",
      "Epoch 18/100\n",
      "84/84 [==============================] - 4s 46ms/step - loss: 5.5993 - accuracy: 0.8478 - val_loss: 2.3733 - val_accuracy: 1.0000 - lr: 0.0025\n",
      "Epoch 19/100\n",
      "84/84 [==============================] - 4s 45ms/step - loss: 5.5509 - accuracy: 0.8448 - val_loss: 3.0680 - val_accuracy: 1.0000 - lr: 0.0025\n",
      "Epoch 20/100\n",
      "83/84 [============================>.] - ETA: 0s - loss: 5.3023 - accuracy: 0.8494\n",
      "Epoch 00020: ReduceLROnPlateau reducing learning rate to 0.0012499999720603228.\n",
      "84/84 [==============================] - 4s 45ms/step - loss: 5.3127 - accuracy: 0.8478 - val_loss: 3.1169 - val_accuracy: 1.0000 - lr: 0.0025\n",
      "Epoch 21/100\n",
      "84/84 [==============================] - 4s 44ms/step - loss: 5.5998 - accuracy: 0.8567 - val_loss: 2.5884 - val_accuracy: 1.0000 - lr: 0.0012\n",
      "Epoch 22/100\n",
      "84/84 [==============================] - 4s 44ms/step - loss: 5.4766 - accuracy: 0.8567 - val_loss: 2.3349 - val_accuracy: 1.0000 - lr: 0.0012\n",
      "Epoch 23/100\n",
      "84/84 [==============================] - 4s 44ms/step - loss: 5.2349 - accuracy: 0.8746 - val_loss: 2.3784 - val_accuracy: 1.0000 - lr: 0.0012\n",
      "Epoch 24/100\n",
      "84/84 [==============================] - 4s 44ms/step - loss: 5.2777 - accuracy: 0.8537 - val_loss: 2.0987 - val_accuracy: 1.0000 - lr: 0.0012\n",
      "Epoch 25/100\n",
      "84/84 [==============================] - 4s 44ms/step - loss: 4.9423 - accuracy: 0.8657 - val_loss: 1.8508 - val_accuracy: 1.0000 - lr: 0.0012\n",
      "Epoch 26/100\n",
      "84/84 [==============================] - 4s 45ms/step - loss: 4.9905 - accuracy: 0.8806 - val_loss: 1.8718 - val_accuracy: 1.0000 - lr: 0.0012\n",
      "Epoch 27/100\n",
      "84/84 [==============================] - 4s 44ms/step - loss: 4.8258 - accuracy: 0.9045 - val_loss: 1.8182 - val_accuracy: 1.0000 - lr: 0.0012\n",
      "Epoch 28/100\n",
      "84/84 [==============================] - 4s 44ms/step - loss: 4.8221 - accuracy: 0.8896 - val_loss: 1.9035 - val_accuracy: 1.0000 - lr: 0.0012\n",
      "Epoch 29/100\n",
      "84/84 [==============================] - ETA: 0s - loss: 4.9292 - accuracy: 0.8896\n",
      "Epoch 00029: ReduceLROnPlateau reducing learning rate to 0.0006249999860301614.\n",
      "84/84 [==============================] - 4s 44ms/step - loss: 4.9292 - accuracy: 0.8896 - val_loss: 1.9837 - val_accuracy: 1.0000 - lr: 0.0012\n",
      "Epoch 30/100\n",
      "84/84 [==============================] - 4s 44ms/step - loss: 4.9393 - accuracy: 0.8716 - val_loss: 2.0587 - val_accuracy: 1.0000 - lr: 6.2500e-04\n",
      "Epoch 31/100\n",
      "84/84 [==============================] - ETA: 0s - loss: 4.9047 - accuracy: 0.8985\n",
      "Epoch 00031: ReduceLROnPlateau reducing learning rate to 0.0003124999930150807.\n",
      "84/84 [==============================] - 4s 45ms/step - loss: 4.9047 - accuracy: 0.8985 - val_loss: 1.8545 - val_accuracy: 1.0000 - lr: 6.2500e-04\n",
      "Epoch 32/100\n",
      "84/84 [==============================] - 4s 45ms/step - loss: 4.9404 - accuracy: 0.8657 - val_loss: 1.8802 - val_accuracy: 1.0000 - lr: 3.1250e-04\n",
      "Epoch 33/100\n",
      "83/84 [============================>.] - ETA: 0s - loss: 4.8483 - accuracy: 0.8976\n",
      "Epoch 00033: ReduceLROnPlateau reducing learning rate to 0.00015624999650754035.\n",
      "84/84 [==============================] - 4s 45ms/step - loss: 4.8485 - accuracy: 0.8985 - val_loss: 1.8282 - val_accuracy: 1.0000 - lr: 3.1250e-04\n",
      "Epoch 34/100\n",
      "84/84 [==============================] - 4s 44ms/step - loss: 4.6833 - accuracy: 0.9313 - val_loss: 1.8479 - val_accuracy: 1.0000 - lr: 1.5625e-04\n",
      "Epoch 35/100\n",
      "83/84 [============================>.] - ETA: 0s - loss: 5.0303 - accuracy: 0.8946\n",
      "Epoch 00035: ReduceLROnPlateau reducing learning rate to 7.812499825377017e-05.\n",
      "84/84 [==============================] - 4s 44ms/step - loss: 5.0263 - accuracy: 0.8955 - val_loss: 1.8320 - val_accuracy: 1.0000 - lr: 1.5625e-04\n",
      "Epoch 36/100\n",
      "84/84 [==============================] - 4s 44ms/step - loss: 4.7571 - accuracy: 0.9224 - val_loss: 1.8316 - val_accuracy: 1.0000 - lr: 7.8125e-05\n",
      "Epoch 37/100\n",
      "83/84 [============================>.] - ETA: 0s - loss: 4.7607 - accuracy: 0.8886\n",
      "Epoch 00037: ReduceLROnPlateau reducing learning rate to 3.9062499126885086e-05.\n",
      "84/84 [==============================] - 4s 44ms/step - loss: 4.7528 - accuracy: 0.8896 - val_loss: 1.8192 - val_accuracy: 1.0000 - lr: 7.8125e-05\n",
      "Epoch 38/100\n",
      "84/84 [==============================] - 4s 45ms/step - loss: 4.8317 - accuracy: 0.9045 - val_loss: 1.8180 - val_accuracy: 1.0000 - lr: 3.9062e-05\n",
      "Epoch 39/100\n",
      "84/84 [==============================] - 4s 45ms/step - loss: 4.7589 - accuracy: 0.9194 - val_loss: 1.8181 - val_accuracy: 1.0000 - lr: 3.9062e-05\n",
      "Epoch 40/100\n",
      "83/84 [============================>.] - ETA: 0s - loss: 4.8287 - accuracy: 0.9096\n",
      "Epoch 00040: ReduceLROnPlateau reducing learning rate to 1.9531249563442543e-05.\n",
      "84/84 [==============================] - 4s 44ms/step - loss: 4.8405 - accuracy: 0.9075 - val_loss: 1.8261 - val_accuracy: 1.0000 - lr: 3.9062e-05\n",
      "Epoch 41/100\n",
      "84/84 [==============================] - 4s 45ms/step - loss: 4.7469 - accuracy: 0.8896 - val_loss: 1.8121 - val_accuracy: 1.0000 - lr: 1.9531e-05\n",
      "Epoch 42/100\n",
      "84/84 [==============================] - 4s 45ms/step - loss: 4.7431 - accuracy: 0.9254 - val_loss: 1.8084 - val_accuracy: 1.0000 - lr: 1.9531e-05\n",
      "Epoch 43/100\n",
      "84/84 [==============================] - 4s 45ms/step - loss: 4.5747 - accuracy: 0.9164 - val_loss: 1.8116 - val_accuracy: 1.0000 - lr: 1.9531e-05\n",
      "Epoch 44/100\n",
      "84/84 [==============================] - ETA: 0s - loss: 4.6537 - accuracy: 0.9224\n",
      "Epoch 00044: ReduceLROnPlateau reducing learning rate to 9.765624781721272e-06.\n",
      "84/84 [==============================] - 4s 45ms/step - loss: 4.6537 - accuracy: 0.9224 - val_loss: 1.8176 - val_accuracy: 1.0000 - lr: 1.9531e-05\n",
      "Epoch 45/100\n",
      "84/84 [==============================] - 4s 44ms/step - loss: 4.6542 - accuracy: 0.9194 - val_loss: 1.8336 - val_accuracy: 1.0000 - lr: 9.7656e-06\n",
      "Epoch 46/100\n",
      "83/84 [============================>.] - ETA: 0s - loss: 4.8134 - accuracy: 0.9006\n",
      "Epoch 00046: ReduceLROnPlateau reducing learning rate to 4.882812390860636e-06.\n",
      "84/84 [==============================] - 4s 45ms/step - loss: 4.8067 - accuracy: 0.8985 - val_loss: 1.8217 - val_accuracy: 1.0000 - lr: 9.7656e-06\n",
      "Epoch 47/100\n",
      "84/84 [==============================] - 4s 45ms/step - loss: 4.6239 - accuracy: 0.9194 - val_loss: 1.8233 - val_accuracy: 1.0000 - lr: 4.8828e-06\n",
      "Epoch 48/100\n",
      "83/84 [============================>.] - ETA: 0s - loss: 4.6952 - accuracy: 0.9127\n",
      "Epoch 00048: ReduceLROnPlateau reducing learning rate to 2.441406195430318e-06.\n",
      "84/84 [==============================] - 4s 45ms/step - loss: 4.6791 - accuracy: 0.9134 - val_loss: 1.8144 - val_accuracy: 1.0000 - lr: 4.8828e-06\n",
      "Epoch 49/100\n",
      "84/84 [==============================] - 4s 45ms/step - loss: 4.6613 - accuracy: 0.8896 - val_loss: 1.8075 - val_accuracy: 1.0000 - lr: 2.4414e-06\n",
      "Epoch 50/100\n",
      "84/84 [==============================] - 4s 45ms/step - loss: 4.7457 - accuracy: 0.9284 - val_loss: 1.8326 - val_accuracy: 1.0000 - lr: 2.4414e-06\n",
      "Epoch 51/100\n",
      "83/84 [============================>.] - ETA: 0s - loss: 4.9333 - accuracy: 0.9066\n",
      "Epoch 00051: ReduceLROnPlateau reducing learning rate to 1.220703097715159e-06.\n",
      "84/84 [==============================] - 4s 45ms/step - loss: 4.9243 - accuracy: 0.9075 - val_loss: 1.8280 - val_accuracy: 1.0000 - lr: 2.4414e-06\n",
      "Epoch 52/100\n",
      "84/84 [==============================] - 4s 45ms/step - loss: 4.6056 - accuracy: 0.9164 - val_loss: 1.8099 - val_accuracy: 1.0000 - lr: 1.2207e-06\n",
      "Epoch 53/100\n",
      "83/84 [============================>.] - ETA: 0s - loss: 4.9668 - accuracy: 0.9006\n",
      "Epoch 00053: ReduceLROnPlateau reducing learning rate to 1e-06.\n",
      "84/84 [==============================] - 4s 45ms/step - loss: 4.9513 - accuracy: 0.9015 - val_loss: 1.8223 - val_accuracy: 1.0000 - lr: 1.2207e-06\n",
      "Epoch 54/100\n",
      "84/84 [==============================] - 4s 45ms/step - loss: 4.8828 - accuracy: 0.9045 - val_loss: 1.8343 - val_accuracy: 1.0000 - lr: 1.0000e-06\n",
      "Epoch 55/100\n",
      "84/84 [==============================] - 4s 45ms/step - loss: 4.7692 - accuracy: 0.9015 - val_loss: 1.7862 - val_accuracy: 1.0000 - lr: 1.0000e-06\n",
      "Epoch 56/100\n",
      "84/84 [==============================] - 4s 45ms/step - loss: 4.6181 - accuracy: 0.9134 - val_loss: 1.8022 - val_accuracy: 1.0000 - lr: 1.0000e-06\n",
      "Epoch 57/100\n",
      "84/84 [==============================] - 4s 45ms/step - loss: 4.7030 - accuracy: 0.9045 - val_loss: 1.8113 - val_accuracy: 1.0000 - lr: 1.0000e-06\n",
      "Epoch 58/100\n",
      "84/84 [==============================] - 4s 45ms/step - loss: 4.6430 - accuracy: 0.8925 - val_loss: 1.7891 - val_accuracy: 1.0000 - lr: 1.0000e-06\n",
      "Epoch 59/100\n",
      "84/84 [==============================] - 4s 45ms/step - loss: 4.8389 - accuracy: 0.8806 - val_loss: 1.7787 - val_accuracy: 1.0000 - lr: 1.0000e-06\n",
      "Epoch 60/100\n",
      "84/84 [==============================] - 4s 45ms/step - loss: 4.9218 - accuracy: 0.8955 - val_loss: 1.8016 - val_accuracy: 1.0000 - lr: 1.0000e-06\n",
      "Epoch 61/100\n",
      "84/84 [==============================] - 4s 45ms/step - loss: 4.6690 - accuracy: 0.8985 - val_loss: 1.7776 - val_accuracy: 1.0000 - lr: 1.0000e-06\n",
      "Epoch 62/100\n",
      "84/84 [==============================] - 4s 45ms/step - loss: 4.8209 - accuracy: 0.8836 - val_loss: 1.7803 - val_accuracy: 1.0000 - lr: 1.0000e-06\n",
      "Epoch 63/100\n",
      "84/84 [==============================] - 4s 45ms/step - loss: 4.7482 - accuracy: 0.8985 - val_loss: 1.7902 - val_accuracy: 1.0000 - lr: 1.0000e-06\n",
      "Epoch 64/100\n",
      "84/84 [==============================] - 4s 45ms/step - loss: 4.6084 - accuracy: 0.9134 - val_loss: 1.7983 - val_accuracy: 1.0000 - lr: 1.0000e-06\n",
      "Epoch 65/100\n",
      "84/84 [==============================] - 4s 45ms/step - loss: 4.3614 - accuracy: 0.9433 - val_loss: 1.8086 - val_accuracy: 1.0000 - lr: 1.0000e-06\n",
      "Epoch 66/100\n",
      "84/84 [==============================] - 4s 45ms/step - loss: 4.9018 - accuracy: 0.8776 - val_loss: 1.7978 - val_accuracy: 1.0000 - lr: 1.0000e-06\n",
      "Epoch 67/100\n",
      "84/84 [==============================] - 4s 45ms/step - loss: 4.7583 - accuracy: 0.8896 - val_loss: 1.7926 - val_accuracy: 1.0000 - lr: 1.0000e-06\n",
      "Epoch 68/100\n",
      "84/84 [==============================] - 4s 45ms/step - loss: 4.6420 - accuracy: 0.9224 - val_loss: 1.7987 - val_accuracy: 1.0000 - lr: 1.0000e-06\n",
      "Epoch 69/100\n",
      "84/84 [==============================] - 4s 45ms/step - loss: 4.6888 - accuracy: 0.8955 - val_loss: 1.7893 - val_accuracy: 1.0000 - lr: 1.0000e-06\n",
      "Epoch 70/100\n",
      "84/84 [==============================] - 4s 45ms/step - loss: 4.8689 - accuracy: 0.8896 - val_loss: 1.7724 - val_accuracy: 1.0000 - lr: 1.0000e-06\n",
      "Epoch 71/100\n",
      "84/84 [==============================] - 4s 45ms/step - loss: 4.6942 - accuracy: 0.9134 - val_loss: 1.7953 - val_accuracy: 1.0000 - lr: 1.0000e-06\n",
      "Epoch 72/100\n",
      "84/84 [==============================] - 4s 45ms/step - loss: 4.7629 - accuracy: 0.9045 - val_loss: 1.8191 - val_accuracy: 1.0000 - lr: 1.0000e-06\n",
      "Epoch 73/100\n",
      "84/84 [==============================] - 4s 49ms/step - loss: 4.7790 - accuracy: 0.9075 - val_loss: 1.7945 - val_accuracy: 1.0000 - lr: 1.0000e-06\n",
      "Epoch 74/100\n",
      "84/84 [==============================] - 4s 47ms/step - loss: 4.3482 - accuracy: 0.9194 - val_loss: 1.7908 - val_accuracy: 1.0000 - lr: 1.0000e-06\n",
      "Epoch 75/100\n",
      "84/84 [==============================] - 4s 46ms/step - loss: 4.8660 - accuracy: 0.8746 - val_loss: 1.7940 - val_accuracy: 1.0000 - lr: 1.0000e-06\n",
      "Epoch 76/100\n",
      "84/84 [==============================] - 4s 46ms/step - loss: 4.9478 - accuracy: 0.8925 - val_loss: 1.7895 - val_accuracy: 1.0000 - lr: 1.0000e-06\n",
      "Epoch 77/100\n",
      "84/84 [==============================] - 4s 46ms/step - loss: 4.9423 - accuracy: 0.8806 - val_loss: 1.7750 - val_accuracy: 1.0000 - lr: 1.0000e-06\n",
      "Epoch 78/100\n",
      "84/84 [==============================] - 4s 46ms/step - loss: 4.7219 - accuracy: 0.9134 - val_loss: 1.7810 - val_accuracy: 1.0000 - lr: 1.0000e-06\n",
      "Epoch 79/100\n",
      "84/84 [==============================] - 4s 45ms/step - loss: 4.8983 - accuracy: 0.9015 - val_loss: 1.8147 - val_accuracy: 1.0000 - lr: 1.0000e-06\n",
      "Epoch 80/100\n",
      "84/84 [==============================] - 4s 46ms/step - loss: 4.6049 - accuracy: 0.9194 - val_loss: 1.7949 - val_accuracy: 1.0000 - lr: 1.0000e-06\n",
      "Epoch 81/100\n",
      "84/84 [==============================] - 4s 46ms/step - loss: 4.8220 - accuracy: 0.9045 - val_loss: 1.8128 - val_accuracy: 1.0000 - lr: 1.0000e-06\n",
      "Epoch 82/100\n",
      "84/84 [==============================] - 4s 47ms/step - loss: 4.8348 - accuracy: 0.9075 - val_loss: 1.7989 - val_accuracy: 1.0000 - lr: 1.0000e-06\n",
      "Epoch 83/100\n",
      "84/84 [==============================] - 4s 46ms/step - loss: 4.7895 - accuracy: 0.8896 - val_loss: 1.7814 - val_accuracy: 1.0000 - lr: 1.0000e-06\n",
      "Epoch 84/100\n",
      "84/84 [==============================] - 4s 46ms/step - loss: 5.1641 - accuracy: 0.8567 - val_loss: 1.7926 - val_accuracy: 1.0000 - lr: 1.0000e-06\n",
      "Epoch 85/100\n",
      "84/84 [==============================] - 4s 45ms/step - loss: 4.8465 - accuracy: 0.9015 - val_loss: 1.7844 - val_accuracy: 1.0000 - lr: 1.0000e-06\n",
      "Epoch 86/100\n",
      "84/84 [==============================] - 4s 46ms/step - loss: 4.5505 - accuracy: 0.8985 - val_loss: 1.7965 - val_accuracy: 1.0000 - lr: 1.0000e-06\n",
      "Epoch 87/100\n",
      "84/84 [==============================] - 4s 46ms/step - loss: 4.8251 - accuracy: 0.8836 - val_loss: 1.7950 - val_accuracy: 1.0000 - lr: 1.0000e-06\n",
      "Epoch 88/100\n",
      "84/84 [==============================] - 4s 48ms/step - loss: 4.7971 - accuracy: 0.8985 - val_loss: 1.7824 - val_accuracy: 1.0000 - lr: 1.0000e-06\n",
      "Epoch 89/100\n",
      "84/84 [==============================] - 4s 47ms/step - loss: 4.4707 - accuracy: 0.9164 - val_loss: 1.8150 - val_accuracy: 1.0000 - lr: 1.0000e-06\n",
      "Epoch 90/100\n",
      "84/84 [==============================] - 4s 45ms/step - loss: 5.0633 - accuracy: 0.8716 - val_loss: 1.7922 - val_accuracy: 1.0000 - lr: 1.0000e-06\n",
      "Epoch 91/100\n",
      "84/84 [==============================] - 4s 44ms/step - loss: 4.6663 - accuracy: 0.8776 - val_loss: 1.7977 - val_accuracy: 1.0000 - lr: 1.0000e-06\n",
      "Epoch 92/100\n",
      "84/84 [==============================] - 4s 44ms/step - loss: 4.7009 - accuracy: 0.9224 - val_loss: 1.7857 - val_accuracy: 1.0000 - lr: 1.0000e-06\n",
      "Epoch 93/100\n",
      "84/84 [==============================] - 4s 45ms/step - loss: 4.6961 - accuracy: 0.9284 - val_loss: 1.8206 - val_accuracy: 1.0000 - lr: 1.0000e-06\n",
      "Epoch 94/100\n",
      "84/84 [==============================] - 4s 44ms/step - loss: 4.5027 - accuracy: 0.9254 - val_loss: 1.8073 - val_accuracy: 1.0000 - lr: 1.0000e-06\n",
      "Epoch 95/100\n",
      "84/84 [==============================] - 4s 44ms/step - loss: 4.8113 - accuracy: 0.9015 - val_loss: 1.8000 - val_accuracy: 1.0000 - lr: 1.0000e-06\n",
      "Epoch 96/100\n",
      "84/84 [==============================] - 4s 46ms/step - loss: 4.7969 - accuracy: 0.8955 - val_loss: 1.8080 - val_accuracy: 1.0000 - lr: 1.0000e-06\n",
      "Epoch 97/100\n",
      "84/84 [==============================] - 4s 47ms/step - loss: 4.7290 - accuracy: 0.9015 - val_loss: 1.8353 - val_accuracy: 1.0000 - lr: 1.0000e-06\n",
      "Epoch 98/100\n",
      "84/84 [==============================] - 4s 44ms/step - loss: 4.5470 - accuracy: 0.9164 - val_loss: 1.8269 - val_accuracy: 1.0000 - lr: 1.0000e-06\n",
      "Epoch 99/100\n",
      "84/84 [==============================] - 4s 44ms/step - loss: 4.9319 - accuracy: 0.8716 - val_loss: 1.8079 - val_accuracy: 1.0000 - lr: 1.0000e-06\n",
      "Epoch 100/100\n",
      "84/84 [==============================] - 4s 44ms/step - loss: 4.8764 - accuracy: 0.8925 - val_loss: 1.7333 - val_accuracy: 1.0000 - lr: 1.0000e-06\n"
     ]
    }
   ],
   "source": [
    "rdlr = ReduceLROnPlateau(patience=2, factor=0.5, min_lr=1e-6, monitor='val_loss', verbose=1)\n",
    "\n",
    "h = model.fit(X2_train, Y2_train, epochs=100, batch_size=4, validation_data=(X2_val, Y2_val), callbacks=[rdlr])"
   ]
  },
  {
   "cell_type": "code",
   "execution_count": 188,
   "metadata": {},
   "outputs": [
    {
     "data": {
      "text/plain": [
       "Text(0, 0.5, 'lr')"
      ]
     },
     "execution_count": 188,
     "metadata": {},
     "output_type": "execute_result"
    },
    {
     "data": {
      "image/png": "[encoded data removed]",
      "text/plain": [
       "<Figure size 432x864 with 3 Axes>"
      ]
     },
     "metadata": {
      "needs_background": "light"
     },
     "output_type": "display_data"
    }
   ],
   "source": [
    "#fig, ax = plt.subplots(1, 2, figsize=(10, 3))\n",
    "plt.figure(figsize= (6,12))\n",
    "plt.subplot(211)\n",
    "plt.plot(h.history['accuracy'], label='accuracy')\n",
    "plt.plot(h.history['val_accuracy'], label='val_accuracy')\n",
    "plt.ylabel('Accuracy')\n",
    "\n",
    "#plt.xticks(epochs,\" \")\n",
    "_ = plt.legend()\n",
    "\n",
    "\n",
    "\n",
    "plt.subplot(212)\n",
    "plt.plot(h.history['loss'], label='loss')\n",
    "plt.plot(h.history['val_loss'], label='val_loss')\n",
    "plt.ylabel('MSE Loss')\n",
    "plt.xlabel('Epochs')\n",
    "\n",
    "_ = plt.legend()\n",
    "ax2 = plt.gca().twinx()\n",
    "ax2.plot(h.history['lr'], color='r', linestyle='dashed')\n",
    "ax2.set_ylabel('lr',color='r')\n",
    "\n",
    "\n"
   ]
  },
  {
   "cell_type": "code",
   "execution_count": 55,
   "metadata": {},
   "outputs": [
    {
     "name": "stdout",
     "output_type": "stream",
     "text": [
      "(94, 3) (94, 3)\n"
     ]
    }
   ],
   "source": [
    "Y2_pred = model.predict(X2_test)\n",
    "print(Y2_pred.shape, Y2_test.shape)"
   ]
  },
  {
   "cell_type": "code",
   "execution_count": 56,
   "metadata": {},
   "outputs": [
    {
     "name": "stdout",
     "output_type": "stream",
     "text": [
      "R² score %N :  -1.613130923301938\n",
      "R² score pH :  -2.108750706582395\n",
      "R² score %sand :  -12.153247920532396\n",
      "\n",
      "R² CNN: nan\n",
      "RMSE score %N :  1.23\n",
      "RMSE CNN average: 1.330\n"
     ]
    },
    {
     "name": "stderr",
     "output_type": "stream",
     "text": [
      "<ipython-input-56-2342acd03527>:1: RuntimeWarning: invalid value encountered in sqrt\n",
      "  model_R2 = np.sqrt(r2_score(Y2_test, Y2_pred))\n"
     ]
    }
   ],
   "source": [
    "model_R2 = np.sqrt(r2_score(Y2_test, Y2_pred))\n",
    "\n",
    "# Calculate mean squared error \n",
    "model_RMSE = np.sqrt(mean_squared_error(Y2_test, Y2_pred))\n",
    "\n",
    "\n",
    "print('R² score',target_features[0],': ',r2_score(Y2_test[:,0], Y2_pred[:,0]))\n",
    "print('R² score',target_features[1],': ',r2_score(Y2_test[:,1], Y2_pred[:,1]))\n",
    "print('R² score',target_features[2],': ',r2_score(Y2_test[:,2], Y2_pred[:,2]))\n",
    "#print('R² score',target_features[3],': ',r2_score(Y2_test[:,3], Y2_pred[:,3]))\n",
    "print('')\n",
    "print('R² CNN:', model_R2)\n",
    "print('RMSE score',target_features[0],': ',np.round(np.sqrt(mean_squared_error(Y2_test[:,0], Y2_pred[:,0])),2))\n",
    "print('RMSE CNN average: %5.3f' % np.round(model_RMSE,2))"
   ]
  },
  {
   "cell_type": "code",
   "execution_count": 57,
   "metadata": {},
   "outputs": [
    {
     "data": {
      "text/plain": [
       "[]"
      ]
     },
     "execution_count": 57,
     "metadata": {},
     "output_type": "execute_result"
    },
    {
     "data": {
      "image/png": "[encoded data removed]",
      "text/plain": [
       "<Figure size 432x288 with 1 Axes>"
      ]
     },
     "metadata": {
      "needs_background": "light"
     },
     "output_type": "display_data"
    }
   ],
   "source": [
    "\n",
    "plt.scatter(Y2_test[:,0], Y2_pred[:,0], label = target_features[0], color = 'r')\n",
    "plt.scatter(Y2_test[:,1], Y2_pred[:,1], label = target_features[1], color = 'b')\n",
    "plt.scatter(Y2_test[:,2], Y2_pred[:,2], label = target_features[2], color = 'k')\n",
    "#plt.scatter(Y2_test[:,3], Y2_pred[:,3], label = target_features[3], color = 'g')\n",
    "plt.legend()\n",
    "plt.xlabel('actual values')\n",
    "plt.ylabel('predicted values')\n",
    "plt.title('CNN - 3 variables prediction')\n",
    "plt.plot()"
   ]
  },
  {
   "cell_type": "code",
   "execution_count": 58,
   "metadata": {},
   "outputs": [
    {
     "name": "stdout",
     "output_type": "stream",
     "text": [
      "(94, 3) (94, 3)\n"
     ]
    }
   ],
   "source": [
    "Y2_origpred = original_model.predict(X2_test)\n",
    "print(Y2_origpred.shape, Y2_test.shape)"
   ]
  },
  {
   "cell_type": "code",
   "execution_count": 59,
   "metadata": {},
   "outputs": [
    {
     "name": "stdout",
     "output_type": "stream",
     "text": [
      "R² score %N :  -0.04661099525158896\n",
      "R² score pH :  -0.08472233755908531\n",
      "R² score %sand :  -0.04207622349009843\n",
      "\n",
      "R² CNN: nan\n",
      "RMSE score %N :  0.78\n",
      "RMSE CNN average: 0.780\n"
     ]
    },
    {
     "name": "stderr",
     "output_type": "stream",
     "text": [
      "<ipython-input-59-749d2fe7346d>:1: RuntimeWarning: invalid value encountered in sqrt\n",
      "  origmodel_R2 = np.sqrt(r2_score(Y2_test, Y2_origpred))\n"
     ]
    }
   ],
   "source": [
    "origmodel_R2 = np.sqrt(r2_score(Y2_test, Y2_origpred))\n",
    "\n",
    "# Calculate mean squared error \n",
    "origmodel_RMSE = np.sqrt(mean_squared_error(Y2_test, Y2_origpred))\n",
    "\n",
    "\n",
    "print('R² score',target_features[0],': ',r2_score(Y2_test[:,0], Y2_origpred[:,0]))\n",
    "print('R² score',target_features[1],': ',r2_score(Y2_test[:,1], Y2_origpred[:,1]))\n",
    "print('R² score',target_features[2],': ',r2_score(Y2_test[:,2], Y2_origpred[:,2]))\n",
    "#print('R² score',target_features[3],': ',r2_score(Y2_test[:,3], Y2_origpred[:,3]))\n",
    "print('')\n",
    "print('R² CNN:', origmodel_R2)\n",
    "print('RMSE score',target_features[0],': ',np.round(np.sqrt(mean_squared_error(Y2_test[:,0], Y2_origpred[:,0])),2))\n",
    "print('RMSE CNN average: %5.3f' % np.round(origmodel_RMSE,2))"
   ]
  },
  {
   "cell_type": "code",
   "execution_count": 60,
   "metadata": {},
   "outputs": [
    {
     "data": {
      "text/plain": [
       "[]"
      ]
     },
     "execution_count": 60,
     "metadata": {},
     "output_type": "execute_result"
    },
    {
     "data": {
      "image/png": "[encoded data removed]",
      "text/plain": [
       "<Figure size 432x288 with 1 Axes>"
      ]
     },
     "metadata": {
      "needs_background": "light"
     },
     "output_type": "display_data"
    }
   ],
   "source": [
    "\n",
    "plt.scatter(Y2_test[:,0], Y2_origpred[:,0], label = target_features[0], color = 'r')\n",
    "plt.scatter(Y2_test[:,1], Y2_origpred[:,1], label = target_features[1], color = 'b')\n",
    "plt.scatter(Y2_test[:,2], Y2_origpred[:,2], label = target_features[2], color = 'k')\n",
    "#plt.scatter(Y2_test[:,3], Y2_origpred[:,3], label = target_features[3], color = 'g')\n",
    "plt.legend()\n",
    "plt.xlabel('actual values')\n",
    "plt.ylabel('predicted values by published CNN')\n",
    "plt.title('CNN - 3 variables prediction')\n",
    "plt.plot()"
   ]
  },
  {
   "cell_type": "markdown",
   "metadata": {},
   "source": [
    "## 5. Spectral reduction and baseline correction"
   ]
  },
  {
   "cell_type": "markdown",
   "metadata": {},
   "source": [
    "### 5.1 FTIR spectra baseline correction by differentiation"
   ]
  },
  {
   "cell_type": "code",
   "execution_count": 61,
   "metadata": {},
   "outputs": [
    {
     "name": "stdout",
     "output_type": "stream",
     "text": [
      "2542\n",
      "(467, 2542)\n"
     ]
    },
    {
     "data": {
      "image/png": "[encoded data removed]",
      "text/plain": [
       "<Figure size 576x324 with 1 Axes>"
      ]
     },
     "metadata": {
      "needs_background": "light"
     },
     "output_type": "display_data"
    }
   ],
   "source": [
    "\n",
    "\n",
    "# Get wavelengths\n",
    "wavelenghts_list = df_FTIR.columns.tolist() \n",
    "wavelenghts = np.array(wavelenghts_list)\n",
    "print(len(wavelenghts))\n",
    "\n",
    "\n",
    "# Calculate second derivative. That should average baselines\n",
    "X2 = savgol_filter(X, 17, polyorder = 2,deriv=2)\n",
    "print(X2.shape)\n",
    "# Plot second derivative\n",
    "plt.figure(figsize=(8,4.5))\n",
    "with plt.style.context(('ggplot')):\n",
    "    plt.plot(wavelenghts, X2.T)\n",
    "    plt.xlabel('Wavelength (nm)')\n",
    "    plt.ylabel('D2 Absorbance')\n",
    "    plt.show()"
   ]
  },
  {
   "cell_type": "code",
   "execution_count": 62,
   "metadata": {},
   "outputs": [
    {
     "name": "stdout",
     "output_type": "stream",
     "text": [
      "PLS R² after spectra differentiation: -1.180 vs. -0.5954643262899628 for primitive wave functions\n",
      "PLS RMSE after spectra differentiation: 1.123 vs. 0.9609387553175943 for primitive wave functions\n"
     ]
    }
   ],
   "source": [
    "y2 = df_composition[target_feature].values\n",
    "X3_train, X3_test, y3_train, y3_test = train_test_split(X2, y2, test_size = 0.2, random_state = 42)\n",
    "\n",
    "pls = PLSRegression(n_components=10)\n",
    "model_pls = pls.fit(X3_train, y3_train)\n",
    "\n",
    "y3_c = model_pls.predict(X3_test)\n",
    "\n",
    "\n",
    "# Calculate scores for calibration and cross-validation\n",
    "score3_c = r2_score(y3_test, y3_c)\n",
    "\n",
    "\n",
    "\n",
    "# Calculate mean squared error for calibration and cross validation\n",
    "rmse3_c = np.sqrt(mean_squared_error(y3_test, y3_c))\n",
    "\n",
    "print('PLS R² after spectra differentiation: %5.3f'  % score3_c,'vs.',score_c,'for primitive wave functions')\n",
    "\n",
    "print('PLS RMSE after spectra differentiation: %5.3f' % rmse3_c,'vs.',rmse_c,'for primitive wave functions')"
   ]
  },
  {
   "cell_type": "code",
   "execution_count": 63,
   "metadata": {},
   "outputs": [
    {
     "data": {
      "text/plain": [
       "Text(0.5, 1.0, 'PLS regression for FTIR derivative function')"
      ]
     },
     "execution_count": 63,
     "metadata": {},
     "output_type": "execute_result"
    },
    {
     "data": {
      "image/png": "[encoded data removed]",
      "text/plain": [
       "<Figure size 432x288 with 1 Axes>"
      ]
     },
     "metadata": {
      "needs_background": "light"
     },
     "output_type": "display_data"
    }
   ],
   "source": [
    "plt.scatter(y3_test, y3_c, label = target_feature)\n",
    "plt.legend()\n",
    "plt.xlabel('actual values')\n",
    "plt.ylabel('predicted values')\n",
    "plt.title('PLS regression for FTIR derivative function')"
   ]
  },
  {
   "cell_type": "markdown",
   "metadata": {},
   "source": [
    "### 5.2 FTIR spectra reduction\n",
    "\n",
    "I select only the regions containing the peaks corresponding to C=O and C=C bonds and filter away the rest of the spectrum containing either a flat or a noisy curve"
   ]
  },
  {
   "cell_type": "code",
   "execution_count": 64,
   "metadata": {},
   "outputs": [],
   "source": [
    "FTIR_spectra = pd.read_csv('MIR_spectra_transposed.csv')"
   ]
  },
  {
   "cell_type": "code",
   "execution_count": 65,
   "metadata": {},
   "outputs": [
    {
     "name": "stdout",
     "output_type": "stream",
     "text": [
      "2542\n"
     ]
    }
   ],
   "source": [
    "print(len(FTIR_spectra.labda))"
   ]
  },
  {
   "cell_type": "code",
   "execution_count": 114,
   "metadata": {},
   "outputs": [
    {
     "name": "stdout",
     "output_type": "stream",
     "text": [
      "FTIR spectrum example\n"
     ]
    },
    {
     "data": {
      "text/plain": [
       "Text(0.5, 0, 'Wavelengths (cm-1)')"
      ]
     },
     "execution_count": 114,
     "metadata": {},
     "output_type": "execute_result"
    },
    {
     "data": {
      "image/png": "[encoded data removed]",
      "text/plain": [
       "<Figure size 432x432 with 1 Axes>"
      ]
     },
     "metadata": {
      "needs_background": "light"
     },
     "output_type": "display_data"
    }
   ],
   "source": [
    "wavelenght_lower_limit = 500\n",
    "wavelenght_upper_limit = 2000\n",
    "print('FTIR spectrum example')\n",
    "plt.figure(figsize= (6,6))\n",
    "\n",
    " \n",
    "plt.plot(FTIR_spectra['labda'],FTIR_spectra['icr033603'])\n",
    "plt.plot(FTIR_spectra['labda'],FTIR_spectra['icr048642'])\n",
    "plt.axvline(x= wavelenght_upper_limit , ymin=0, ymax=1, color='r', linewidth = 1)\n",
    "plt.axvline(x= wavelenght_lower_limit , ymin=0, ymax=1, color='r', linewidth = 1)\n",
    "plt.text(3000, 2.25, 'range selected \\n for wavelenghts between \\n red lines')\n",
    "plt.xticks(rotation=90)\n",
    "plt.xlim(4000,400)\n",
    "plt.ylabel('Absorbance (A.U.)', fontsize=14)\n",
    "plt.xlabel('Wavelengths (cm-1)', fontsize = 14)"
   ]
  },
  {
   "cell_type": "code",
   "execution_count": 115,
   "metadata": {},
   "outputs": [
    {
     "data": {
      "text/plain": [
       "Text(0.5, 0, 'Wavelengths (cm-1)')"
      ]
     },
     "execution_count": 115,
     "metadata": {},
     "output_type": "execute_result"
    },
    {
     "data": {
      "image/png": "[encoded data removed]",
      "text/plain": [
       "<Figure size 432x288 with 1 Axes>"
      ]
     },
     "metadata": {
      "needs_background": "light"
     },
     "output_type": "display_data"
    }
   ],
   "source": [
    "df_MIR_FTIRspectra =  FTIR_spectra[FTIR_spectra['labda'] > wavelenght_lower_limit]  \n",
    "df_MIR_FTIRspectra = df_MIR_FTIRspectra[df_MIR_FTIRspectra['labda'] < wavelenght_upper_limit] \n",
    "\n",
    "plt.plot(df_MIR_FTIRspectra['labda'],df_MIR_FTIRspectra['icr042897']) \n",
    "plt.xlim( wavelenght_upper_limit+100,wavelenght_lower_limit-100)\n",
    "plt.title('Reduced MIR spectrum', fontsize=16)\n",
    "plt.ylabel('Absorbance (A.U.)', fontsize=14)\n",
    "plt.xlabel('Wavelengths (cm-1)', fontsize = 14)"
   ]
  },
  {
   "cell_type": "code",
   "execution_count": 116,
   "metadata": {},
   "outputs": [],
   "source": [
    "df_FTIR_reindexed = df_MIR_FTIRspectra.set_index('labda')\n",
    "mid_infrared_df = df_FTIR_reindexed.T.reset_index()\n",
    "mid_infrared_df = mid_infrared_df.rename(columns={'index': 'SSN'})"
   ]
  },
  {
   "cell_type": "code",
   "execution_count": 117,
   "metadata": {},
   "outputs": [
    {
     "name": "stdout",
     "output_type": "stream",
     "text": [
      "before selection (1888, 1059)\n",
      "after selection (467, 1059)\n"
     ]
    }
   ],
   "source": [
    "sampleslist = df_composition['SSN'].tolist()\n",
    "print('before selection',mid_infrared_df.shape)\n",
    "mid_infrared_df = mid_infrared_df[mid_infrared_df['SSN'].isin(sampleslist)]\n",
    "print('after selection',mid_infrared_df.shape)\n",
    "mid_infrared_df = mid_infrared_df.drop(['SSN'], axis = 1)"
   ]
  },
  {
   "cell_type": "code",
   "execution_count": 118,
   "metadata": {},
   "outputs": [
    {
     "name": "stdout",
     "output_type": "stream",
     "text": [
      "(467, 1058) (467,)\n"
     ]
    }
   ],
   "source": [
    "X4 = mid_infrared_df.values\n",
    "y4 = df_composition[target_feature].values\n",
    "\n",
    "print(X4.shape, y4.shape)"
   ]
  },
  {
   "cell_type": "code",
   "execution_count": 191,
   "metadata": {},
   "outputs": [
    {
     "name": "stdout",
     "output_type": "stream",
     "text": [
      "PLS R² after spectra reduction: -0.127 vs. -0.5967031493414543 for full spectra\n",
      "PLS RMSE after spectra reduction: 0.808 vs. 0.961311750836408 for full spectra\n"
     ]
    }
   ],
   "source": [
    "X4_train, X4_test, y4_train, y4_test = train_test_split(X4, y4, test_size = 0.2, random_state = 42)\n",
    "\n",
    "pls = PLSRegression(n_components=10)\n",
    "model_pls = pls.fit(X4_train, y4_train)\n",
    "\n",
    "y4_c = model_pls.predict(X4_test)\n",
    "\n",
    "\n",
    "# Calculate scores for calibration and cross-validation\n",
    "score4_c = r2_score(y4_test, y4_c)\n",
    "\n",
    "\n",
    "\n",
    "# Calculate mean squared error for calibration and cross validation\n",
    "mse4_c = mean_squared_error(y4_test, y4_c)\n",
    "\n",
    "print('PLS R² after spectra reduction: %5.3f'  % score4_c,'vs.',score_c,'for full spectra')\n",
    "\n",
    "print('PLS RMSE after spectra reduction: %5.3f' % np.sqrt(mse4_c),'vs.',rmse_c,'for full spectra')"
   ]
  },
  {
   "cell_type": "markdown",
   "metadata": {},
   "source": [
    "## 6. Verify linear correlation "
   ]
  },
  {
   "cell_type": "code",
   "execution_count": 173,
   "metadata": {},
   "outputs": [
    {
     "name": "stdout",
     "output_type": "stream",
     "text": [
      "Law of Lambert Beer suggests linear correlation\n"
     ]
    },
    {
     "data": {
      "image/png": "[encoded data removed]",
      "text/plain": [
       "<IPython.core.display.Image object>"
      ]
     },
     "execution_count": 173,
     "metadata": {},
     "output_type": "execute_result"
    }
   ],
   "source": [
    "print('Law of Lambert Beer suggests linear correlation')\n",
    "Image(filename='img/linear.png')"
   ]
  },
  {
   "cell_type": "code",
   "execution_count": 174,
   "metadata": {},
   "outputs": [
    {
     "name": "stderr",
     "output_type": "stream",
     "text": [
      "<ipython-input-174-0054089c12cb>:3: SettingWithCopyWarning: \n",
      "A value is trying to be set on a copy of a slice from a DataFrame.\n",
      "Try using .loc[row_indexer,col_indexer] = value instead\n",
      "\n",
      "See the caveats in the documentation: https://pandas.pydata.org/pandas-docs/stable/user_guide/indexing.html#returning-a-view-versus-a-copy\n",
      "  df_PH['diff'] = df_PH['pH'] - df_PH['PH']\n"
     ]
    },
    {
     "data": {
      "text/html": [
       "<div>\n",
       "<style scoped>\n",
       "    .dataframe tbody tr th:only-of-type {\n",
       "        vertical-align: middle;\n",
       "    }\n",
       "\n",
       "    .dataframe tbody tr th {\n",
       "        vertical-align: top;\n",
       "    }\n",
       "\n",
       "    .dataframe thead th {\n",
       "        text-align: right;\n",
       "    }\n",
       "</style>\n",
       "<table border=\"1\" class=\"dataframe\">\n",
       "  <thead>\n",
       "    <tr style=\"text-align: right;\">\n",
       "      <th></th>\n",
       "      <th>SSN</th>\n",
       "      <th>pH</th>\n",
       "      <th>PH</th>\n",
       "      <th>diff</th>\n",
       "    </tr>\n",
       "  </thead>\n",
       "  <tbody>\n",
       "    <tr>\n",
       "      <th>311</th>\n",
       "      <td>icr068677</td>\n",
       "      <td>2.84</td>\n",
       "      <td>8.320</td>\n",
       "      <td>-5.480</td>\n",
       "    </tr>\n",
       "    <tr>\n",
       "      <th>276</th>\n",
       "      <td>icr068101</td>\n",
       "      <td>3.89</td>\n",
       "      <td>4.180</td>\n",
       "      <td>-0.290</td>\n",
       "    </tr>\n",
       "    <tr>\n",
       "      <th>290</th>\n",
       "      <td>icr068322</td>\n",
       "      <td>4.12</td>\n",
       "      <td>4.220</td>\n",
       "      <td>-0.100</td>\n",
       "    </tr>\n",
       "    <tr>\n",
       "      <th>265</th>\n",
       "      <td>icr062195</td>\n",
       "      <td>4.13</td>\n",
       "      <td>4.190</td>\n",
       "      <td>-0.060</td>\n",
       "    </tr>\n",
       "    <tr>\n",
       "      <th>289</th>\n",
       "      <td>icr068321</td>\n",
       "      <td>4.17</td>\n",
       "      <td>4.220</td>\n",
       "      <td>-0.050</td>\n",
       "    </tr>\n",
       "    <tr>\n",
       "      <th>...</th>\n",
       "      <td>...</td>\n",
       "      <td>...</td>\n",
       "      <td>...</td>\n",
       "      <td>...</td>\n",
       "    </tr>\n",
       "    <tr>\n",
       "      <th>166</th>\n",
       "      <td>icr033393</td>\n",
       "      <td>8.59</td>\n",
       "      <td>9.205</td>\n",
       "      <td>-0.615</td>\n",
       "    </tr>\n",
       "    <tr>\n",
       "      <th>158</th>\n",
       "      <td>icr075756</td>\n",
       "      <td>8.73</td>\n",
       "      <td>7.120</td>\n",
       "      <td>1.610</td>\n",
       "    </tr>\n",
       "    <tr>\n",
       "      <th>170</th>\n",
       "      <td>icr033467</td>\n",
       "      <td>9.05</td>\n",
       "      <td>9.214</td>\n",
       "      <td>-0.164</td>\n",
       "    </tr>\n",
       "    <tr>\n",
       "      <th>159</th>\n",
       "      <td>icr075757</td>\n",
       "      <td>9.38</td>\n",
       "      <td>9.720</td>\n",
       "      <td>-0.340</td>\n",
       "    </tr>\n",
       "    <tr>\n",
       "      <th>365</th>\n",
       "      <td>icr072857</td>\n",
       "      <td>9.92</td>\n",
       "      <td>9.860</td>\n",
       "      <td>0.060</td>\n",
       "    </tr>\n",
       "  </tbody>\n",
       "</table>\n",
       "<p>467 rows × 4 columns</p>\n",
       "</div>"
      ],
      "text/plain": [
       "           SSN    pH     PH   diff\n",
       "311  icr068677  2.84  8.320 -5.480\n",
       "276  icr068101  3.89  4.180 -0.290\n",
       "290  icr068322  4.12  4.220 -0.100\n",
       "265  icr062195  4.13  4.190 -0.060\n",
       "289  icr068321  4.17  4.220 -0.050\n",
       "..         ...   ...    ...    ...\n",
       "166  icr033393  8.59  9.205 -0.615\n",
       "158  icr075756  8.73  7.120  1.610\n",
       "170  icr033467  9.05  9.214 -0.164\n",
       "159  icr075757  9.38  9.720 -0.340\n",
       "365  icr072857  9.92  9.860  0.060\n",
       "\n",
       "[467 rows x 4 columns]"
      ]
     },
     "execution_count": 174,
     "metadata": {},
     "output_type": "execute_result"
    }
   ],
   "source": [
    "df_composition = df_composition.sort_values(by=['pH'])\n",
    "df_PH = df_composition[['SSN','pH','PH']]\n",
    "df_PH['diff'] = df_PH['pH'] - df_PH['PH']\n",
    "df_PH"
   ]
  },
  {
   "cell_type": "code",
   "execution_count": 190,
   "metadata": {},
   "outputs": [
    {
     "data": {
      "text/plain": [
       "Text(0, 0.5, 'difference between the two labs measurement')"
      ]
     },
     "execution_count": 190,
     "metadata": {},
     "output_type": "execute_result"
    },
    {
     "data": {
      "image/png": "[encoded data removed]",
      "text/plain": [
       "<Figure size 432x288 with 1 Axes>"
      ]
     },
     "metadata": {
      "needs_background": "light"
     },
     "output_type": "display_data"
    }
   ],
   "source": [
    "xph = np.arange(len(df_PH.index))\n",
    "plt.scatter(xph,df_PH['diff'])\n",
    "\n",
    "plt.axhline(y=.5, xmin=0, xmax=500,color='r', linewidth = 1)\n",
    "plt.axhline(y=-0.5, xmin=0, xmax=500,color='r', linewidth = 1)\n",
    "plt.xlabel('sample number')\n",
    "plt.ylabel('difference between the two labs measurement')"
   ]
  },
  {
   "cell_type": "code",
   "execution_count": 176,
   "metadata": {},
   "outputs": [
    {
     "name": "stdout",
     "output_type": "stream",
     "text": [
      "(403, 4)\n"
     ]
    }
   ],
   "source": [
    "df_PH = df_PH[df_PH['diff'] < 0.5]  \n",
    "df_PH = df_PH[df_PH['diff'] > -0.5]  \n",
    "print(df_PH.shape)"
   ]
  },
  {
   "cell_type": "code",
   "execution_count": 177,
   "metadata": {},
   "outputs": [
    {
     "name": "stdout",
     "output_type": "stream",
     "text": [
      "(403, 2546)\n"
     ]
    },
    {
     "data": {
      "text/html": [
       "<div>\n",
       "<style scoped>\n",
       "    .dataframe tbody tr th:only-of-type {\n",
       "        vertical-align: middle;\n",
       "    }\n",
       "\n",
       "    .dataframe tbody tr th {\n",
       "        vertical-align: top;\n",
       "    }\n",
       "\n",
       "    .dataframe thead th {\n",
       "        text-align: right;\n",
       "    }\n",
       "</style>\n",
       "<table border=\"1\" class=\"dataframe\">\n",
       "  <thead>\n",
       "    <tr style=\"text-align: right;\">\n",
       "      <th></th>\n",
       "      <th>SSN</th>\n",
       "      <th>pH</th>\n",
       "      <th>PH</th>\n",
       "      <th>diff</th>\n",
       "      <th>3998</th>\n",
       "      <th>3997</th>\n",
       "      <th>3996</th>\n",
       "      <th>3994</th>\n",
       "      <th>3993</th>\n",
       "      <th>3991</th>\n",
       "      <th>...</th>\n",
       "      <th>412</th>\n",
       "      <th>411</th>\n",
       "      <th>409</th>\n",
       "      <th>408</th>\n",
       "      <th>406</th>\n",
       "      <th>405</th>\n",
       "      <th>404</th>\n",
       "      <th>402</th>\n",
       "      <th>401</th>\n",
       "      <th>399</th>\n",
       "    </tr>\n",
       "  </thead>\n",
       "  <tbody>\n",
       "    <tr>\n",
       "      <th>4</th>\n",
       "      <td>icr062175</td>\n",
       "      <td>4.20</td>\n",
       "      <td>4.00</td>\n",
       "      <td>0.20</td>\n",
       "      <td>0.787581</td>\n",
       "      <td>0.788137</td>\n",
       "      <td>0.788412</td>\n",
       "      <td>0.788415</td>\n",
       "      <td>0.788219</td>\n",
       "      <td>0.787929</td>\n",
       "      <td>...</td>\n",
       "      <td>2.043272</td>\n",
       "      <td>2.042429</td>\n",
       "      <td>2.042811</td>\n",
       "      <td>2.044874</td>\n",
       "      <td>2.049155</td>\n",
       "      <td>2.055884</td>\n",
       "      <td>2.064780</td>\n",
       "      <td>2.075154</td>\n",
       "      <td>2.086159</td>\n",
       "      <td>2.096880</td>\n",
       "    </tr>\n",
       "    <tr>\n",
       "      <th>5</th>\n",
       "      <td>icr068381</td>\n",
       "      <td>4.22</td>\n",
       "      <td>4.01</td>\n",
       "      <td>0.21</td>\n",
       "      <td>0.823309</td>\n",
       "      <td>0.823787</td>\n",
       "      <td>0.824382</td>\n",
       "      <td>0.824995</td>\n",
       "      <td>0.825560</td>\n",
       "      <td>0.826082</td>\n",
       "      <td>...</td>\n",
       "      <td>1.989507</td>\n",
       "      <td>2.004840</td>\n",
       "      <td>2.022895</td>\n",
       "      <td>2.040807</td>\n",
       "      <td>2.053985</td>\n",
       "      <td>2.058005</td>\n",
       "      <td>2.050506</td>\n",
       "      <td>2.031779</td>\n",
       "      <td>2.004429</td>\n",
       "      <td>1.973044</td>\n",
       "    </tr>\n",
       "    <tr>\n",
       "      <th>7</th>\n",
       "      <td>icr068382</td>\n",
       "      <td>4.29</td>\n",
       "      <td>4.06</td>\n",
       "      <td>0.23</td>\n",
       "      <td>0.834674</td>\n",
       "      <td>0.835663</td>\n",
       "      <td>0.836557</td>\n",
       "      <td>0.837386</td>\n",
       "      <td>0.838197</td>\n",
       "      <td>0.839024</td>\n",
       "      <td>...</td>\n",
       "      <td>2.075219</td>\n",
       "      <td>2.072237</td>\n",
       "      <td>2.070053</td>\n",
       "      <td>2.068897</td>\n",
       "      <td>2.069716</td>\n",
       "      <td>2.073739</td>\n",
       "      <td>2.081663</td>\n",
       "      <td>2.092782</td>\n",
       "      <td>2.104237</td>\n",
       "      <td>2.110837</td>\n",
       "    </tr>\n",
       "    <tr>\n",
       "      <th>0</th>\n",
       "      <td>icr068101</td>\n",
       "      <td>3.89</td>\n",
       "      <td>4.18</td>\n",
       "      <td>-0.29</td>\n",
       "      <td>0.885259</td>\n",
       "      <td>0.885662</td>\n",
       "      <td>0.886088</td>\n",
       "      <td>0.886574</td>\n",
       "      <td>0.887100</td>\n",
       "      <td>0.887618</td>\n",
       "      <td>...</td>\n",
       "      <td>2.202463</td>\n",
       "      <td>2.206593</td>\n",
       "      <td>2.216625</td>\n",
       "      <td>2.232258</td>\n",
       "      <td>2.250889</td>\n",
       "      <td>2.267877</td>\n",
       "      <td>2.277374</td>\n",
       "      <td>2.274044</td>\n",
       "      <td>2.255781</td>\n",
       "      <td>2.226002</td>\n",
       "    </tr>\n",
       "    <tr>\n",
       "      <th>2</th>\n",
       "      <td>icr062195</td>\n",
       "      <td>4.13</td>\n",
       "      <td>4.19</td>\n",
       "      <td>-0.06</td>\n",
       "      <td>0.769183</td>\n",
       "      <td>0.769078</td>\n",
       "      <td>0.769096</td>\n",
       "      <td>0.769320</td>\n",
       "      <td>0.769739</td>\n",
       "      <td>0.770266</td>\n",
       "      <td>...</td>\n",
       "      <td>2.252506</td>\n",
       "      <td>2.260601</td>\n",
       "      <td>2.265513</td>\n",
       "      <td>2.267597</td>\n",
       "      <td>2.265792</td>\n",
       "      <td>2.259664</td>\n",
       "      <td>2.248696</td>\n",
       "      <td>2.230576</td>\n",
       "      <td>2.202916</td>\n",
       "      <td>2.166067</td>\n",
       "    </tr>\n",
       "  </tbody>\n",
       "</table>\n",
       "<p>5 rows × 2546 columns</p>\n",
       "</div>"
      ],
      "text/plain": [
       "         SSN    pH    PH  diff      3998      3997      3996      3994  \\\n",
       "4  icr062175  4.20  4.00  0.20  0.787581  0.788137  0.788412  0.788415   \n",
       "5  icr068381  4.22  4.01  0.21  0.823309  0.823787  0.824382  0.824995   \n",
       "7  icr068382  4.29  4.06  0.23  0.834674  0.835663  0.836557  0.837386   \n",
       "0  icr068101  3.89  4.18 -0.29  0.885259  0.885662  0.886088  0.886574   \n",
       "2  icr062195  4.13  4.19 -0.06  0.769183  0.769078  0.769096  0.769320   \n",
       "\n",
       "       3993      3991  ...       412       411       409       408       406  \\\n",
       "4  0.788219  0.787929  ...  2.043272  2.042429  2.042811  2.044874  2.049155   \n",
       "5  0.825560  0.826082  ...  1.989507  2.004840  2.022895  2.040807  2.053985   \n",
       "7  0.838197  0.839024  ...  2.075219  2.072237  2.070053  2.068897  2.069716   \n",
       "0  0.887100  0.887618  ...  2.202463  2.206593  2.216625  2.232258  2.250889   \n",
       "2  0.769739  0.770266  ...  2.252506  2.260601  2.265513  2.267597  2.265792   \n",
       "\n",
       "        405       404       402       401       399  \n",
       "4  2.055884  2.064780  2.075154  2.086159  2.096880  \n",
       "5  2.058005  2.050506  2.031779  2.004429  1.973044  \n",
       "7  2.073739  2.081663  2.092782  2.104237  2.110837  \n",
       "0  2.267877  2.277374  2.274044  2.255781  2.226002  \n",
       "2  2.259664  2.248696  2.230576  2.202916  2.166067  \n",
       "\n",
       "[5 rows x 2546 columns]"
      ]
     },
     "execution_count": 177,
     "metadata": {},
     "output_type": "execute_result"
    }
   ],
   "source": [
    "df_PH_FTIR = pd.merge(left=df_PH, right=df_FTIR_raw, left_on='SSN', right_on='SSN').sort_values(by=['PH'])\n",
    "print(df_PH_FTIR.shape)\n",
    "df_PH_FTIR.head()"
   ]
  },
  {
   "cell_type": "code",
   "execution_count": 178,
   "metadata": {},
   "outputs": [
    {
     "name": "stdout",
     "output_type": "stream",
     "text": [
      "0    icr068101\n",
      "2    icr062195\n",
      "1    icr068322\n",
      "3    icr068321\n",
      "Name: SSN, dtype: object\n"
     ]
    }
   ],
   "source": [
    "lowest_pH = df_PH_FTIR.loc[:,'pH'] < 4.2\n",
    "lowest_pH_samples = df_PH_FTIR.SSN[lowest_pH]\n",
    "print(lowest_pH_samples)"
   ]
  },
  {
   "cell_type": "code",
   "execution_count": 179,
   "metadata": {},
   "outputs": [
    {
     "name": "stdout",
     "output_type": "stream",
     "text": [
      "400    icr033467\n",
      "401    icr075757\n",
      "402    icr072857\n",
      "Name: SSN, dtype: object\n"
     ]
    }
   ],
   "source": [
    "highest_pH = df_PH_FTIR.loc[:,'pH'] > 8.5\n",
    "highest_pH_samples = df_PH_FTIR.SSN[highest_pH]\n",
    "print(highest_pH_samples)"
   ]
  },
  {
   "cell_type": "code",
   "execution_count": 180,
   "metadata": {},
   "outputs": [
    {
     "data": {
      "text/plain": [
       "Text(0.5, 0, 'Wavelengths (cm-1)')"
      ]
     },
     "execution_count": 180,
     "metadata": {},
     "output_type": "execute_result"
    },
    {
     "data": {
      "image/png": "[encoded data removed]",
      "text/plain": [
       "<Figure size 432x288 with 1 Axes>"
      ]
     },
     "metadata": {
      "needs_background": "light"
     },
     "output_type": "display_data"
    }
   ],
   "source": [
    "plt.plot(FTIR_spectra['labda'],FTIR_spectra['icr033467'], label = 'high pH', color = 'r')\n",
    "plt.plot(FTIR_spectra['labda'],FTIR_spectra['icr072857'], label = 'high pH', color = 'r')\n",
    "plt.plot(FTIR_spectra['labda'],FTIR_spectra['icr062195'], label = 'low pH', color = 'b')\n",
    "plt.plot(FTIR_spectra['labda'],FTIR_spectra['icr068322'], label = 'low pH', color = 'b')\n",
    "\n",
    "plt.axvline(x= 2700 , ymin=0, ymax=1, color='g', linewidth = 1)\n",
    "plt.text(3200, 2.25, '2700 cm-1')\n",
    "\n",
    "\n",
    "\n",
    "plt.legend()\n",
    "plt.xticks(rotation=90)\n",
    "plt.xlim(4000,400)\n",
    "plt.ylabel('Absorbance (A.U.)', fontsize=14)\n",
    "plt.xlabel('Wavelengths (cm-1)', fontsize = 14)"
   ]
  },
  {
   "cell_type": "code",
   "execution_count": 186,
   "metadata": {},
   "outputs": [
    {
     "data": {
      "text/plain": [
       "Text(0, 0.5, 'Absorbance')"
      ]
     },
     "execution_count": 186,
     "metadata": {},
     "output_type": "execute_result"
    },
    {
     "data": {
      "image/png": "[encoded data removed]",
      "text/plain": [
       "<Figure size 432x288 with 1 Axes>"
      ]
     },
     "metadata": {
      "needs_background": "light"
     },
     "output_type": "display_data"
    }
   ],
   "source": [
    "ax = sns.regplot(x=\"pH\", y=\"2700\", data=df_PH_FTIR)\n",
    "plt.title('Absorbance at 2700 cm-1 vs. pH')\n",
    "plt.ylabel('Absorbance')"
   ]
  },
  {
   "cell_type": "code",
   "execution_count": 182,
   "metadata": {},
   "outputs": [
    {
     "name": "stdout",
     "output_type": "stream",
     "text": [
      "R2: 0.075\n",
      "RMSE: 1.085\n"
     ]
    }
   ],
   "source": [
    "x_PH = df_PH_FTIR['2700'].values\n",
    "y_PH = df_PH_FTIR['pH'].values\n",
    "\n",
    "Xph_train, Xph_test, yph_train, yph_test = train_test_split(x_PH, y_PH, test_size = 0.2, random_state = 42)\n",
    "\n",
    "Xph_train = Xph_train.reshape(-1,1) \n",
    "Xph_test = Xph_test.reshape(-1,1)\n",
    "\n",
    "\n",
    "reg = LinearRegression()\n",
    "\n",
    "reg.fit(Xph_train, yph_train)\n",
    "\n",
    "yph_pred = reg.predict(Xph_test)\n",
    "\n",
    "linear_r2 = r2_score(yph_test,yph_pred)\n",
    "\n",
    "\n",
    "# Calculate mean squared error for the regression\n",
    "linear_mse = mean_squared_error(yph_test, yph_pred)\n",
    "linear_rmse = np.sqrt(linear_mse)\n",
    "print('R2: %5.3f'  % linear_r2)\n",
    "\n",
    "print('RMSE: %5.3f' % linear_rmse)\n"
   ]
  },
  {
   "cell_type": "code",
   "execution_count": null,
   "metadata": {},
   "outputs": [],
   "source": []
  }
 ],
 "metadata": {
  "kernelspec": {
   "display_name": "Python 3",
   "language": "python",
   "name": "python3"
  },
  "language_info": {
   "codemirror_mode": {
    "name": "ipython",
    "version": 3
   },
   "file_extension": ".py",
   "mimetype": "text/x-python",
   "name": "python",
   "nbconvert_exporter": "python",
   "pygments_lexer": "ipython3",
   "version": "3.8.3"
  }
 },
 "nbformat": 4,
 "nbformat_minor": 4
}

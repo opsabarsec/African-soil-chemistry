{
 "cells": [
  {
   "cell_type": "markdown",
   "metadata": {
    "toc": "true"
   },
   "source": [
    "# AfSIS Soil Chemistry Dataset - Modelling¶\n",
    "\n"
   ]
  },
  {
   "cell_type": "markdown",
   "metadata": {},
   "source": [
    "## 1. Load libraries and data"
   ]
  },
  {
   "cell_type": "code",
   "execution_count": 1,
   "metadata": {},
   "outputs": [
    {
     "name": "stdout",
     "output_type": "stream",
     "text": [
      "Requirement already satisfied: xgboost in /home/marco/anaconda3/lib/python3.8/site-packages (1.2.1)\n",
      "Requirement already satisfied: numpy in /home/marco/anaconda3/lib/python3.8/site-packages (from xgboost) (1.18.5)\n",
      "Requirement already satisfied: scipy in /home/marco/anaconda3/lib/python3.8/site-packages (from xgboost) (1.4.1)\n"
     ]
    }
   ],
   "source": [
    "!pip install xgboost"
   ]
  },
  {
   "cell_type": "code",
   "execution_count": 2,
   "metadata": {},
   "outputs": [
    {
     "name": "stderr",
     "output_type": "stream",
     "text": [
      "/home/marco/anaconda3/lib/python3.8/site-packages/sklearn/utils/deprecation.py:143: FutureWarning: The sklearn.linear_model.ridge module is  deprecated in version 0.22 and will be removed in version 0.24. The corresponding classes / functions should instead be imported from sklearn.linear_model. Anything that cannot be imported from sklearn.linear_model is now part of the private API.\n",
      "  warnings.warn(message, FutureWarning)\n"
     ]
    }
   ],
   "source": [
    "import pandas as pd\n",
    "from sys import stdout\n",
    "#from sklearn.cross_validation import cross_val_score\n",
    "from sklearn.linear_model import LinearRegression\n",
    "from sklearn.ensemble import  RandomForestRegressor, AdaBoostRegressor\n",
    "from sklearn.ensemble import GradientBoostingRegressor\n",
    "\n",
    "\n",
    "import re\n",
    "from sklearn.feature_extraction.text import TfidfVectorizer\n",
    "from sklearn.linear_model.ridge import Ridge\n",
    "from sklearn.linear_model import LogisticRegression, Lasso\n",
    "from sklearn.metrics import classification_report, confusion_matrix\n",
    "from sklearn.ensemble import RandomForestRegressor\n",
    "import xgboost \n",
    "from xgboost import XGBRegressor\n",
    "\n",
    "from sklearn.datasets import make_regression\n",
    "from sklearn import svm\n",
    "import numpy as np\n",
    "import time\n",
    "import statsmodels as sm\n",
    "import seaborn as sns\n",
    "import matplotlib.pyplot as plt\n",
    "from sklearn.preprocessing import OneHotEncoder\n",
    "from sklearn.preprocessing import LabelEncoder\n",
    "from sklearn.preprocessing import LabelBinarizer\n",
    "from sklearn.preprocessing import StandardScaler\n",
    "from sklearn.model_selection import train_test_split\n",
    "from IPython.display import Image\n",
    "\n",
    "from sklearn.decomposition import PCA\n",
    "from scipy.signal import savgol_filter\n",
    "\n",
    "from sklearn.cross_decomposition import PLSRegression\n",
    "from sklearn.cross_decomposition import PLSCanonical\n",
    "from sklearn.cross_decomposition import PLSSVD\n",
    "\n",
    "\n",
    "from sklearn.model_selection import cross_val_predict\n",
    "from sklearn.model_selection import cross_val_score\n",
    "from sklearn.metrics import mean_squared_error, r2_score\n",
    "from sklearn.model_selection import cross_validate\n",
    "from sklearn.model_selection import KFold\n",
    "from sklearn.neighbors import KNeighborsRegressor\n",
    "from sklearn.model_selection import GridSearchCV"
   ]
  },
  {
   "cell_type": "code",
   "execution_count": 3,
   "metadata": {},
   "outputs": [
    {
     "data": {
      "text/html": [
       "<div>\n",
       "<style scoped>\n",
       "    .dataframe tbody tr th:only-of-type {\n",
       "        vertical-align: middle;\n",
       "    }\n",
       "\n",
       "    .dataframe tbody tr th {\n",
       "        vertical-align: top;\n",
       "    }\n",
       "\n",
       "    .dataframe thead th {\n",
       "        text-align: right;\n",
       "    }\n",
       "</style>\n",
       "<table border=\"1\" class=\"dataframe\">\n",
       "  <thead>\n",
       "    <tr style=\"text-align: right;\">\n",
       "      <th></th>\n",
       "      <th>SSN</th>\n",
       "      <th>pH</th>\n",
       "      <th>%N</th>\n",
       "      <th>%C</th>\n",
       "      <th>C % Inorg</th>\n",
       "      <th>C % Org</th>\n",
       "      <th>Am Ox_Al mg/kg</th>\n",
       "      <th>Am Ox-Fe mg/kg</th>\n",
       "      <th>AmOx-Mn/mg/kg</th>\n",
       "      <th>AmOx-Pmg/kg</th>\n",
       "      <th>...</th>\n",
       "      <th>%Fe</th>\n",
       "      <th>%Mn</th>\n",
       "      <th>%Mo</th>\n",
       "      <th>Public</th>\n",
       "      <th>Latitude</th>\n",
       "      <th>Longitude</th>\n",
       "      <th>Cluster</th>\n",
       "      <th>Plot</th>\n",
       "      <th>Depth</th>\n",
       "      <th>Cultivated</th>\n",
       "    </tr>\n",
       "  </thead>\n",
       "  <tbody>\n",
       "    <tr>\n",
       "      <th>0</th>\n",
       "      <td>icr006454</td>\n",
       "      <td>7.85</td>\n",
       "      <td>0.08</td>\n",
       "      <td>0.95</td>\n",
       "      <td>0.0</td>\n",
       "      <td>0.94</td>\n",
       "      <td>2105.973713</td>\n",
       "      <td>868.347797</td>\n",
       "      <td>160.462825</td>\n",
       "      <td>27.456545</td>\n",
       "      <td>...</td>\n",
       "      <td>1.16865</td>\n",
       "      <td>0.02010</td>\n",
       "      <td>0.01845</td>\n",
       "      <td>True</td>\n",
       "      <td>-6.12601</td>\n",
       "      <td>36.440201</td>\n",
       "      <td>1</td>\n",
       "      <td>1</td>\n",
       "      <td>top</td>\n",
       "      <td>True</td>\n",
       "    </tr>\n",
       "    <tr>\n",
       "      <th>1</th>\n",
       "      <td>icr006455</td>\n",
       "      <td>8.03</td>\n",
       "      <td>0.06</td>\n",
       "      <td>0.81</td>\n",
       "      <td>0.1</td>\n",
       "      <td>0.70</td>\n",
       "      <td>2703.686191</td>\n",
       "      <td>1095.670284</td>\n",
       "      <td>185.252606</td>\n",
       "      <td>48.309930</td>\n",
       "      <td>...</td>\n",
       "      <td>1.59154</td>\n",
       "      <td>0.02566</td>\n",
       "      <td>0.01845</td>\n",
       "      <td>True</td>\n",
       "      <td>-6.12601</td>\n",
       "      <td>36.440201</td>\n",
       "      <td>1</td>\n",
       "      <td>1</td>\n",
       "      <td>sub</td>\n",
       "      <td>True</td>\n",
       "    </tr>\n",
       "    <tr>\n",
       "      <th>2</th>\n",
       "      <td>icr006474</td>\n",
       "      <td>5.01</td>\n",
       "      <td>0.05</td>\n",
       "      <td>0.57</td>\n",
       "      <td>0.0</td>\n",
       "      <td>0.57</td>\n",
       "      <td>1554.842158</td>\n",
       "      <td>949.235199</td>\n",
       "      <td>52.608644</td>\n",
       "      <td>22.887339</td>\n",
       "      <td>...</td>\n",
       "      <td>0.88799</td>\n",
       "      <td>0.00792</td>\n",
       "      <td>0.01845</td>\n",
       "      <td>True</td>\n",
       "      <td>-6.08875</td>\n",
       "      <td>36.435982</td>\n",
       "      <td>2</td>\n",
       "      <td>1</td>\n",
       "      <td>top</td>\n",
       "      <td>False</td>\n",
       "    </tr>\n",
       "    <tr>\n",
       "      <th>3</th>\n",
       "      <td>icr006475</td>\n",
       "      <td>4.57</td>\n",
       "      <td>0.05</td>\n",
       "      <td>0.47</td>\n",
       "      <td>0.0</td>\n",
       "      <td>0.47</td>\n",
       "      <td>1846.889773</td>\n",
       "      <td>1070.019199</td>\n",
       "      <td>33.656658</td>\n",
       "      <td>9.381672</td>\n",
       "      <td>...</td>\n",
       "      <td>1.25013</td>\n",
       "      <td>0.00819</td>\n",
       "      <td>0.01845</td>\n",
       "      <td>True</td>\n",
       "      <td>-6.08875</td>\n",
       "      <td>36.435982</td>\n",
       "      <td>2</td>\n",
       "      <td>1</td>\n",
       "      <td>sub</td>\n",
       "      <td>False</td>\n",
       "    </tr>\n",
       "    <tr>\n",
       "      <th>4</th>\n",
       "      <td>icr006492</td>\n",
       "      <td>6.78</td>\n",
       "      <td>0.09</td>\n",
       "      <td>0.98</td>\n",
       "      <td>0.0</td>\n",
       "      <td>0.98</td>\n",
       "      <td>1871.559305</td>\n",
       "      <td>1204.912035</td>\n",
       "      <td>172.634574</td>\n",
       "      <td>32.109882</td>\n",
       "      <td>...</td>\n",
       "      <td>1.48940</td>\n",
       "      <td>0.01938</td>\n",
       "      <td>0.01845</td>\n",
       "      <td>True</td>\n",
       "      <td>-6.06394</td>\n",
       "      <td>36.440500</td>\n",
       "      <td>3</td>\n",
       "      <td>1</td>\n",
       "      <td>top</td>\n",
       "      <td>False</td>\n",
       "    </tr>\n",
       "  </tbody>\n",
       "</table>\n",
       "<p>5 rows × 54 columns</p>\n",
       "</div>"
      ],
      "text/plain": [
       "         SSN    pH    %N    %C  C % Inorg    C % Org  Am Ox_Al mg/kg  \\\n",
       "0  icr006454  7.85  0.08  0.95          0.0     0.94     2105.973713   \n",
       "1  icr006455  8.03  0.06  0.81          0.1     0.70     2703.686191   \n",
       "2  icr006474  5.01  0.05  0.57          0.0     0.57     1554.842158   \n",
       "3  icr006475  4.57  0.05  0.47          0.0     0.47     1846.889773   \n",
       "4  icr006492  6.78  0.09  0.98          0.0     0.98     1871.559305   \n",
       "\n",
       "   Am Ox-Fe mg/kg  AmOx-Mn/mg/kg  AmOx-Pmg/kg  ...      %Fe      %Mn      %Mo  \\\n",
       "0      868.347797     160.462825    27.456545  ...  1.16865  0.02010  0.01845   \n",
       "1     1095.670284     185.252606    48.309930  ...  1.59154  0.02566  0.01845   \n",
       "2      949.235199      52.608644    22.887339  ...  0.88799  0.00792  0.01845   \n",
       "3     1070.019199      33.656658     9.381672  ...  1.25013  0.00819  0.01845   \n",
       "4     1204.912035     172.634574    32.109882  ...  1.48940  0.01938  0.01845   \n",
       "\n",
       "   Public  Latitude  Longitude  Cluster  Plot  Depth  Cultivated  \n",
       "0    True  -6.12601  36.440201        1     1    top        True  \n",
       "1    True  -6.12601  36.440201        1     1    sub        True  \n",
       "2    True  -6.08875  36.435982        2     1    top       False  \n",
       "3    True  -6.08875  36.435982        2     1    sub       False  \n",
       "4    True  -6.06394  36.440500        3     1    top       False  \n",
       "\n",
       "[5 rows x 54 columns]"
      ]
     },
     "execution_count": 3,
     "metadata": {},
     "output_type": "execute_result"
    }
   ],
   "source": [
    "df_composition = pd.read_csv('elemental_analysis_dataset.csv')\n",
    "df_composition = df_composition.rename(columns={\"P\": \"%P\", \"K\": \"%K\",\"Ca\": \"%Ca\", \"Cu\": \"%Cu\", \"Fe\": \"%Fe\", \"Mo\": \"%Mo\",\"Mg\": \"%Mg\",\"S\": \"%S\",\"Mn\": \"%Mn\",\"Zn\": \"%Zn\" , \"Cl\": \"%Cl\",})\n",
    "df_composition.head()"
   ]
  },
  {
   "cell_type": "markdown",
   "metadata": {},
   "source": [
    "## 2. Elemental analysis and soil fertility"
   ]
  },
  {
   "cell_type": "markdown",
   "metadata": {},
   "source": [
    "### 2.1 Soil chemistry variables correlation"
   ]
  },
  {
   "cell_type": "code",
   "execution_count": 4,
   "metadata": {},
   "outputs": [
    {
     "data": {
      "text/plain": [
       "<matplotlib.axes._subplots.AxesSubplot at 0x7fee96bbf070>"
      ]
     },
     "execution_count": 4,
     "metadata": {},
     "output_type": "execute_result"
    },
    {
     "data": {
      "image/png": "[encoded data removed]",
      "text/plain": [
       "<Figure size 792x648 with 2 Axes>"
      ]
     },
     "metadata": {
      "needs_background": "light"
     },
     "output_type": "display_data"
    }
   ],
   "source": [
    "# Compute the correlation matrix\n",
    "corr = df_composition.corr()\n",
    "\n",
    "# Generate a mask for the upper triangle\n",
    "mask = np.triu(np.ones_like(corr, dtype=bool))\n",
    "\n",
    "# Set up the matplotlib figure\n",
    "f, ax = plt.subplots(figsize=(11, 9))\n",
    "\n",
    "# Generate a custom diverging colormap\n",
    "cmap = sns.diverging_palette(230, 20, as_cmap=True)\n",
    "\n",
    "# Draw the heatmap with the mask and correct aspect ratio\n",
    "sns.heatmap(corr, mask=mask, cmap=cmap, vmax=.3, center=0,\n",
    "            square=True, linewidths=.5, cbar_kws={\"shrink\": .5})"
   ]
  },
  {
   "cell_type": "markdown",
   "metadata": {},
   "source": [
    "The figures show poor correlation. Surprising that this is true comparing the same element concentration estimated using ICP Optical Emission Spectrometry (ICP-OES-K) and X-rays fluorescence (K)"
   ]
  },
  {
   "cell_type": "markdown",
   "metadata": {},
   "source": [
    "### 2.2 Composition - fertility correlation"
   ]
  },
  {
   "cell_type": "markdown",
   "metadata": {},
   "source": [
    "#### 2.2.1 Features selection"
   ]
  },
  {
   "cell_type": "code",
   "execution_count": 5,
   "metadata": {},
   "outputs": [
    {
     "data": {
      "text/html": [
       "<div>\n",
       "<style scoped>\n",
       "    .dataframe tbody tr th:only-of-type {\n",
       "        vertical-align: middle;\n",
       "    }\n",
       "\n",
       "    .dataframe tbody tr th {\n",
       "        vertical-align: top;\n",
       "    }\n",
       "\n",
       "    .dataframe thead th {\n",
       "        text-align: right;\n",
       "    }\n",
       "</style>\n",
       "<table border=\"1\" class=\"dataframe\">\n",
       "  <thead>\n",
       "    <tr style=\"text-align: right;\">\n",
       "      <th></th>\n",
       "      <th>pH</th>\n",
       "      <th>%N</th>\n",
       "      <th>%P</th>\n",
       "      <th>%K</th>\n",
       "      <th>%Ca</th>\n",
       "      <th>%Mg</th>\n",
       "      <th>%S</th>\n",
       "      <th>%Cu</th>\n",
       "      <th>%Mo</th>\n",
       "      <th>%Mn</th>\n",
       "      <th>%Fe</th>\n",
       "      <th>Depth</th>\n",
       "      <th>Cultivated</th>\n",
       "    </tr>\n",
       "  </thead>\n",
       "  <tbody>\n",
       "    <tr>\n",
       "      <th>0</th>\n",
       "      <td>7.85</td>\n",
       "      <td>0.08</td>\n",
       "      <td>0.00506</td>\n",
       "      <td>1.59260</td>\n",
       "      <td>0.44832</td>\n",
       "      <td>0.55750</td>\n",
       "      <td>0.00457</td>\n",
       "      <td>0.00098</td>\n",
       "      <td>0.01845</td>\n",
       "      <td>0.02010</td>\n",
       "      <td>1.16865</td>\n",
       "      <td>top</td>\n",
       "      <td>True</td>\n",
       "    </tr>\n",
       "    <tr>\n",
       "      <th>1</th>\n",
       "      <td>8.03</td>\n",
       "      <td>0.06</td>\n",
       "      <td>0.00506</td>\n",
       "      <td>2.04214</td>\n",
       "      <td>0.90155</td>\n",
       "      <td>0.40326</td>\n",
       "      <td>0.00457</td>\n",
       "      <td>0.00124</td>\n",
       "      <td>0.01845</td>\n",
       "      <td>0.02566</td>\n",
       "      <td>1.59154</td>\n",
       "      <td>sub</td>\n",
       "      <td>True</td>\n",
       "    </tr>\n",
       "    <tr>\n",
       "      <th>2</th>\n",
       "      <td>5.01</td>\n",
       "      <td>0.05</td>\n",
       "      <td>0.00506</td>\n",
       "      <td>1.28172</td>\n",
       "      <td>0.08998</td>\n",
       "      <td>0.55750</td>\n",
       "      <td>0.00457</td>\n",
       "      <td>0.00093</td>\n",
       "      <td>0.01845</td>\n",
       "      <td>0.00792</td>\n",
       "      <td>0.88799</td>\n",
       "      <td>top</td>\n",
       "      <td>False</td>\n",
       "    </tr>\n",
       "    <tr>\n",
       "      <th>3</th>\n",
       "      <td>4.57</td>\n",
       "      <td>0.05</td>\n",
       "      <td>0.00506</td>\n",
       "      <td>1.29913</td>\n",
       "      <td>0.09441</td>\n",
       "      <td>0.55750</td>\n",
       "      <td>0.00457</td>\n",
       "      <td>0.00130</td>\n",
       "      <td>0.01845</td>\n",
       "      <td>0.00819</td>\n",
       "      <td>1.25013</td>\n",
       "      <td>sub</td>\n",
       "      <td>False</td>\n",
       "    </tr>\n",
       "    <tr>\n",
       "      <th>4</th>\n",
       "      <td>6.78</td>\n",
       "      <td>0.09</td>\n",
       "      <td>0.00506</td>\n",
       "      <td>2.21456</td>\n",
       "      <td>0.76517</td>\n",
       "      <td>0.55750</td>\n",
       "      <td>0.00457</td>\n",
       "      <td>0.00144</td>\n",
       "      <td>0.01845</td>\n",
       "      <td>0.01938</td>\n",
       "      <td>1.48940</td>\n",
       "      <td>top</td>\n",
       "      <td>False</td>\n",
       "    </tr>\n",
       "  </tbody>\n",
       "</table>\n",
       "</div>"
      ],
      "text/plain": [
       "     pH    %N       %P       %K      %Ca      %Mg       %S      %Cu      %Mo  \\\n",
       "0  7.85  0.08  0.00506  1.59260  0.44832  0.55750  0.00457  0.00098  0.01845   \n",
       "1  8.03  0.06  0.00506  2.04214  0.90155  0.40326  0.00457  0.00124  0.01845   \n",
       "2  5.01  0.05  0.00506  1.28172  0.08998  0.55750  0.00457  0.00093  0.01845   \n",
       "3  4.57  0.05  0.00506  1.29913  0.09441  0.55750  0.00457  0.00130  0.01845   \n",
       "4  6.78  0.09  0.00506  2.21456  0.76517  0.55750  0.00457  0.00144  0.01845   \n",
       "\n",
       "       %Mn      %Fe Depth Cultivated  \n",
       "0  0.02010  1.16865   top       True  \n",
       "1  0.02566  1.59154   sub       True  \n",
       "2  0.00792  0.88799   top      False  \n",
       "3  0.00819  1.25013   sub      False  \n",
       "4  0.01938  1.48940   top      False  "
      ]
     },
     "execution_count": 5,
     "metadata": {},
     "output_type": "execute_result"
    }
   ],
   "source": [
    "elemental_variables = ['pH', '%N', '%P', '%K', '%Ca','%Mg','%S','%Cu','%Mo','%Mn','%Fe', 'Depth', 'Cultivated']\n",
    "# major and oligoelements are taken into account for the soil composition\n",
    "\n",
    "df_composition_reduced = df_composition[elemental_variables]\n",
    "\n",
    "df_composition_reduced.head()"
   ]
  },
  {
   "cell_type": "markdown",
   "metadata": {},
   "source": [
    "#### 2.2.2 Categorical features encoding"
   ]
  },
  {
   "cell_type": "code",
   "execution_count": 6,
   "metadata": {},
   "outputs": [],
   "source": [
    "# creating instance of one-hot-encoder\n",
    "enc = OneHotEncoder(sparse=False)# label encoded values of depth\n",
    "enc_df = pd.DataFrame(enc.fit_transform(df_composition_reduced[['Depth']]), columns = ['depth_sub','depth_top'])\n",
    "\n",
    "df_composition_reduced = pd.merge(df_composition_reduced, enc_df, left_index=True, right_index=True)\n",
    "df_composition_reduced = df_composition_reduced.reset_index(drop = True)\n"
   ]
  },
  {
   "cell_type": "code",
   "execution_count": 7,
   "metadata": {},
   "outputs": [
    {
     "name": "stdout",
     "output_type": "stream",
     "text": [
      "['True' 'False']\n"
     ]
    }
   ],
   "source": [
    "df_composition_cultivated  = df_composition_reduced[df_composition_reduced['Cultivated'] != \"unknown\"]  # eliminate unknown values\n",
    "print(df_composition_cultivated['Cultivated'].unique())"
   ]
  },
  {
   "cell_type": "code",
   "execution_count": 8,
   "metadata": {},
   "outputs": [
    {
     "name": "stdout",
     "output_type": "stream",
     "text": [
      "(148, 16)\n"
     ]
    },
    {
     "name": "stderr",
     "output_type": "stream",
     "text": [
      "<ipython-input-8-d4eb68b28776>:3: SettingWithCopyWarning: \n",
      "A value is trying to be set on a copy of a slice from a DataFrame.\n",
      "Try using .loc[row_indexer,col_indexer] = value instead\n",
      "\n",
      "See the caveats in the documentation: https://pandas.pydata.org/pandas-docs/stable/user_guide/indexing.html#returning-a-view-versus-a-copy\n",
      "  df_composition_cultivated['Cultivated_n'] = labelencoder.fit_transform(df_composition_cultivated['Cultivated'])\n"
     ]
    }
   ],
   "source": [
    "# creating instance of labelencoder for the column \"Cultivated\"\n",
    "labelencoder = LabelEncoder()# Assigning numerical values and storing in another column\n",
    "df_composition_cultivated['Cultivated_n'] = labelencoder.fit_transform(df_composition_cultivated['Cultivated'])\n",
    "\n",
    "print(df_composition_cultivated.shape)\n",
    "df_composition_cultivated = df_composition_cultivated.drop(['Depth', 'Cultivated'], axis = 1)"
   ]
  },
  {
   "cell_type": "code",
   "execution_count": 9,
   "metadata": {},
   "outputs": [
    {
     "data": {
      "text/html": [
       "<div>\n",
       "<style scoped>\n",
       "    .dataframe tbody tr th:only-of-type {\n",
       "        vertical-align: middle;\n",
       "    }\n",
       "\n",
       "    .dataframe tbody tr th {\n",
       "        vertical-align: top;\n",
       "    }\n",
       "\n",
       "    .dataframe thead th {\n",
       "        text-align: right;\n",
       "    }\n",
       "</style>\n",
       "<table border=\"1\" class=\"dataframe\">\n",
       "  <thead>\n",
       "    <tr style=\"text-align: right;\">\n",
       "      <th></th>\n",
       "      <th>pH</th>\n",
       "      <th>%N</th>\n",
       "      <th>%P</th>\n",
       "      <th>%K</th>\n",
       "      <th>%Ca</th>\n",
       "      <th>%Mg</th>\n",
       "      <th>%S</th>\n",
       "      <th>%Cu</th>\n",
       "      <th>%Mo</th>\n",
       "      <th>%Mn</th>\n",
       "      <th>%Fe</th>\n",
       "      <th>depth_sub</th>\n",
       "      <th>depth_top</th>\n",
       "      <th>Cultivated_n</th>\n",
       "    </tr>\n",
       "  </thead>\n",
       "  <tbody>\n",
       "    <tr>\n",
       "      <th>0</th>\n",
       "      <td>7.85</td>\n",
       "      <td>0.08</td>\n",
       "      <td>0.00506</td>\n",
       "      <td>1.59260</td>\n",
       "      <td>0.44832</td>\n",
       "      <td>0.55750</td>\n",
       "      <td>0.00457</td>\n",
       "      <td>0.00098</td>\n",
       "      <td>0.01845</td>\n",
       "      <td>0.02010</td>\n",
       "      <td>1.16865</td>\n",
       "      <td>0.0</td>\n",
       "      <td>1.0</td>\n",
       "      <td>1</td>\n",
       "    </tr>\n",
       "    <tr>\n",
       "      <th>1</th>\n",
       "      <td>8.03</td>\n",
       "      <td>0.06</td>\n",
       "      <td>0.00506</td>\n",
       "      <td>2.04214</td>\n",
       "      <td>0.90155</td>\n",
       "      <td>0.40326</td>\n",
       "      <td>0.00457</td>\n",
       "      <td>0.00124</td>\n",
       "      <td>0.01845</td>\n",
       "      <td>0.02566</td>\n",
       "      <td>1.59154</td>\n",
       "      <td>1.0</td>\n",
       "      <td>0.0</td>\n",
       "      <td>1</td>\n",
       "    </tr>\n",
       "    <tr>\n",
       "      <th>2</th>\n",
       "      <td>5.01</td>\n",
       "      <td>0.05</td>\n",
       "      <td>0.00506</td>\n",
       "      <td>1.28172</td>\n",
       "      <td>0.08998</td>\n",
       "      <td>0.55750</td>\n",
       "      <td>0.00457</td>\n",
       "      <td>0.00093</td>\n",
       "      <td>0.01845</td>\n",
       "      <td>0.00792</td>\n",
       "      <td>0.88799</td>\n",
       "      <td>0.0</td>\n",
       "      <td>1.0</td>\n",
       "      <td>0</td>\n",
       "    </tr>\n",
       "    <tr>\n",
       "      <th>3</th>\n",
       "      <td>4.57</td>\n",
       "      <td>0.05</td>\n",
       "      <td>0.00506</td>\n",
       "      <td>1.29913</td>\n",
       "      <td>0.09441</td>\n",
       "      <td>0.55750</td>\n",
       "      <td>0.00457</td>\n",
       "      <td>0.00130</td>\n",
       "      <td>0.01845</td>\n",
       "      <td>0.00819</td>\n",
       "      <td>1.25013</td>\n",
       "      <td>1.0</td>\n",
       "      <td>0.0</td>\n",
       "      <td>0</td>\n",
       "    </tr>\n",
       "    <tr>\n",
       "      <th>4</th>\n",
       "      <td>6.78</td>\n",
       "      <td>0.09</td>\n",
       "      <td>0.00506</td>\n",
       "      <td>2.21456</td>\n",
       "      <td>0.76517</td>\n",
       "      <td>0.55750</td>\n",
       "      <td>0.00457</td>\n",
       "      <td>0.00144</td>\n",
       "      <td>0.01845</td>\n",
       "      <td>0.01938</td>\n",
       "      <td>1.48940</td>\n",
       "      <td>0.0</td>\n",
       "      <td>1.0</td>\n",
       "      <td>0</td>\n",
       "    </tr>\n",
       "  </tbody>\n",
       "</table>\n",
       "</div>"
      ],
      "text/plain": [
       "     pH    %N       %P       %K      %Ca      %Mg       %S      %Cu      %Mo  \\\n",
       "0  7.85  0.08  0.00506  1.59260  0.44832  0.55750  0.00457  0.00098  0.01845   \n",
       "1  8.03  0.06  0.00506  2.04214  0.90155  0.40326  0.00457  0.00124  0.01845   \n",
       "2  5.01  0.05  0.00506  1.28172  0.08998  0.55750  0.00457  0.00093  0.01845   \n",
       "3  4.57  0.05  0.00506  1.29913  0.09441  0.55750  0.00457  0.00130  0.01845   \n",
       "4  6.78  0.09  0.00506  2.21456  0.76517  0.55750  0.00457  0.00144  0.01845   \n",
       "\n",
       "       %Mn      %Fe  depth_sub  depth_top  Cultivated_n  \n",
       "0  0.02010  1.16865        0.0        1.0             1  \n",
       "1  0.02566  1.59154        1.0        0.0             1  \n",
       "2  0.00792  0.88799        0.0        1.0             0  \n",
       "3  0.00819  1.25013        1.0        0.0             0  \n",
       "4  0.01938  1.48940        0.0        1.0             0  "
      ]
     },
     "execution_count": 9,
     "metadata": {},
     "output_type": "execute_result"
    }
   ],
   "source": [
    "df_composition_cultivated.head()"
   ]
  },
  {
   "cell_type": "markdown",
   "metadata": {},
   "source": [
    "#### 2.2.3 Data modeling - logistic regression"
   ]
  },
  {
   "cell_type": "code",
   "execution_count": 10,
   "metadata": {},
   "outputs": [],
   "source": [
    "\n",
    "X_cultivated = df_composition_cultivated.drop(['Cultivated_n'], axis = 1).values[:, 1:]\n",
    "\n",
    "X_cult_scaled = StandardScaler().fit_transform(X_cultivated) # scale those features\n",
    "y_cultivated = df_composition_cultivated['Cultivated_n'].values\n",
    "\n",
    "X1_train, X1_test, y1_train, y1_test = train_test_split(X_cult_scaled, y_cultivated, test_size = 0.2, random_state = 42)"
   ]
  },
  {
   "cell_type": "code",
   "execution_count": 11,
   "metadata": {},
   "outputs": [
    {
     "name": "stdout",
     "output_type": "stream",
     "text": [
      "Score of the logistic regression model for soil composition and fertility =  0.87\n"
     ]
    },
    {
     "name": "stderr",
     "output_type": "stream",
     "text": [
      "/home/marco/anaconda3/lib/python3.8/site-packages/sklearn/svm/_base.py:976: ConvergenceWarning: Liblinear failed to converge, increase the number of iterations.\n",
      "  warnings.warn(\"Liblinear failed to converge, increase \"\n"
     ]
    }
   ],
   "source": [
    "lr_cultivated = LogisticRegression(solver='liblinear',dual=True, random_state=42)\n",
    "\n",
    "lr_cultivated.fit(X1_train, y1_train)\n",
    "y1_pred = lr_cultivated.predict(X1_test) # estimation of cultivated value based on fit\n",
    "accuracy_lr = lr_cultivated.score(X1_test, y1_test)\n",
    "print('Score of the logistic regression model for soil composition and fertility = ',np.round(accuracy_lr,2))"
   ]
  },
  {
   "cell_type": "code",
   "execution_count": 12,
   "metadata": {},
   "outputs": [
    {
     "name": "stdout",
     "output_type": "stream",
     "text": [
      "              precision    recall  f1-score   support\n",
      "\n",
      "           0       0.92      0.92      0.92        25\n",
      "           1       0.60      0.60      0.60         5\n",
      "\n",
      "    accuracy                           0.87        30\n",
      "   macro avg       0.76      0.76      0.76        30\n",
      "weighted avg       0.87      0.87      0.87        30\n",
      "\n"
     ]
    },
    {
     "data": {
      "text/html": [
       "<div>\n",
       "<style scoped>\n",
       "    .dataframe tbody tr th:only-of-type {\n",
       "        vertical-align: middle;\n",
       "    }\n",
       "\n",
       "    .dataframe tbody tr th {\n",
       "        vertical-align: top;\n",
       "    }\n",
       "\n",
       "    .dataframe thead th {\n",
       "        text-align: right;\n",
       "    }\n",
       "</style>\n",
       "<table border=\"1\" class=\"dataframe\">\n",
       "  <thead>\n",
       "    <tr style=\"text-align: right;\">\n",
       "      <th></th>\n",
       "      <th>predicted negative</th>\n",
       "      <th>predicted positive</th>\n",
       "    </tr>\n",
       "  </thead>\n",
       "  <tbody>\n",
       "    <tr>\n",
       "      <th>actual negative</th>\n",
       "      <td>23</td>\n",
       "      <td>2</td>\n",
       "    </tr>\n",
       "    <tr>\n",
       "      <th>actual positive</th>\n",
       "      <td>2</td>\n",
       "      <td>3</td>\n",
       "    </tr>\n",
       "  </tbody>\n",
       "</table>\n",
       "</div>"
      ],
      "text/plain": [
       "                 predicted negative  predicted positive\n",
       "actual negative                  23                   2\n",
       "actual positive                   2                   3"
      ]
     },
     "execution_count": 12,
     "metadata": {},
     "output_type": "execute_result"
    }
   ],
   "source": [
    "cm1 = confusion_matrix(y1_test, y1_pred)\n",
    "\n",
    "print(classification_report(y1_test, y1_pred))\n",
    "\n",
    "df_confusionmatrix1 = pd.DataFrame(data=cm1, index=[\"actual negative\",\"actual positive\"], columns=[\"predicted negative\",\"predicted positive\"])\n",
    "df_confusionmatrix1 "
   ]
  },
  {
   "cell_type": "code",
   "execution_count": 13,
   "metadata": {},
   "outputs": [
    {
     "data": {
      "text/plain": [
       "array([0.83333333, 0.66666667, 0.83333333, 0.83333333, 0.83333333])"
      ]
     },
     "execution_count": 13,
     "metadata": {},
     "output_type": "execute_result"
    }
   ],
   "source": [
    "# Cross-validation\n",
    "y_cv = cross_val_predict(lr_cultivated, X1_test, y1_test, cv=5)\n",
    "scores = cross_val_score(lr_cultivated, X1_test, y1_test, cv=5)\n",
    "scores"
   ]
  },
  {
   "cell_type": "code",
   "execution_count": 14,
   "metadata": {},
   "outputs": [
    {
     "name": "stdout",
     "output_type": "stream",
     "text": [
      "Logistic Regression: 1-dimensional representation\n"
     ]
    },
    {
     "data": {
      "image/png": "[encoded data removed]",
      "text/plain": [
       "<IPython.core.display.Image object>"
      ]
     },
     "execution_count": 14,
     "metadata": {},
     "output_type": "execute_result"
    }
   ],
   "source": [
    "print(\"Logistic Regression: 1-dimensional representation\")\n",
    "Image(filename='img/logisticregression.png') "
   ]
  },
  {
   "cell_type": "code",
   "execution_count": 15,
   "metadata": {},
   "outputs": [
    {
     "name": "stdout",
     "output_type": "stream",
     "text": [
      "the new component contains [30.39960938 18.95856956 16.00332647 11.00627545  8.53062535] % of the information from the 5 variables for a total of 84.89840620844835 %\n"
     ]
    }
   ],
   "source": [
    "n_components = 5\n",
    "\n",
    "pca = PCA(n_components= n_components)\n",
    "principalComponents = pca.fit_transform(X_cult_scaled)\n",
    "\n",
    "df_PCA_composition = pd.DataFrame(data = principalComponents , columns = ['compositional_component1','compositional_component2','compositional_component3','compositional_component4','compositional_component5'])\n",
    "\n",
    "\n",
    "print('the new component contains',pca.explained_variance_ratio_ * 100, '% of the information from the', n_components ,'variables', 'for a total of',sum(pca.explained_variance_ratio_ * 100),'%' )\n",
    "#"
   ]
  },
  {
   "cell_type": "markdown",
   "metadata": {},
   "source": [
    "#### 2.2.4 Data modeling - major elements correlation"
   ]
  },
  {
   "cell_type": "markdown",
   "metadata": {},
   "source": [
    "The %N cannot be detected by XRF. It is interesting then to predict it by a correlation with major elements"
   ]
  },
  {
   "cell_type": "code",
   "execution_count": 16,
   "metadata": {},
   "outputs": [
    {
     "data": {
      "image/png": "[encoded data removed]",
      "text/plain": [
       "<IPython.core.display.Image object>"
      ]
     },
     "execution_count": 16,
     "metadata": {},
     "output_type": "execute_result"
    }
   ],
   "source": [
    "Image(filename='img/majorelements.png')"
   ]
  },
  {
   "cell_type": "code",
   "execution_count": 17,
   "metadata": {},
   "outputs": [
    {
     "name": "stdout",
     "output_type": "stream",
     "text": [
      "(467, 7)\n"
     ]
    },
    {
     "data": {
      "text/html": [
       "<div>\n",
       "<style scoped>\n",
       "    .dataframe tbody tr th:only-of-type {\n",
       "        vertical-align: middle;\n",
       "    }\n",
       "\n",
       "    .dataframe tbody tr th {\n",
       "        vertical-align: top;\n",
       "    }\n",
       "\n",
       "    .dataframe thead th {\n",
       "        text-align: right;\n",
       "    }\n",
       "</style>\n",
       "<table border=\"1\" class=\"dataframe\">\n",
       "  <thead>\n",
       "    <tr style=\"text-align: right;\">\n",
       "      <th></th>\n",
       "      <th>%N</th>\n",
       "      <th>%P</th>\n",
       "      <th>%K</th>\n",
       "      <th>%Ca</th>\n",
       "      <th>%Mg</th>\n",
       "      <th>%S</th>\n",
       "      <th>%Cl</th>\n",
       "    </tr>\n",
       "  </thead>\n",
       "  <tbody>\n",
       "    <tr>\n",
       "      <th>0</th>\n",
       "      <td>0.08</td>\n",
       "      <td>0.00506</td>\n",
       "      <td>1.59260</td>\n",
       "      <td>0.44832</td>\n",
       "      <td>0.55750</td>\n",
       "      <td>0.00457</td>\n",
       "      <td>0.01162</td>\n",
       "    </tr>\n",
       "    <tr>\n",
       "      <th>1</th>\n",
       "      <td>0.06</td>\n",
       "      <td>0.00506</td>\n",
       "      <td>2.04214</td>\n",
       "      <td>0.90155</td>\n",
       "      <td>0.40326</td>\n",
       "      <td>0.00457</td>\n",
       "      <td>0.02007</td>\n",
       "    </tr>\n",
       "    <tr>\n",
       "      <th>2</th>\n",
       "      <td>0.05</td>\n",
       "      <td>0.00506</td>\n",
       "      <td>1.28172</td>\n",
       "      <td>0.08998</td>\n",
       "      <td>0.55750</td>\n",
       "      <td>0.00457</td>\n",
       "      <td>0.01177</td>\n",
       "    </tr>\n",
       "    <tr>\n",
       "      <th>3</th>\n",
       "      <td>0.05</td>\n",
       "      <td>0.00506</td>\n",
       "      <td>1.29913</td>\n",
       "      <td>0.09441</td>\n",
       "      <td>0.55750</td>\n",
       "      <td>0.00457</td>\n",
       "      <td>0.02102</td>\n",
       "    </tr>\n",
       "    <tr>\n",
       "      <th>4</th>\n",
       "      <td>0.09</td>\n",
       "      <td>0.00506</td>\n",
       "      <td>2.21456</td>\n",
       "      <td>0.76517</td>\n",
       "      <td>0.55750</td>\n",
       "      <td>0.00457</td>\n",
       "      <td>0.01033</td>\n",
       "    </tr>\n",
       "  </tbody>\n",
       "</table>\n",
       "</div>"
      ],
      "text/plain": [
       "     %N       %P       %K      %Ca      %Mg       %S      %Cl\n",
       "0  0.08  0.00506  1.59260  0.44832  0.55750  0.00457  0.01162\n",
       "1  0.06  0.00506  2.04214  0.90155  0.40326  0.00457  0.02007\n",
       "2  0.05  0.00506  1.28172  0.08998  0.55750  0.00457  0.01177\n",
       "3  0.05  0.00506  1.29913  0.09441  0.55750  0.00457  0.02102\n",
       "4  0.09  0.00506  2.21456  0.76517  0.55750  0.00457  0.01033"
      ]
     },
     "execution_count": 17,
     "metadata": {},
     "output_type": "execute_result"
    }
   ],
   "source": [
    "major_elements = ['%N', '%P', '%K','%Ca','%Mg','%S', '%Cl']\n",
    "df_composition_major = df_composition[major_elements]\n",
    "print(df_composition_major.shape)\n",
    "df_composition_major.head()"
   ]
  },
  {
   "cell_type": "code",
   "execution_count": 18,
   "metadata": {},
   "outputs": [],
   "source": [
    "#Variables selection\n",
    "X_major = df_composition_major.drop(['%N'], axis = 1).values[:, 1:]\n",
    "\n",
    "X_maj_scaled = StandardScaler().fit_transform(X_major) # scale those features\n",
    "y_maj = df_composition_major['%N'].values\n",
    "\n",
    "X0_train, X0_test, y0_train, y0_test = train_test_split(X_maj_scaled, y_maj, test_size = 0.2, random_state = 42)"
   ]
  },
  {
   "cell_type": "markdown",
   "metadata": {},
   "source": [
    "Multilinear regression"
   ]
  },
  {
   "cell_type": "code",
   "execution_count": 19,
   "metadata": {},
   "outputs": [
    {
     "name": "stdout",
     "output_type": "stream",
     "text": [
      "R2: -0.004\n",
      "MSE: 0.006\n"
     ]
    }
   ],
   "source": [
    "reg = LinearRegression()\n",
    "reg.fit(X0_train, y0_train)\n",
    "\n",
    "y0_pred = reg.predict(X0_test)\n",
    "\n",
    "multilinear_r2 = r2_score(y0_test,y0_pred)\n",
    "\n",
    "\n",
    "# Calculate mean squared error for the regression\n",
    "multilinear_mse = mean_squared_error(y0_test, y0_pred)\n",
    "\n",
    "print('R2: %5.3f'  % multilinear_r2)\n",
    "\n",
    "print('MSE: %5.3f' % multilinear_mse)"
   ]
  },
  {
   "cell_type": "markdown",
   "metadata": {},
   "source": [
    "XGBoost"
   ]
  },
  {
   "cell_type": "code",
   "execution_count": 20,
   "metadata": {},
   "outputs": [
    {
     "name": "stdout",
     "output_type": "stream",
     "text": [
      "R2: -0.225\n",
      "MSE: 0.007\n"
     ]
    }
   ],
   "source": [
    "#kfold = KFold(shuffle=True, random_state=0, n_splits=4)\n",
    "xgb = XGBRegressor(n_estimators=500, min_child_weight=20, n_jobs=-1, objective='reg:squarederror')\n",
    "\n",
    "xgb.fit(X0_train, y0_train)\n",
    "\n",
    "y_pred_xgb = xgb.predict(X0_test)#.reshape(1, 1))\n",
    "\n",
    "# Calculate scores for the regression\n",
    "xgb_score = r2_score(y0_test, y_pred_xgb)\n",
    "\n",
    "# Calculate mean squared error for the regression\n",
    "xgb_mse = mean_squared_error(y0_test, y_pred_xgb)\n",
    "\n",
    "print('R2: %5.3f'  % xgb_score)\n",
    "\n",
    "print('MSE: %5.3f' % xgb_mse)"
   ]
  },
  {
   "cell_type": "markdown",
   "metadata": {},
   "source": [
    "Random Forest"
   ]
  },
  {
   "cell_type": "code",
   "execution_count": 21,
   "metadata": {},
   "outputs": [
    {
     "name": "stdout",
     "output_type": "stream",
     "text": [
      "R2: 0.075\n",
      "MSE: 0.005\n"
     ]
    }
   ],
   "source": [
    "rf = RandomForestRegressor(max_depth=20, random_state=42)\n",
    "rf.fit(X0_train, y0_train)\n",
    "\n",
    "y_pred_rf = rf.predict(X0_test)#.reshape(1, 1))\n",
    "\n",
    "# Calculate scores for the regression\n",
    "rf_score = r2_score(y0_test, y_pred_rf)\n",
    "\n",
    "# Calculate mean squared error for the regression\n",
    "rf_mse = mean_squared_error(y0_test, y_pred_rf)\n",
    "\n",
    "print('R2: %5.3f'  % rf_score)\n",
    "\n",
    "print('MSE: %5.3f' % rf_mse)"
   ]
  },
  {
   "cell_type": "markdown",
   "metadata": {},
   "source": [
    "Poor correlation between elements concentration"
   ]
  },
  {
   "cell_type": "markdown",
   "metadata": {},
   "source": [
    "## 3. Elemental analysis - Infrared spectroscopy correlation"
   ]
  },
  {
   "cell_type": "markdown",
   "metadata": {},
   "source": [
    "### 3.1 Loading mid-infrared spectra and target variables"
   ]
  },
  {
   "cell_type": "code",
   "execution_count": 22,
   "metadata": {},
   "outputs": [
    {
     "name": "stdout",
     "output_type": "stream",
     "text": [
      "(467, 2542)\n"
     ]
    }
   ],
   "source": [
    "df_FTIR = pd.read_csv('middle_infrared_spectra_dataset.csv')\n"
   ]
  },
  {
   "cell_type": "code",
   "execution_count": 23,
   "metadata": {},
   "outputs": [
    {
     "name": "stdout",
     "output_type": "stream",
     "text": [
      "2542\n"
     ]
    }
   ],
   "source": [
    "# Get wavelengths\n",
    "wavelenghts_list = df_FTIR_sp.columns.tolist() \n",
    "wavelenghts = np.array(wavelenghts_list)\n",
    "print(len(wavelenghts))\n"
   ]
  },
  {
   "cell_type": "code",
   "execution_count": 24,
   "metadata": {},
   "outputs": [],
   "source": [
    "X = df_FTIR_sp.values"
   ]
  },
  {
   "cell_type": "markdown",
   "metadata": {},
   "source": [
    "##### Targets selection"
   ]
  },
  {
   "cell_type": "code",
   "execution_count": 25,
   "metadata": {},
   "outputs": [
    {
     "name": "stdout",
     "output_type": "stream",
     "text": [
      "shapes verification (467,) (467, 3)\n"
     ]
    }
   ],
   "source": [
    "# single target regression\n",
    "target_feature = 'C % Org' #['C % Org', '%P', '%K']#, '%Ca', '%Cu', '%Fe', '%Mo','pH'\n",
    "# multiple targets regression\n",
    "target_features = ['%N', 'C % Org', 'pH']#, '%Ca', '%Cu', '%Fe', '%Mo','pH']\n",
    "\n",
    "y2 = df_composition[target_feature].values #PLS1 - single feature regression\n",
    "Y2 = df_composition[target_features].values #PLS2 - multiple features regression\n",
    "print('shapes verification',y2.shape, Y2.shape)"
   ]
  },
  {
   "cell_type": "code",
   "execution_count": 26,
   "metadata": {},
   "outputs": [],
   "source": [
    "X2_train, X2_test, y2_train, y2_test = train_test_split(X, y2, test_size = 0.2, random_state = 42)"
   ]
  },
  {
   "cell_type": "markdown",
   "metadata": {},
   "source": [
    "### 3.2 Multivariate linear regression"
   ]
  },
  {
   "cell_type": "code",
   "execution_count": 27,
   "metadata": {},
   "outputs": [
    {
     "name": "stdout",
     "output_type": "stream",
     "text": [
      "linear regression R² -7.171783391323487\n",
      "linear regression MSE 9.68750318001591\n"
     ]
    }
   ],
   "source": [
    "lr = LinearRegression()\n",
    "\n",
    "lr_model = lr.fit(X2_train,y2_train)\n",
    "\n",
    "y_lr = lr.predict(X2_test)  \n",
    "r2_lr = r2_score(y2_test, y_lr)\n",
    "mse_lr = mean_squared_error(y2_test, y_lr)\n",
    "print('linear regression R²',r2_lr )\n",
    "print('linear regression MSE',mse_lr )"
   ]
  },
  {
   "cell_type": "code",
   "execution_count": 28,
   "metadata": {},
   "outputs": [
    {
     "data": {
      "text/plain": [
       "Text(0.5, 1.0, 'Multivariate linear regression')"
      ]
     },
     "execution_count": 28,
     "metadata": {},
     "output_type": "execute_result"
    },
    {
     "data": {
      "image/png": "[encoded data removed]",
      "text/plain": [
       "<Figure size 432x288 with 1 Axes>"
      ]
     },
     "metadata": {
      "needs_background": "light"
     },
     "output_type": "display_data"
    }
   ],
   "source": [
    "plt.scatter(y2_test, y_lr, label = target_feature)\n",
    "plt.legend()\n",
    "plt.xlabel('actual values')\n",
    "plt.ylabel('predicted values')\n",
    "plt.title('Multivariate linear regression')"
   ]
  },
  {
   "cell_type": "markdown",
   "metadata": {},
   "source": [
    "### 3.4 Ridge regression"
   ]
  },
  {
   "cell_type": "code",
   "execution_count": 29,
   "metadata": {},
   "outputs": [
    {
     "name": "stdout",
     "output_type": "stream",
     "text": [
      "Best parameter alpha =  0.00031622776601683794\n",
      "ridge regression R² : 0.991\n",
      "ridge regression MSE 6.927639694570894\n"
     ]
    }
   ],
   "source": [
    "parameters = {'alpha':np.logspace(-4, -3.5, 50)}\n",
    "#Run a Grid search, using R^2 as the metric to optimise alpha\n",
    "ridge= GridSearchCV(Ridge(), parameters, scoring='r2', cv=10)\n",
    "# Fit to the data\n",
    "ridge.fit(X2_train, y2_train)\n",
    "# Run a ridge regression with the optimised value\n",
    "print('Best parameter alpha = ', ridge.best_params_['alpha'])\n",
    "\n",
    "y_ridge = ridge.predict(X2_test)  \n",
    "#Get the optimised value of alpha\n",
    "\n",
    "print('ridge regression R² : %5.3f'  % ridge.score(X2_train, y2_train))\n",
    "mse_ridge = mean_squared_error(y2_test, y_ridge)\n",
    "print('ridge regression MSE',mse_ridge )"
   ]
  },
  {
   "cell_type": "code",
   "execution_count": 30,
   "metadata": {},
   "outputs": [
    {
     "data": {
      "text/plain": [
       "Text(0.5, 1.0, 'Ridge regression')"
      ]
     },
     "execution_count": 30,
     "metadata": {},
     "output_type": "execute_result"
    },
    {
     "data": {
      "image/png": "[encoded data removed]",
      "text/plain": [
       "<Figure size 432x288 with 1 Axes>"
      ]
     },
     "metadata": {
      "needs_background": "light"
     },
     "output_type": "display_data"
    }
   ],
   "source": [
    "plt.scatter(y2_test, y_ridge, label = target_feature)\n",
    "plt.legend()\n",
    "plt.xlabel('actual values')\n",
    "plt.ylabel('predicted values')\n",
    "plt.title('Ridge regression')"
   ]
  },
  {
   "cell_type": "markdown",
   "metadata": {},
   "source": [
    "### 3.3 Random forest regression"
   ]
  },
  {
   "cell_type": "code",
   "execution_count": 31,
   "metadata": {},
   "outputs": [
    {
     "name": "stdout",
     "output_type": "stream",
     "text": [
      "random forest regression R²: -0.212\n",
      "random forest regression MSE: 1.437\n"
     ]
    }
   ],
   "source": [
    "\n",
    "X2, y2 = make_regression(n_features=len(wavelenghts), n_informative=150,random_state=0, shuffle=False)\n",
    "\n",
    "rf = RandomForestRegressor(max_depth=20, random_state=42)\n",
    "rf.fit(X2_train, y2_train)\n",
    "y_pred_rf = rf.predict(X2_test)#.reshape(1, 1))\n",
    "\n",
    "# Calculate scores for calibration and cross-validation\n",
    "rf_score_c = r2_score(y2_test, y_pred_rf)\n",
    "\n",
    "# Calculate mean squared error for calibration and cross validation\n",
    "rf_mse_c = mean_squared_error(y2_test, y_pred_rf)\n",
    "\n",
    "print('random forest regression R²: %5.3f'  % rf_score_c)\n",
    "\n",
    "print('random forest regression MSE: %5.3f' % rf_mse_c)\n"
   ]
  },
  {
   "cell_type": "code",
   "execution_count": 32,
   "metadata": {},
   "outputs": [
    {
     "data": {
      "text/plain": [
       "Text(0.5, 1.0, 'Random forest regression')"
      ]
     },
     "execution_count": 32,
     "metadata": {},
     "output_type": "execute_result"
    },
    {
     "data": {
      "image/png": "[encoded data removed]",
      "text/plain": [
       "<Figure size 432x288 with 1 Axes>"
      ]
     },
     "metadata": {
      "needs_background": "light"
     },
     "output_type": "display_data"
    }
   ],
   "source": [
    "plt.scatter(y2_test, y_pred_rf, label = target_feature)\n",
    "plt.legend()\n",
    "plt.xlabel('actual values')\n",
    "plt.ylabel('predicted values')\n",
    "plt.title('Random forest regression')"
   ]
  },
  {
   "cell_type": "markdown",
   "metadata": {},
   "source": [
    "### 3.2 Multivariate partial least squares (PLS) regression\n",
    "#### PLS1: univariate target "
   ]
  },
  {
   "cell_type": "markdown",
   "metadata": {},
   "source": [
    "NIR spectra should be correlated to COH elements, i.e. organic carbon and we investigate the correlation between these data with multivariate partial least squares regression. The predicting variables are the FTIR wavelenghts. The target is % organic C. \n"
   ]
  },
  {
   "cell_type": "code",
   "execution_count": 33,
   "metadata": {},
   "outputs": [],
   "source": [
    "# what is the optimal number of latent predictive features?\n",
    "n_comp = 30\n",
    "mse = []\n",
    "r2 = []\n",
    "component = np.arange(1, n_comp,2)\n",
    "    \n",
    "for i in component:\n",
    "    pls = PLSRegression(n_components=i)\n",
    "    model = pls.fit(X2_train, y2_train)\n",
    "    \n",
    "    y_c = model.predict(X2_test)\n",
    "\n",
    "    mse.append(mean_squared_error(y2_test, y_c))\n",
    "    r2.append(r2_score(y2_test, y_c))"
   ]
  },
  {
   "cell_type": "code",
   "execution_count": 34,
   "metadata": {},
   "outputs": [
    {
     "data": {
      "text/plain": [
       "Text(0.5, 0, 'Number of PLS components')"
      ]
     },
     "execution_count": 34,
     "metadata": {},
     "output_type": "execute_result"
    },
    {
     "data": {
      "image/png": "[encoded data removed]",
      "text/plain": [
       "<Figure size 288x576 with 2 Axes>"
      ]
     },
     "metadata": {
      "needs_background": "light"
     },
     "output_type": "display_data"
    }
   ],
   "source": [
    "plt.figure(figsize= (4,8))\n",
    "plt.subplot(211)\n",
    "plt.scatter(component, mse, label = 'mse', marker = '+', c='r')\n",
    "plt.title('PLS')\n",
    "plt.ylabel('MSE')\n",
    "\n",
    "plt.subplot(212)\n",
    "plt.scatter(component, r2, label = 'R²', alpha=0.5, marker=r'$\\clubsuit$', c='g')\n",
    "plt.ylabel('R²')\n",
    "plt.xlabel('Number of PLS components')"
   ]
  },
  {
   "cell_type": "markdown",
   "metadata": {},
   "source": [
    "Now let's run this function by setting the optimized mumber of components."
   ]
  },
  {
   "cell_type": "code",
   "execution_count": 35,
   "metadata": {},
   "outputs": [
    {
     "name": "stdout",
     "output_type": "stream",
     "text": [
      "PLS R²: -0.285\n",
      "PLS MSE: 1.524\n"
     ]
    }
   ],
   "source": [
    "pls = PLSRegression(n_components=10)\n",
    "model_pls = pls.fit(X2_train, y2_train)\n",
    "\n",
    "y_c = model_pls.predict(X2_test)\n",
    "\n",
    "\n",
    "# Calculate scores for calibration and cross-validation\n",
    "score_c = r2_score(y2_test, y_c)\n",
    "\n",
    "\n",
    "\n",
    "# Calculate mean squared error for calibration and cross validation\n",
    "mse_c = mean_squared_error(y2_test, y_c)\n",
    "\n",
    "print('PLS R²: %5.3f'  % score_c)\n",
    "\n",
    "print('PLS MSE: %5.3f' % mse_c)"
   ]
  },
  {
   "cell_type": "code",
   "execution_count": 36,
   "metadata": {},
   "outputs": [
    {
     "data": {
      "text/plain": [
       "Text(0.5, 1.0, 'PLS regression')"
      ]
     },
     "execution_count": 36,
     "metadata": {},
     "output_type": "execute_result"
    },
    {
     "data": {
      "image/png": "[encoded data removed]",
      "text/plain": [
       "<Figure size 432x288 with 1 Axes>"
      ]
     },
     "metadata": {
      "needs_background": "light"
     },
     "output_type": "display_data"
    }
   ],
   "source": [
    "plt.scatter(y2_test, y_c, label = target_feature)\n",
    "plt.legend()\n",
    "plt.xlabel('actual values')\n",
    "plt.ylabel('predicted values')\n",
    "plt.title('PLS regression')"
   ]
  },
  {
   "cell_type": "markdown",
   "metadata": {},
   "source": [
    "- PLS canonical"
   ]
  },
  {
   "cell_type": "code",
   "execution_count": 37,
   "metadata": {},
   "outputs": [],
   "source": [
    "X2_train, X2_test, Y2_train, Y2_test = train_test_split(X, Y2, test_size = 0.2, random_state = 42)"
   ]
  },
  {
   "cell_type": "code",
   "execution_count": 38,
   "metadata": {},
   "outputs": [
    {
     "name": "stdout",
     "output_type": "stream",
     "text": [
      "n targets:  3\n"
     ]
    }
   ],
   "source": [
    "print('n targets: ',len(target_features))\n",
    "\n",
    "plsca = PLSCanonical(n_components= len(target_features))\n",
    "model_pls_canonical = plsca.fit(X2_train, Y2_train)\n",
    "X_c, Y_c = plsca.transform(X2_test, Y2_test)\n",
    "\n"
   ]
  },
  {
   "cell_type": "code",
   "execution_count": 39,
   "metadata": {},
   "outputs": [
    {
     "name": "stdout",
     "output_type": "stream",
     "text": [
      "R² score %N :  -243.2557154718495\n",
      "R² score C % Org :  -1.2698212943594664\n",
      "R² score pH :  -26.83110461310481\n",
      "\n",
      "R² PLS Canonical average: -90.452\n",
      "MSE PLS Canonical average: 13.487\n"
     ]
    }
   ],
   "source": [
    "\n",
    "# Calculate scores for calibration and cross-validation\n",
    "plsca_score_c = r2_score(Y2_test, Y_c)\n",
    "\n",
    "# Calculate mean squared error for calibration and cross validation\n",
    "plsca_mse_c = mean_squared_error(Y2_test, Y_c)\n",
    "\n",
    "\n",
    "print('R² score',target_features[0],': ',r2_score(Y2_test[:,0], Y_c[:,0]))\n",
    "print('R² score',target_features[1],': ',r2_score(Y2_test[:,1], Y_c[:,1]))\n",
    "print('R² score',target_features[2],': ',r2_score(Y2_test[:,2], Y_c[:,2]))\n",
    "print('')\n",
    "print('R² PLS Canonical average: %5.3f'  % plsca_score_c)\n",
    "\n",
    "print('MSE PLS Canonical average: %5.3f' % plsca_mse_c)\n"
   ]
  },
  {
   "cell_type": "code",
   "execution_count": 40,
   "metadata": {},
   "outputs": [
    {
     "data": {
      "text/plain": [
       "[]"
      ]
     },
     "execution_count": 40,
     "metadata": {},
     "output_type": "execute_result"
    },
    {
     "data": {
      "image/png": "[encoded data removed]",
      "text/plain": [
       "<Figure size 432x288 with 1 Axes>"
      ]
     },
     "metadata": {
      "needs_background": "light"
     },
     "output_type": "display_data"
    }
   ],
   "source": [
    "plt.scatter(Y2_test[:,0], Y_c[:,0], label = target_features[0], color = 'r')\n",
    "plt.scatter(Y2_test[:,1], Y_c[:,1], label = target_features[1], color = 'b')\n",
    "plt.scatter(Y2_test[:,2], Y_c[:,2], label = target_features[2], color = 'k')\n",
    "plt.legend()\n",
    "plt.xlabel('actual values')\n",
    "plt.ylabel('predicted values')\n",
    "plt.title('PLS Canonical - 3 variables prediction')\n",
    "plt.plot()"
   ]
  },
  {
   "cell_type": "markdown",
   "metadata": {},
   "source": [
    "## 4. Model improvements strategies\n",
    "\n",
    "PLS did not give so good results as expected from this academic paper\n",
    "\n",
    "https://www.sciencedirect.com/science/article/abs/pii/S0016706119302368\n",
    "\n",
    "Possibly the procedure can be optimized."
   ]
  },
  {
   "cell_type": "markdown",
   "metadata": {},
   "source": [
    "### 4.1 FTIR spectra baseline correction by differentiation"
   ]
  },
  {
   "cell_type": "code",
   "execution_count": 41,
   "metadata": {},
   "outputs": [
    {
     "name": "stdout",
     "output_type": "stream",
     "text": [
      "(467, 2542)\n"
     ]
    },
    {
     "data": {
      "image/png": "[encoded data removed]",
      "text/plain": [
       "<Figure size 576x324 with 1 Axes>"
      ]
     },
     "metadata": {
      "needs_background": "light"
     },
     "output_type": "display_data"
    }
   ],
   "source": [
    "# Calculate second derivative. That should average baselines\n",
    "X2 = savgol_filter(X, 17, polyorder = 2,deriv=2)\n",
    "print(X2.shape)\n",
    "# Plot second derivative\n",
    "plt.figure(figsize=(8,4.5))\n",
    "with plt.style.context(('ggplot')):\n",
    "    plt.plot(wavelenghts, X2.T)\n",
    "    plt.xlabel('Wavelength (nm)')\n",
    "    plt.ylabel('D2 Absorbance')\n",
    "    plt.show()"
   ]
  },
  {
   "cell_type": "code",
   "execution_count": 42,
   "metadata": {},
   "outputs": [
    {
     "name": "stdout",
     "output_type": "stream",
     "text": [
      "PLS R² after spectra differentiation: -1.759 vs. -0.2852857898274508 for primitive wave functions\n",
      "PLS MSE after spectra differentiation: 3.271 vs. 1.523683335684466 for primitive wave functions\n"
     ]
    }
   ],
   "source": [
    "y2 = df_composition[target_feature].values\n",
    "X3_train, X3_test, y3_train, y3_test = train_test_split(X2, y2, test_size = 0.2, random_state = 42)\n",
    "\n",
    "pls = PLSRegression(n_components=10)\n",
    "model_pls = pls.fit(X3_train, y3_train)\n",
    "\n",
    "y3_c = model_pls.predict(X3_test)\n",
    "\n",
    "\n",
    "# Calculate scores for calibration and cross-validation\n",
    "score3_c = r2_score(y3_test, y3_c)\n",
    "\n",
    "\n",
    "\n",
    "# Calculate mean squared error for calibration and cross validation\n",
    "mse3_c = mean_squared_error(y3_test, y3_c)\n",
    "\n",
    "print('PLS R² after spectra differentiation: %5.3f'  % score3_c,'vs.',score_c,'for primitive wave functions')\n",
    "\n",
    "print('PLS MSE after spectra differentiation: %5.3f' % mse3_c,'vs.',mse_c,'for primitive wave functions')"
   ]
  },
  {
   "cell_type": "code",
   "execution_count": 43,
   "metadata": {},
   "outputs": [
    {
     "data": {
      "text/plain": [
       "Text(0.5, 1.0, 'PLS regression for FTIR derivative function')"
      ]
     },
     "execution_count": 43,
     "metadata": {},
     "output_type": "execute_result"
    },
    {
     "data": {
      "image/png": "[encoded data removed]",
      "text/plain": [
       "<Figure size 432x288 with 1 Axes>"
      ]
     },
     "metadata": {
      "needs_background": "light"
     },
     "output_type": "display_data"
    }
   ],
   "source": [
    "plt.scatter(y3_test, y3_c, label = target_feature)\n",
    "plt.legend()\n",
    "plt.xlabel('actual values')\n",
    "plt.ylabel('predicted values')\n",
    "plt.title('PLS regression for FTIR derivative function')"
   ]
  },
  {
   "cell_type": "markdown",
   "metadata": {},
   "source": [
    "### 4.2 FTIR spectra reduction\n",
    "\n",
    "I select only the regions containing the peaks corresponding to C=O and C=C bonds and filter away the rest of the spectrum containing either a flat or a noisy curve"
   ]
  },
  {
   "cell_type": "code",
   "execution_count": 100,
   "metadata": {},
   "outputs": [
    {
     "name": "stdout",
     "output_type": "stream",
     "text": [
      "(467, 2543)\n",
      "(2542, 468)\n"
     ]
    },
    {
     "data": {
      "text/html": [
       "<div>\n",
       "<style scoped>\n",
       "    .dataframe tbody tr th:only-of-type {\n",
       "        vertical-align: middle;\n",
       "    }\n",
       "\n",
       "    .dataframe tbody tr th {\n",
       "        vertical-align: top;\n",
       "    }\n",
       "\n",
       "    .dataframe thead th {\n",
       "        text-align: right;\n",
       "    }\n",
       "</style>\n",
       "<table border=\"1\" class=\"dataframe\">\n",
       "  <thead>\n",
       "    <tr style=\"text-align: right;\">\n",
       "      <th>SSN</th>\n",
       "      <th>labda</th>\n",
       "      <th>icr033603</th>\n",
       "      <th>icr074337</th>\n",
       "      <th>icr048665</th>\n",
       "      <th>icr015592</th>\n",
       "      <th>icr074691</th>\n",
       "      <th>icr074413</th>\n",
       "      <th>icr048642</th>\n",
       "      <th>icr006510</th>\n",
       "      <th>icr049735</th>\n",
       "      <th>...</th>\n",
       "      <th>icr075529</th>\n",
       "      <th>icr073208</th>\n",
       "      <th>icr055982</th>\n",
       "      <th>icr070263</th>\n",
       "      <th>icr021023</th>\n",
       "      <th>icr075757</th>\n",
       "      <th>icr041916</th>\n",
       "      <th>icr074470</th>\n",
       "      <th>icr041699</th>\n",
       "      <th>icr037699</th>\n",
       "    </tr>\n",
       "  </thead>\n",
       "  <tbody>\n",
       "    <tr>\n",
       "      <th>0</th>\n",
       "      <td>3998</td>\n",
       "      <td>0.908592</td>\n",
       "      <td>1.065667</td>\n",
       "      <td>0.841665</td>\n",
       "      <td>0.763867</td>\n",
       "      <td>0.667032</td>\n",
       "      <td>0.999511</td>\n",
       "      <td>0.908099</td>\n",
       "      <td>0.814602</td>\n",
       "      <td>0.857259</td>\n",
       "      <td>...</td>\n",
       "      <td>0.778946</td>\n",
       "      <td>0.823722</td>\n",
       "      <td>0.808334</td>\n",
       "      <td>0.789542</td>\n",
       "      <td>0.726638</td>\n",
       "      <td>0.802907</td>\n",
       "      <td>0.898819</td>\n",
       "      <td>0.792397</td>\n",
       "      <td>0.819836</td>\n",
       "      <td>0.792272</td>\n",
       "    </tr>\n",
       "    <tr>\n",
       "      <th>1</th>\n",
       "      <td>3997</td>\n",
       "      <td>0.908981</td>\n",
       "      <td>1.066403</td>\n",
       "      <td>0.842381</td>\n",
       "      <td>0.763912</td>\n",
       "      <td>0.667626</td>\n",
       "      <td>1.002429</td>\n",
       "      <td>0.909043</td>\n",
       "      <td>0.815387</td>\n",
       "      <td>0.857547</td>\n",
       "      <td>...</td>\n",
       "      <td>0.779014</td>\n",
       "      <td>0.824720</td>\n",
       "      <td>0.808043</td>\n",
       "      <td>0.789980</td>\n",
       "      <td>0.727226</td>\n",
       "      <td>0.803286</td>\n",
       "      <td>0.899391</td>\n",
       "      <td>0.793097</td>\n",
       "      <td>0.820663</td>\n",
       "      <td>0.793356</td>\n",
       "    </tr>\n",
       "    <tr>\n",
       "      <th>2</th>\n",
       "      <td>3996</td>\n",
       "      <td>0.909435</td>\n",
       "      <td>1.067118</td>\n",
       "      <td>0.842883</td>\n",
       "      <td>0.764111</td>\n",
       "      <td>0.668246</td>\n",
       "      <td>1.004935</td>\n",
       "      <td>0.910022</td>\n",
       "      <td>0.816195</td>\n",
       "      <td>0.857735</td>\n",
       "      <td>...</td>\n",
       "      <td>0.779148</td>\n",
       "      <td>0.825583</td>\n",
       "      <td>0.807701</td>\n",
       "      <td>0.790511</td>\n",
       "      <td>0.727759</td>\n",
       "      <td>0.803656</td>\n",
       "      <td>0.900354</td>\n",
       "      <td>0.793904</td>\n",
       "      <td>0.821373</td>\n",
       "      <td>0.794496</td>\n",
       "    </tr>\n",
       "    <tr>\n",
       "      <th>3</th>\n",
       "      <td>3994</td>\n",
       "      <td>0.909956</td>\n",
       "      <td>1.067661</td>\n",
       "      <td>0.843214</td>\n",
       "      <td>0.764360</td>\n",
       "      <td>0.668855</td>\n",
       "      <td>1.006428</td>\n",
       "      <td>0.911050</td>\n",
       "      <td>0.816989</td>\n",
       "      <td>0.857855</td>\n",
       "      <td>...</td>\n",
       "      <td>0.779399</td>\n",
       "      <td>0.826253</td>\n",
       "      <td>0.807525</td>\n",
       "      <td>0.791108</td>\n",
       "      <td>0.728201</td>\n",
       "      <td>0.804023</td>\n",
       "      <td>0.901748</td>\n",
       "      <td>0.794826</td>\n",
       "      <td>0.821845</td>\n",
       "      <td>0.795609</td>\n",
       "    </tr>\n",
       "    <tr>\n",
       "      <th>4</th>\n",
       "      <td>3993</td>\n",
       "      <td>0.910562</td>\n",
       "      <td>1.067915</td>\n",
       "      <td>0.843479</td>\n",
       "      <td>0.764543</td>\n",
       "      <td>0.669406</td>\n",
       "      <td>1.006630</td>\n",
       "      <td>0.912146</td>\n",
       "      <td>0.817741</td>\n",
       "      <td>0.857935</td>\n",
       "      <td>...</td>\n",
       "      <td>0.779775</td>\n",
       "      <td>0.826709</td>\n",
       "      <td>0.807697</td>\n",
       "      <td>0.791700</td>\n",
       "      <td>0.728530</td>\n",
       "      <td>0.804414</td>\n",
       "      <td>0.903499</td>\n",
       "      <td>0.795807</td>\n",
       "      <td>0.822042</td>\n",
       "      <td>0.796670</td>\n",
       "    </tr>\n",
       "  </tbody>\n",
       "</table>\n",
       "<p>5 rows × 468 columns</p>\n",
       "</div>"
      ],
      "text/plain": [
       "SSN labda  icr033603  icr074337  icr048665  icr015592  icr074691  icr074413  \\\n",
       "0    3998   0.908592   1.065667   0.841665   0.763867   0.667032   0.999511   \n",
       "1    3997   0.908981   1.066403   0.842381   0.763912   0.667626   1.002429   \n",
       "2    3996   0.909435   1.067118   0.842883   0.764111   0.668246   1.004935   \n",
       "3    3994   0.909956   1.067661   0.843214   0.764360   0.668855   1.006428   \n",
       "4    3993   0.910562   1.067915   0.843479   0.764543   0.669406   1.006630   \n",
       "\n",
       "SSN  icr048642  icr006510  icr049735  ...  icr075529  icr073208  icr055982  \\\n",
       "0     0.908099   0.814602   0.857259  ...   0.778946   0.823722   0.808334   \n",
       "1     0.909043   0.815387   0.857547  ...   0.779014   0.824720   0.808043   \n",
       "2     0.910022   0.816195   0.857735  ...   0.779148   0.825583   0.807701   \n",
       "3     0.911050   0.816989   0.857855  ...   0.779399   0.826253   0.807525   \n",
       "4     0.912146   0.817741   0.857935  ...   0.779775   0.826709   0.807697   \n",
       "\n",
       "SSN  icr070263  icr021023  icr075757  icr041916  icr074470  icr041699  \\\n",
       "0     0.789542   0.726638   0.802907   0.898819   0.792397   0.819836   \n",
       "1     0.789980   0.727226   0.803286   0.899391   0.793097   0.820663   \n",
       "2     0.790511   0.727759   0.803656   0.900354   0.793904   0.821373   \n",
       "3     0.791108   0.728201   0.804023   0.901748   0.794826   0.821845   \n",
       "4     0.791700   0.728530   0.804414   0.903499   0.795807   0.822042   \n",
       "\n",
       "SSN  icr037699  \n",
       "0     0.792272  \n",
       "1     0.793356  \n",
       "2     0.794496  \n",
       "3     0.795609  \n",
       "4     0.796670  \n",
       "\n",
       "[5 rows x 468 columns]"
      ]
     },
     "execution_count": 100,
     "metadata": {},
     "output_type": "execute_result"
    }
   ],
   "source": [
    "print(df_FTIR.shape)\n",
    "df_FTIR_reindex = df_FTIR.set_index('SSN')\n",
    "FTIR_spectra = df_FTIR_reindex.T.reset_index()\n",
    "FTIR_spectra = FTIR_spectra.rename(columns={'index': 'labda'})\n",
    "\n",
    "print(FTIR_spectra.shape)\n",
    "FTIR_spectra.head()"
   ]
  },
  {
   "cell_type": "code",
   "execution_count": 101,
   "metadata": {},
   "outputs": [],
   "source": [
    "FTIR_spectra = pd.read_csv('MIR_spectra_transposed.csv')"
   ]
  },
  {
   "cell_type": "code",
   "execution_count": 102,
   "metadata": {},
   "outputs": [
    {
     "name": "stdout",
     "output_type": "stream",
     "text": [
      "2542\n"
     ]
    }
   ],
   "source": [
    "print(len(FTIR_spectra.labda))"
   ]
  },
  {
   "cell_type": "code",
   "execution_count": 109,
   "metadata": {},
   "outputs": [
    {
     "name": "stdout",
     "output_type": "stream",
     "text": [
      "FTIR spectrum example\n"
     ]
    },
    {
     "data": {
      "text/plain": [
       "Text(0.5, 0, 'Wavelengths (cm-1)')"
      ]
     },
     "execution_count": 109,
     "metadata": {},
     "output_type": "execute_result"
    },
    {
     "data": {
      "image/png": "[encoded data removed]",
      "text/plain": [
       "<Figure size 432x432 with 1 Axes>"
      ]
     },
     "metadata": {
      "needs_background": "light"
     },
     "output_type": "display_data"
    }
   ],
   "source": [
    "wavelenght_lower_limit = 1100\n",
    "wavelenght_upper_limit = 1800\n",
    "print('FTIR spectrum example')\n",
    "plt.figure(figsize= (6,6))\n",
    "\n",
    " \n",
    "plt.plot(FTIR_spectra['labda'],FTIR_spectra['icr033603'])\n",
    "plt.plot(FTIR_spectra['labda'],FTIR_spectra['icr048642'])\n",
    "plt.axvline(x=1800 , ymin=0, ymax=1, color='r', linewidth = 1)\n",
    "plt.axvline(x=1100, ymin=0, ymax=1, color='r', linewidth = 1)\n",
    "plt.text(3000, 2.25, 'range selected \\n for wavelenghts between \\n red lines')\n",
    "plt.xticks(rotation=90)\n",
    "plt.xlim(4000,400)\n",
    "plt.ylabel('Absorbance (A.U.)', fontsize=14)\n",
    "plt.xlabel('Wavelengths (cm-1)', fontsize = 14)"
   ]
  },
  {
   "cell_type": "code",
   "execution_count": 111,
   "metadata": {},
   "outputs": [
    {
     "data": {
      "text/plain": [
       "Text(0.5, 0, 'Wavelengths (cm-1)')"
      ]
     },
     "execution_count": 111,
     "metadata": {},
     "output_type": "execute_result"
    },
    {
     "data": {
      "image/png": "[encoded data removed]",
      "text/plain": [
       "<Figure size 432x288 with 1 Axes>"
      ]
     },
     "metadata": {
      "needs_background": "light"
     },
     "output_type": "display_data"
    }
   ],
   "source": [
    "df_MIR_FTIRspectra =  FTIR_spectra[FTIR_spectra['labda'] > wavelenght_lower_limit]  \n",
    "df_MIR_FTIRspectra = df_MIR_FTIRspectra[df_MIR_FTIRspectra['labda'] < wavelenght_upper_limit] \n",
    "\n",
    "plt.plot(df_MIR_FTIRspectra['labda'],df_MIR_FTIRspectra['icr042897']) \n",
    "plt.xlim( wavelenght_upper_limit+100,wavelenght_lower_limit-100)\n",
    "plt.title('Reduced MIR spectrum', fontsize=16)\n",
    "plt.ylabel('Absorbance (A.U.)', fontsize=14)\n",
    "plt.xlabel('Wavelengths (cm-1)', fontsize = 14)"
   ]
  },
  {
   "cell_type": "code",
   "execution_count": 112,
   "metadata": {},
   "outputs": [],
   "source": [
    "df_FTIR_reindexed = df_MIR_FTIRspectra.set_index('labda')\n",
    "mid_infrared_df = df_FTIR_reindexed.T.reset_index()\n",
    "mid_infrared_df = mid_infrared_df.rename(columns={'index': 'SSN'})"
   ]
  },
  {
   "cell_type": "code",
   "execution_count": 113,
   "metadata": {},
   "outputs": [
    {
     "name": "stdout",
     "output_type": "stream",
     "text": [
      "before selection (1888, 495)\n",
      "after selection (467, 495)\n"
     ]
    }
   ],
   "source": [
    "sampleslist = df_composition['SSN'].tolist()\n",
    "print('before selection',mid_infrared_df.shape)\n",
    "mid_infrared_df = mid_infrared_df[mid_infrared_df['SSN'].isin(sampleslist)]\n",
    "print('after selection',mid_infrared_df.shape)\n",
    "mid_infrared_df = mid_infrared_df.drop(['SSN'], axis = 1)"
   ]
  },
  {
   "cell_type": "code",
   "execution_count": 114,
   "metadata": {},
   "outputs": [
    {
     "name": "stdout",
     "output_type": "stream",
     "text": [
      "(467, 494) (467,)\n"
     ]
    }
   ],
   "source": [
    "X4 = mid_infrared_df.values\n",
    "y4 = df_composition[target_feature].values\n",
    "\n",
    "print(X4.shape, y4.shape)"
   ]
  },
  {
   "cell_type": "code",
   "execution_count": 115,
   "metadata": {},
   "outputs": [
    {
     "name": "stdout",
     "output_type": "stream",
     "text": [
      "PLS R² after spectra reduction: -0.321 vs. -0.2852857898274508 for full spectra\n",
      "PLS MSE after spectra reduction: 1.567 vs. 1.523683335684466 for full spectra\n"
     ]
    }
   ],
   "source": [
    "X4_train, X4_test, y4_train, y4_test = train_test_split(X4, y4, test_size = 0.2, random_state = 42)\n",
    "\n",
    "pls = PLSRegression(n_components=10)\n",
    "model_pls = pls.fit(X4_train, y4_train)\n",
    "\n",
    "y4_c = model_pls.predict(X4_test)\n",
    "\n",
    "\n",
    "# Calculate scores for calibration and cross-validation\n",
    "score4_c = r2_score(y4_test, y4_c)\n",
    "\n",
    "\n",
    "\n",
    "# Calculate mean squared error for calibration and cross validation\n",
    "mse4_c = mean_squared_error(y4_test, y4_c)\n",
    "\n",
    "print('PLS R² after spectra reduction: %5.3f'  % score4_c,'vs.',score_c,'for full spectra')\n",
    "\n",
    "print('PLS MSE after spectra reduction: %5.3f' % mse4_c,'vs.',mse_c,'for full spectra')"
   ]
  },
  {
   "cell_type": "code",
   "execution_count": null,
   "metadata": {},
   "outputs": [],
   "source": []
  }
 ],
 "metadata": {
  "kernelspec": {
   "display_name": "Python 3",
   "language": "python",
   "name": "python3"
  },
  "language_info": {
   "codemirror_mode": {
    "name": "ipython",
    "version": 3
   },
   "file_extension": ".py",
   "mimetype": "text/x-python",
   "name": "python",
   "nbconvert_exporter": "python",
   "pygments_lexer": "ipython3",
   "version": "3.8.3"
  }
 },
 "nbformat": 4,
 "nbformat_minor": 4
}

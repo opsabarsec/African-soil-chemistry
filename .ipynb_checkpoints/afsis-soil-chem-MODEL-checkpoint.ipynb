{
 "cells": [
  {
   "cell_type": "markdown",
   "metadata": {
    "toc": "true"
   },
   "source": [
    "# AfSIS Soil Chemistry Dataset - Modelling¶\n",
    "\n"
   ]
  },
  {
   "cell_type": "markdown",
   "metadata": {},
   "source": [
    "## 1. Load libraries and data"
   ]
  },
  {
   "cell_type": "code",
   "execution_count": 1,
   "metadata": {},
   "outputs": [],
   "source": [
    "#!pip install xgboost"
   ]
  },
  {
   "cell_type": "code",
   "execution_count": 210,
   "metadata": {},
   "outputs": [],
   "source": [
    "import pandas as pd\n",
    "from sys import stdout\n",
    "#from sklearn.cross_validation import cross_val_score\n",
    "from sklearn.linear_model import LinearRegression\n",
    "from sklearn.ensemble import  RandomForestRegressor, AdaBoostRegressor\n",
    "from sklearn.ensemble import GradientBoostingRegressor\n",
    "\n",
    "\n",
    "import re\n",
    "from sklearn.feature_extraction.text import TfidfVectorizer\n",
    "from sklearn.linear_model.ridge import Ridge\n",
    "from sklearn.linear_model import LogisticRegression, Lasso\n",
    "from sklearn.metrics import classification_report, confusion_matrix\n",
    "from sklearn.ensemble import RandomForestRegressor\n",
    "import xgboost \n",
    "from xgboost import XGBRegressor\n",
    "\n",
    "from sklearn.datasets import make_regression\n",
    "from sklearn import svm\n",
    "import numpy as np\n",
    "import time\n",
    "import statsmodels as sm\n",
    "import seaborn as sns\n",
    "import matplotlib.pyplot as plt\n",
    "from sklearn.preprocessing import OneHotEncoder\n",
    "from sklearn.preprocessing import LabelEncoder\n",
    "from sklearn.preprocessing import LabelBinarizer\n",
    "from sklearn.preprocessing import StandardScaler\n",
    "from sklearn.preprocessing import MinMaxScaler\n",
    "from sklearn.model_selection import train_test_split\n",
    "from IPython.display import Image\n",
    "\n",
    "from sklearn.decomposition import PCA\n",
    "from scipy.signal import savgol_filter\n",
    "\n",
    "from sklearn.cross_decomposition import PLSRegression\n",
    "from sklearn.cross_decomposition import PLSCanonical\n",
    "from sklearn.cross_decomposition import PLSSVD\n",
    "\n",
    "\n",
    "from sklearn.model_selection import cross_val_predict\n",
    "from sklearn.model_selection import cross_val_score\n",
    "from sklearn.metrics import mean_squared_error, r2_score\n",
    "from sklearn.model_selection import cross_validate\n",
    "from sklearn.model_selection import KFold\n",
    "from sklearn.neighbors import KNeighborsRegressor\n",
    "from sklearn.model_selection import GridSearchCV"
   ]
  },
  {
   "cell_type": "code",
   "execution_count": 6,
   "metadata": {},
   "outputs": [
    {
     "data": {
      "text/html": [
       "<div>\n",
       "<style scoped>\n",
       "    .dataframe tbody tr th:only-of-type {\n",
       "        vertical-align: middle;\n",
       "    }\n",
       "\n",
       "    .dataframe tbody tr th {\n",
       "        vertical-align: top;\n",
       "    }\n",
       "\n",
       "    .dataframe thead th {\n",
       "        text-align: right;\n",
       "    }\n",
       "</style>\n",
       "<table border=\"1\" class=\"dataframe\">\n",
       "  <thead>\n",
       "    <tr style=\"text-align: right;\">\n",
       "      <th></th>\n",
       "      <th>SSN</th>\n",
       "      <th>M3 Ca</th>\n",
       "      <th>M3 K</th>\n",
       "      <th>M3 Al</th>\n",
       "      <th>M3 P</th>\n",
       "      <th>M3 S</th>\n",
       "      <th>PH</th>\n",
       "      <th>Psa asand</th>\n",
       "      <th>Psa asilt</th>\n",
       "      <th>Psa aclay</th>\n",
       "      <th>...</th>\n",
       "      <th>Zn</th>\n",
       "      <th>Fe</th>\n",
       "      <th>Mn</th>\n",
       "      <th>Mo</th>\n",
       "      <th>Latitude</th>\n",
       "      <th>Longitude</th>\n",
       "      <th>Cluster</th>\n",
       "      <th>Depth</th>\n",
       "      <th>Country</th>\n",
       "      <th>Cultivated</th>\n",
       "    </tr>\n",
       "  </thead>\n",
       "  <tbody>\n",
       "    <tr>\n",
       "      <th>0</th>\n",
       "      <td>icr006475</td>\n",
       "      <td>207.1</td>\n",
       "      <td>306.30</td>\n",
       "      <td>1095.000</td>\n",
       "      <td>4.495</td>\n",
       "      <td>18.960</td>\n",
       "      <td>4.682</td>\n",
       "      <td>97.848667</td>\n",
       "      <td>1.845333</td>\n",
       "      <td>0.306000</td>\n",
       "      <td>...</td>\n",
       "      <td>22.0</td>\n",
       "      <td>12501.3</td>\n",
       "      <td>81.9</td>\n",
       "      <td>184.5</td>\n",
       "      <td>-6.088750</td>\n",
       "      <td>36.435982</td>\n",
       "      <td>2</td>\n",
       "      <td>sub</td>\n",
       "      <td>Tanzania</td>\n",
       "      <td>False</td>\n",
       "    </tr>\n",
       "    <tr>\n",
       "      <th>1</th>\n",
       "      <td>icr006586</td>\n",
       "      <td>1665.0</td>\n",
       "      <td>1186.00</td>\n",
       "      <td>1165.000</td>\n",
       "      <td>12.510</td>\n",
       "      <td>13.600</td>\n",
       "      <td>7.062</td>\n",
       "      <td>89.520000</td>\n",
       "      <td>9.553667</td>\n",
       "      <td>0.926333</td>\n",
       "      <td>...</td>\n",
       "      <td>38.5</td>\n",
       "      <td>24094.6</td>\n",
       "      <td>422.4</td>\n",
       "      <td>184.5</td>\n",
       "      <td>-6.055750</td>\n",
       "      <td>36.457722</td>\n",
       "      <td>8</td>\n",
       "      <td>top</td>\n",
       "      <td>Tanzania</td>\n",
       "      <td>False</td>\n",
       "    </tr>\n",
       "    <tr>\n",
       "      <th>2</th>\n",
       "      <td>icr021104</td>\n",
       "      <td>258.7</td>\n",
       "      <td>35.25</td>\n",
       "      <td>441.400</td>\n",
       "      <td>4.424</td>\n",
       "      <td>3.608</td>\n",
       "      <td>5.522</td>\n",
       "      <td>89.950000</td>\n",
       "      <td>5.205000</td>\n",
       "      <td>4.845000</td>\n",
       "      <td>...</td>\n",
       "      <td>2.3</td>\n",
       "      <td>2213.4</td>\n",
       "      <td>13.2</td>\n",
       "      <td>184.5</td>\n",
       "      <td>-8.049305</td>\n",
       "      <td>37.333698</td>\n",
       "      <td>14</td>\n",
       "      <td>sub</td>\n",
       "      <td>Tanzania</td>\n",
       "      <td>False</td>\n",
       "    </tr>\n",
       "    <tr>\n",
       "      <th>3</th>\n",
       "      <td>icr033622</td>\n",
       "      <td>11858.3</td>\n",
       "      <td>1156.00</td>\n",
       "      <td>108.286</td>\n",
       "      <td>31.233</td>\n",
       "      <td>25.460</td>\n",
       "      <td>8.583</td>\n",
       "      <td>91.445000</td>\n",
       "      <td>6.310000</td>\n",
       "      <td>2.245000</td>\n",
       "      <td>...</td>\n",
       "      <td>29.8</td>\n",
       "      <td>24135.0</td>\n",
       "      <td>460.4</td>\n",
       "      <td>184.5</td>\n",
       "      <td>4.178087</td>\n",
       "      <td>38.261890</td>\n",
       "      <td>2</td>\n",
       "      <td>sub</td>\n",
       "      <td>Ethiopia</td>\n",
       "      <td>unknown</td>\n",
       "    </tr>\n",
       "    <tr>\n",
       "      <th>4</th>\n",
       "      <td>icr006570</td>\n",
       "      <td>896.2</td>\n",
       "      <td>607.30</td>\n",
       "      <td>1151.000</td>\n",
       "      <td>5.986</td>\n",
       "      <td>20.080</td>\n",
       "      <td>6.661</td>\n",
       "      <td>97.789667</td>\n",
       "      <td>1.885000</td>\n",
       "      <td>0.325667</td>\n",
       "      <td>...</td>\n",
       "      <td>13.4</td>\n",
       "      <td>9135.1</td>\n",
       "      <td>132.6</td>\n",
       "      <td>184.5</td>\n",
       "      <td>-6.069970</td>\n",
       "      <td>36.464588</td>\n",
       "      <td>7</td>\n",
       "      <td>top</td>\n",
       "      <td>Tanzania</td>\n",
       "      <td>False</td>\n",
       "    </tr>\n",
       "  </tbody>\n",
       "</table>\n",
       "<p>5 rows × 37 columns</p>\n",
       "</div>"
      ],
      "text/plain": [
       "         SSN    M3 Ca     M3 K     M3 Al    M3 P    M3 S     PH  Psa asand  \\\n",
       "0  icr006475    207.1   306.30  1095.000   4.495  18.960  4.682  97.848667   \n",
       "1  icr006586   1665.0  1186.00  1165.000  12.510  13.600  7.062  89.520000   \n",
       "2  icr021104    258.7    35.25   441.400   4.424   3.608  5.522  89.950000   \n",
       "3  icr033622  11858.3  1156.00   108.286  31.233  25.460  8.583  91.445000   \n",
       "4  icr006570    896.2   607.30  1151.000   5.986  20.080  6.661  97.789667   \n",
       "\n",
       "   Psa asilt  Psa aclay  ...    Zn       Fe     Mn     Mo  Latitude  \\\n",
       "0   1.845333   0.306000  ...  22.0  12501.3   81.9  184.5 -6.088750   \n",
       "1   9.553667   0.926333  ...  38.5  24094.6  422.4  184.5 -6.055750   \n",
       "2   5.205000   4.845000  ...   2.3   2213.4   13.2  184.5 -8.049305   \n",
       "3   6.310000   2.245000  ...  29.8  24135.0  460.4  184.5  4.178087   \n",
       "4   1.885000   0.325667  ...  13.4   9135.1  132.6  184.5 -6.069970   \n",
       "\n",
       "   Longitude  Cluster  Depth   Country  Cultivated  \n",
       "0  36.435982        2    sub  Tanzania       False  \n",
       "1  36.457722        8    top  Tanzania       False  \n",
       "2  37.333698       14    sub  Tanzania       False  \n",
       "3  38.261890        2    sub  Ethiopia     unknown  \n",
       "4  36.464588        7    top  Tanzania       False  \n",
       "\n",
       "[5 rows x 37 columns]"
      ]
     },
     "execution_count": 6,
     "metadata": {},
     "output_type": "execute_result"
    }
   ],
   "source": [
    "df_composition = pd.read_csv('elemental_analysis_dataset.csv')\n",
    "#df_composition = df_composition.rename(columns={\"P\": \"%P\", \"K\": \"%K\",\"Ca\": \"%Ca\", \"Cu\": \"%Cu\", \"Fe\": \"%Fe\", \"Mo\": \"%Mo\",\"Mg\": \"%Mg\",\"S\": \"%S\",\"Mn\": \"%Mn\",\"Zn\": \"%Zn\" , \"Cl\": \"%Cl\",})\n",
    "df_composition.head()"
   ]
  },
  {
   "cell_type": "code",
   "execution_count": 7,
   "metadata": {},
   "outputs": [
    {
     "name": "stdout",
     "output_type": "stream",
     "text": [
      "Index(['SSN', 'M3 Ca', 'M3 K', 'M3 Al', 'M3 P', 'M3 S', 'PH', 'Psa asand',\n",
      "       'Psa asilt', 'Psa aclay', 'Volfr', 'Awc1', 'Lshrinkpct',\n",
      "       'Flash2000_N_ppm', 'Acidified carbon', 'pH', 'Leco_N_ppm', 'C % Org',\n",
      "       'ICP OES K mg/kg ', 'ICP OES P mg/kg ', 'P', 'K', 'S', 'Ca', 'Mg', 'Cu',\n",
      "       'Cl', 'Zn', 'Fe', 'Mn', 'Mo', 'Latitude', 'Longitude', 'Cluster',\n",
      "       'Depth', 'Country', 'Cultivated'],\n",
      "      dtype='object')\n"
     ]
    }
   ],
   "source": [
    "print(df_composition.columns)"
   ]
  },
  {
   "cell_type": "markdown",
   "metadata": {},
   "source": [
    "## 2. Elemental analysis and soil fertility"
   ]
  },
  {
   "cell_type": "markdown",
   "metadata": {},
   "source": [
    "### 2.1 Soil chemistry variables correlation"
   ]
  },
  {
   "cell_type": "code",
   "execution_count": 4,
   "metadata": {},
   "outputs": [
    {
     "data": {
      "text/plain": [
       "<matplotlib.axes._subplots.AxesSubplot at 0x7f754755c6a0>"
      ]
     },
     "execution_count": 4,
     "metadata": {},
     "output_type": "execute_result"
    },
    {
     "data": {
      "image/png": "[encoded data removed]",
      "text/plain": [
       "<Figure size 792x648 with 2 Axes>"
      ]
     },
     "metadata": {
      "needs_background": "light"
     },
     "output_type": "display_data"
    }
   ],
   "source": [
    "# Compute the correlation matrix\n",
    "corr = df_composition.corr()\n",
    "\n",
    "# Generate a mask for the upper triangle\n",
    "mask = np.triu(np.ones_like(corr, dtype=bool))\n",
    "\n",
    "# Set up the matplotlib figure\n",
    "f, ax = plt.subplots(figsize=(11, 9))\n",
    "\n",
    "# Generate a custom diverging colormap\n",
    "cmap = sns.diverging_palette(230, 20, as_cmap=True)\n",
    "\n",
    "# Draw the heatmap with the mask and correct aspect ratio\n",
    "sns.heatmap(corr, mask=mask, cmap=cmap, vmax=.3, center=0,\n",
    "            square=True, linewidths=.5, cbar_kws={\"shrink\": .5})"
   ]
  },
  {
   "cell_type": "markdown",
   "metadata": {},
   "source": [
    "The figures show poor correlation. Surprising that this is true comparing the same element concentration estimated using ICP Optical Emission Spectrometry (ICP-OES-K) and X-rays fluorescence (K)"
   ]
  },
  {
   "cell_type": "markdown",
   "metadata": {},
   "source": [
    "### 2.2 Composition - fertility correlation"
   ]
  },
  {
   "cell_type": "markdown",
   "metadata": {},
   "source": [
    "#### 2.2.1 Features selection"
   ]
  },
  {
   "cell_type": "code",
   "execution_count": 189,
   "metadata": {},
   "outputs": [
    {
     "name": "stdout",
     "output_type": "stream",
     "text": [
      "AWC1 is a meaurement of water content\n",
      "Flash2000_N_ppm is a measurement of nitrogen concentration expressed in ppm\n",
      "acidified carbon is a measurement of % organic matter into the soil\n",
      "\n"
     ]
    },
    {
     "data": {
      "text/html": [
       "<div>\n",
       "<style scoped>\n",
       "    .dataframe tbody tr th:only-of-type {\n",
       "        vertical-align: middle;\n",
       "    }\n",
       "\n",
       "    .dataframe tbody tr th {\n",
       "        vertical-align: top;\n",
       "    }\n",
       "\n",
       "    .dataframe thead th {\n",
       "        text-align: right;\n",
       "    }\n",
       "</style>\n",
       "<table border=\"1\" class=\"dataframe\">\n",
       "  <thead>\n",
       "    <tr style=\"text-align: right;\">\n",
       "      <th></th>\n",
       "      <th>pH</th>\n",
       "      <th>Acidified carbon</th>\n",
       "      <th>Flash2000_N_ppm</th>\n",
       "      <th>Awc1</th>\n",
       "      <th>P</th>\n",
       "      <th>K</th>\n",
       "      <th>S</th>\n",
       "      <th>Ca</th>\n",
       "      <th>Mg</th>\n",
       "      <th>Cu</th>\n",
       "      <th>Cl</th>\n",
       "      <th>Zn</th>\n",
       "      <th>Fe</th>\n",
       "      <th>Mn</th>\n",
       "      <th>Mo</th>\n",
       "      <th>Depth</th>\n",
       "      <th>Cultivated</th>\n",
       "    </tr>\n",
       "  </thead>\n",
       "  <tbody>\n",
       "    <tr>\n",
       "      <th>0</th>\n",
       "      <td>4.57</td>\n",
       "      <td>0.429813</td>\n",
       "      <td>392.82719</td>\n",
       "      <td>0.034962</td>\n",
       "      <td>50.6</td>\n",
       "      <td>12991.3</td>\n",
       "      <td>45.7</td>\n",
       "      <td>944.1</td>\n",
       "      <td>5575.0</td>\n",
       "      <td>13.0</td>\n",
       "      <td>210.2</td>\n",
       "      <td>22.0</td>\n",
       "      <td>12501.3</td>\n",
       "      <td>81.9</td>\n",
       "      <td>184.5</td>\n",
       "      <td>sub</td>\n",
       "      <td>False</td>\n",
       "    </tr>\n",
       "    <tr>\n",
       "      <th>1</th>\n",
       "      <td>7.06</td>\n",
       "      <td>0.912364</td>\n",
       "      <td>859.46908</td>\n",
       "      <td>0.042649</td>\n",
       "      <td>50.6</td>\n",
       "      <td>15173.5</td>\n",
       "      <td>45.7</td>\n",
       "      <td>9301.0</td>\n",
       "      <td>5519.1</td>\n",
       "      <td>18.4</td>\n",
       "      <td>152.6</td>\n",
       "      <td>38.5</td>\n",
       "      <td>24094.6</td>\n",
       "      <td>422.4</td>\n",
       "      <td>184.5</td>\n",
       "      <td>top</td>\n",
       "      <td>False</td>\n",
       "    </tr>\n",
       "    <tr>\n",
       "      <th>2</th>\n",
       "      <td>5.27</td>\n",
       "      <td>0.219614</td>\n",
       "      <td>186.29957</td>\n",
       "      <td>0.091913</td>\n",
       "      <td>50.6</td>\n",
       "      <td>6838.9</td>\n",
       "      <td>45.7</td>\n",
       "      <td>884.3</td>\n",
       "      <td>5575.0</td>\n",
       "      <td>2.8</td>\n",
       "      <td>229.5</td>\n",
       "      <td>2.3</td>\n",
       "      <td>2213.4</td>\n",
       "      <td>13.2</td>\n",
       "      <td>184.5</td>\n",
       "      <td>sub</td>\n",
       "      <td>False</td>\n",
       "    </tr>\n",
       "    <tr>\n",
       "      <th>3</th>\n",
       "      <td>8.50</td>\n",
       "      <td>1.083015</td>\n",
       "      <td>1026.56581</td>\n",
       "      <td>0.159708</td>\n",
       "      <td>431.6</td>\n",
       "      <td>15845.8</td>\n",
       "      <td>45.7</td>\n",
       "      <td>46529.1</td>\n",
       "      <td>33771.2</td>\n",
       "      <td>13.0</td>\n",
       "      <td>58.2</td>\n",
       "      <td>29.8</td>\n",
       "      <td>24135.0</td>\n",
       "      <td>460.4</td>\n",
       "      <td>184.5</td>\n",
       "      <td>sub</td>\n",
       "      <td>unknown</td>\n",
       "    </tr>\n",
       "    <tr>\n",
       "      <th>4</th>\n",
       "      <td>6.50</td>\n",
       "      <td>0.527140</td>\n",
       "      <td>377.73812</td>\n",
       "      <td>0.033089</td>\n",
       "      <td>50.6</td>\n",
       "      <td>12201.6</td>\n",
       "      <td>45.7</td>\n",
       "      <td>1790.1</td>\n",
       "      <td>5575.0</td>\n",
       "      <td>7.7</td>\n",
       "      <td>122.5</td>\n",
       "      <td>13.4</td>\n",
       "      <td>9135.1</td>\n",
       "      <td>132.6</td>\n",
       "      <td>184.5</td>\n",
       "      <td>top</td>\n",
       "      <td>False</td>\n",
       "    </tr>\n",
       "  </tbody>\n",
       "</table>\n",
       "</div>"
      ],
      "text/plain": [
       "     pH  Acidified carbon  Flash2000_N_ppm      Awc1      P        K     S  \\\n",
       "0  4.57          0.429813        392.82719  0.034962   50.6  12991.3  45.7   \n",
       "1  7.06          0.912364        859.46908  0.042649   50.6  15173.5  45.7   \n",
       "2  5.27          0.219614        186.29957  0.091913   50.6   6838.9  45.7   \n",
       "3  8.50          1.083015       1026.56581  0.159708  431.6  15845.8  45.7   \n",
       "4  6.50          0.527140        377.73812  0.033089   50.6  12201.6  45.7   \n",
       "\n",
       "        Ca       Mg    Cu     Cl    Zn       Fe     Mn     Mo Depth Cultivated  \n",
       "0    944.1   5575.0  13.0  210.2  22.0  12501.3   81.9  184.5   sub      False  \n",
       "1   9301.0   5519.1  18.4  152.6  38.5  24094.6  422.4  184.5   top      False  \n",
       "2    884.3   5575.0   2.8  229.5   2.3   2213.4   13.2  184.5   sub      False  \n",
       "3  46529.1  33771.2  13.0   58.2  29.8  24135.0  460.4  184.5   sub    unknown  \n",
       "4   1790.1   5575.0   7.7  122.5  13.4   9135.1  132.6  184.5   top      False  "
      ]
     },
     "execution_count": 189,
     "metadata": {},
     "output_type": "execute_result"
    }
   ],
   "source": [
    "elemental_variables = ['pH','Acidified carbon', 'Flash2000_N_ppm','Awc1','P', 'K', 'S', 'Ca', 'Mg', 'Cu',\n",
    "       'Cl', 'Zn', 'Fe', 'Mn', 'Mo', 'Depth', 'Cultivated']\n",
    "# major and oligoelements are taken into account for the soil composition\n",
    "\n",
    "df_composition_reduced = df_composition[elemental_variables]\n",
    "print(\"AWC1 is a meaurement of water content\")\n",
    "print(\"Flash2000_N_ppm is a measurement of nitrogen concentration expressed in ppm\")\n",
    "print(\"acidified carbon is a measurement of % organic matter into the soil\")\n",
    "print('')\n",
    "df_composition_reduced.head()"
   ]
  },
  {
   "cell_type": "markdown",
   "metadata": {},
   "source": [
    "#### 2.2.2 Categorical features encoding"
   ]
  },
  {
   "cell_type": "code",
   "execution_count": 27,
   "metadata": {},
   "outputs": [],
   "source": [
    "# creating instance of one-hot-encoder\n",
    "enc = OneHotEncoder(sparse=False)# label encoded values of depth\n",
    "enc_df = pd.DataFrame(enc.fit_transform(df_composition_reduced[['Depth']]), columns = ['depth_sub','depth_top'])\n",
    "\n",
    "df_composition_reduced = pd.merge(df_composition_reduced, enc_df, left_index=True, right_index=True)\n",
    "df_composition_reduced = df_composition_reduced.reset_index(drop = True)\n"
   ]
  },
  {
   "cell_type": "code",
   "execution_count": 28,
   "metadata": {},
   "outputs": [
    {
     "name": "stdout",
     "output_type": "stream",
     "text": [
      "['False' 'True']\n"
     ]
    }
   ],
   "source": [
    "df_composition_cultivated  = df_composition_reduced[df_composition_reduced['Cultivated'] != \"unknown\"]  # eliminate unknown values\n",
    "print(df_composition_cultivated['Cultivated'].unique())"
   ]
  },
  {
   "cell_type": "code",
   "execution_count": 29,
   "metadata": {},
   "outputs": [
    {
     "name": "stdout",
     "output_type": "stream",
     "text": [
      "(148, 20)\n"
     ]
    },
    {
     "name": "stderr",
     "output_type": "stream",
     "text": [
      "<ipython-input-29-d4eb68b28776>:3: SettingWithCopyWarning: \n",
      "A value is trying to be set on a copy of a slice from a DataFrame.\n",
      "Try using .loc[row_indexer,col_indexer] = value instead\n",
      "\n",
      "See the caveats in the documentation: https://pandas.pydata.org/pandas-docs/stable/user_guide/indexing.html#returning-a-view-versus-a-copy\n",
      "  df_composition_cultivated['Cultivated_n'] = labelencoder.fit_transform(df_composition_cultivated['Cultivated'])\n"
     ]
    }
   ],
   "source": [
    "# creating instance of labelencoder for the column \"Cultivated\"\n",
    "labelencoder = LabelEncoder()# Assigning numerical values and storing in another column\n",
    "df_composition_cultivated['Cultivated_n'] = labelencoder.fit_transform(df_composition_cultivated['Cultivated'])\n",
    "\n",
    "print(df_composition_cultivated.shape)\n",
    "df_composition_cultivated = df_composition_cultivated.drop(['Depth', 'Cultivated'], axis = 1)"
   ]
  },
  {
   "cell_type": "code",
   "execution_count": 30,
   "metadata": {},
   "outputs": [
    {
     "data": {
      "text/html": [
       "<div>\n",
       "<style scoped>\n",
       "    .dataframe tbody tr th:only-of-type {\n",
       "        vertical-align: middle;\n",
       "    }\n",
       "\n",
       "    .dataframe tbody tr th {\n",
       "        vertical-align: top;\n",
       "    }\n",
       "\n",
       "    .dataframe thead th {\n",
       "        text-align: right;\n",
       "    }\n",
       "</style>\n",
       "<table border=\"1\" class=\"dataframe\">\n",
       "  <thead>\n",
       "    <tr style=\"text-align: right;\">\n",
       "      <th></th>\n",
       "      <th>pH</th>\n",
       "      <th>Acidified carbon</th>\n",
       "      <th>Flash2000_N_ppm</th>\n",
       "      <th>Awc1</th>\n",
       "      <th>P</th>\n",
       "      <th>K</th>\n",
       "      <th>S</th>\n",
       "      <th>Ca</th>\n",
       "      <th>Mg</th>\n",
       "      <th>Cu</th>\n",
       "      <th>Cl</th>\n",
       "      <th>Zn</th>\n",
       "      <th>Fe</th>\n",
       "      <th>Mn</th>\n",
       "      <th>Mo</th>\n",
       "      <th>depth_sub</th>\n",
       "      <th>depth_top</th>\n",
       "      <th>Cultivated_n</th>\n",
       "    </tr>\n",
       "  </thead>\n",
       "  <tbody>\n",
       "    <tr>\n",
       "      <th>0</th>\n",
       "      <td>4.57</td>\n",
       "      <td>0.429813</td>\n",
       "      <td>392.82719</td>\n",
       "      <td>0.034962</td>\n",
       "      <td>50.6</td>\n",
       "      <td>12991.3</td>\n",
       "      <td>45.7</td>\n",
       "      <td>944.1</td>\n",
       "      <td>5575.0</td>\n",
       "      <td>13.0</td>\n",
       "      <td>210.2</td>\n",
       "      <td>22.0</td>\n",
       "      <td>12501.3</td>\n",
       "      <td>81.9</td>\n",
       "      <td>184.5</td>\n",
       "      <td>1.0</td>\n",
       "      <td>0.0</td>\n",
       "      <td>0</td>\n",
       "    </tr>\n",
       "    <tr>\n",
       "      <th>1</th>\n",
       "      <td>7.06</td>\n",
       "      <td>0.912364</td>\n",
       "      <td>859.46908</td>\n",
       "      <td>0.042649</td>\n",
       "      <td>50.6</td>\n",
       "      <td>15173.5</td>\n",
       "      <td>45.7</td>\n",
       "      <td>9301.0</td>\n",
       "      <td>5519.1</td>\n",
       "      <td>18.4</td>\n",
       "      <td>152.6</td>\n",
       "      <td>38.5</td>\n",
       "      <td>24094.6</td>\n",
       "      <td>422.4</td>\n",
       "      <td>184.5</td>\n",
       "      <td>0.0</td>\n",
       "      <td>1.0</td>\n",
       "      <td>0</td>\n",
       "    </tr>\n",
       "    <tr>\n",
       "      <th>2</th>\n",
       "      <td>5.27</td>\n",
       "      <td>0.219614</td>\n",
       "      <td>186.29957</td>\n",
       "      <td>0.091913</td>\n",
       "      <td>50.6</td>\n",
       "      <td>6838.9</td>\n",
       "      <td>45.7</td>\n",
       "      <td>884.3</td>\n",
       "      <td>5575.0</td>\n",
       "      <td>2.8</td>\n",
       "      <td>229.5</td>\n",
       "      <td>2.3</td>\n",
       "      <td>2213.4</td>\n",
       "      <td>13.2</td>\n",
       "      <td>184.5</td>\n",
       "      <td>1.0</td>\n",
       "      <td>0.0</td>\n",
       "      <td>0</td>\n",
       "    </tr>\n",
       "    <tr>\n",
       "      <th>4</th>\n",
       "      <td>6.50</td>\n",
       "      <td>0.527140</td>\n",
       "      <td>377.73812</td>\n",
       "      <td>0.033089</td>\n",
       "      <td>50.6</td>\n",
       "      <td>12201.6</td>\n",
       "      <td>45.7</td>\n",
       "      <td>1790.1</td>\n",
       "      <td>5575.0</td>\n",
       "      <td>7.7</td>\n",
       "      <td>122.5</td>\n",
       "      <td>13.4</td>\n",
       "      <td>9135.1</td>\n",
       "      <td>132.6</td>\n",
       "      <td>184.5</td>\n",
       "      <td>0.0</td>\n",
       "      <td>1.0</td>\n",
       "      <td>0</td>\n",
       "    </tr>\n",
       "    <tr>\n",
       "      <th>5</th>\n",
       "      <td>5.41</td>\n",
       "      <td>4.359586</td>\n",
       "      <td>2520.21961</td>\n",
       "      <td>0.112162</td>\n",
       "      <td>50.6</td>\n",
       "      <td>4731.1</td>\n",
       "      <td>45.7</td>\n",
       "      <td>4924.8</td>\n",
       "      <td>5575.0</td>\n",
       "      <td>56.1</td>\n",
       "      <td>145.1</td>\n",
       "      <td>40.6</td>\n",
       "      <td>67075.9</td>\n",
       "      <td>586.1</td>\n",
       "      <td>184.5</td>\n",
       "      <td>0.0</td>\n",
       "      <td>1.0</td>\n",
       "      <td>0</td>\n",
       "    </tr>\n",
       "  </tbody>\n",
       "</table>\n",
       "</div>"
      ],
      "text/plain": [
       "     pH  Acidified carbon  Flash2000_N_ppm      Awc1     P        K     S  \\\n",
       "0  4.57          0.429813        392.82719  0.034962  50.6  12991.3  45.7   \n",
       "1  7.06          0.912364        859.46908  0.042649  50.6  15173.5  45.7   \n",
       "2  5.27          0.219614        186.29957  0.091913  50.6   6838.9  45.7   \n",
       "4  6.50          0.527140        377.73812  0.033089  50.6  12201.6  45.7   \n",
       "5  5.41          4.359586       2520.21961  0.112162  50.6   4731.1  45.7   \n",
       "\n",
       "       Ca      Mg    Cu     Cl    Zn       Fe     Mn     Mo  depth_sub  \\\n",
       "0   944.1  5575.0  13.0  210.2  22.0  12501.3   81.9  184.5        1.0   \n",
       "1  9301.0  5519.1  18.4  152.6  38.5  24094.6  422.4  184.5        0.0   \n",
       "2   884.3  5575.0   2.8  229.5   2.3   2213.4   13.2  184.5        1.0   \n",
       "4  1790.1  5575.0   7.7  122.5  13.4   9135.1  132.6  184.5        0.0   \n",
       "5  4924.8  5575.0  56.1  145.1  40.6  67075.9  586.1  184.5        0.0   \n",
       "\n",
       "   depth_top  Cultivated_n  \n",
       "0        0.0             0  \n",
       "1        1.0             0  \n",
       "2        0.0             0  \n",
       "4        1.0             0  \n",
       "5        1.0             0  "
      ]
     },
     "execution_count": 30,
     "metadata": {},
     "output_type": "execute_result"
    }
   ],
   "source": [
    "df_composition_cultivated.head()"
   ]
  },
  {
   "cell_type": "markdown",
   "metadata": {},
   "source": [
    "#### 2.2.3 Data modeling - logistic regression"
   ]
  },
  {
   "cell_type": "code",
   "execution_count": 31,
   "metadata": {},
   "outputs": [],
   "source": [
    "\n",
    "X_cultivated = df_composition_cultivated.drop(['Cultivated_n'], axis = 1).values[:, 1:]\n",
    "\n",
    "X_cult_scaled = StandardScaler().fit_transform(X_cultivated) # scale those features\n",
    "y_cultivated = df_composition_cultivated['Cultivated_n'].values\n",
    "\n",
    "X1_train, X1_test, y1_train, y1_test = train_test_split(X_cult_scaled, y_cultivated, test_size = 0.2, random_state = 42)"
   ]
  },
  {
   "cell_type": "code",
   "execution_count": 182,
   "metadata": {},
   "outputs": [
    {
     "name": "stdout",
     "output_type": "stream",
     "text": [
      "Score of the logistic regression model for soil composition and fertility =  0.9\n"
     ]
    },
    {
     "name": "stderr",
     "output_type": "stream",
     "text": [
      "/home/marco/anaconda3/lib/python3.8/site-packages/sklearn/svm/_base.py:976: ConvergenceWarning: Liblinear failed to converge, increase the number of iterations.\n",
      "  warnings.warn(\"Liblinear failed to converge, increase \"\n"
     ]
    }
   ],
   "source": [
    "lr_cultivated = LogisticRegression(solver='liblinear',dual=True, random_state=42)\n",
    "\n",
    "lr_cultivated.fit(X1_train, y1_train)\n",
    "y1_pred = lr_cultivated.predict(X1_test) # estimation of cultivated value based on fit\n",
    "accuracy_lr = lr_cultivated.score(X1_test, y1_test)\n",
    "print('Score of the logistic regression model for soil composition and fertility = ',np.round(accuracy_lr,2))"
   ]
  },
  {
   "cell_type": "code",
   "execution_count": 33,
   "metadata": {},
   "outputs": [
    {
     "name": "stdout",
     "output_type": "stream",
     "text": [
      "              precision    recall  f1-score   support\n",
      "\n",
      "           0       0.93      0.96      0.95        27\n",
      "           1       0.50      0.33      0.40         3\n",
      "\n",
      "    accuracy                           0.90        30\n",
      "   macro avg       0.71      0.65      0.67        30\n",
      "weighted avg       0.89      0.90      0.89        30\n",
      "\n"
     ]
    },
    {
     "data": {
      "text/html": [
       "<div>\n",
       "<style scoped>\n",
       "    .dataframe tbody tr th:only-of-type {\n",
       "        vertical-align: middle;\n",
       "    }\n",
       "\n",
       "    .dataframe tbody tr th {\n",
       "        vertical-align: top;\n",
       "    }\n",
       "\n",
       "    .dataframe thead th {\n",
       "        text-align: right;\n",
       "    }\n",
       "</style>\n",
       "<table border=\"1\" class=\"dataframe\">\n",
       "  <thead>\n",
       "    <tr style=\"text-align: right;\">\n",
       "      <th></th>\n",
       "      <th>predicted negative</th>\n",
       "      <th>predicted positive</th>\n",
       "    </tr>\n",
       "  </thead>\n",
       "  <tbody>\n",
       "    <tr>\n",
       "      <th>actual negative</th>\n",
       "      <td>26</td>\n",
       "      <td>1</td>\n",
       "    </tr>\n",
       "    <tr>\n",
       "      <th>actual positive</th>\n",
       "      <td>2</td>\n",
       "      <td>1</td>\n",
       "    </tr>\n",
       "  </tbody>\n",
       "</table>\n",
       "</div>"
      ],
      "text/plain": [
       "                 predicted negative  predicted positive\n",
       "actual negative                  26                   1\n",
       "actual positive                   2                   1"
      ]
     },
     "execution_count": 33,
     "metadata": {},
     "output_type": "execute_result"
    }
   ],
   "source": [
    "cm1 = confusion_matrix(y1_test, y1_pred)\n",
    "\n",
    "print(classification_report(y1_test, y1_pred))\n",
    "\n",
    "df_confusionmatrix1 = pd.DataFrame(data=cm1, index=[\"actual negative\",\"actual positive\"], columns=[\"predicted negative\",\"predicted positive\"])\n",
    "df_confusionmatrix1 "
   ]
  },
  {
   "cell_type": "code",
   "execution_count": 34,
   "metadata": {},
   "outputs": [
    {
     "name": "stderr",
     "output_type": "stream",
     "text": [
      "/home/marco/anaconda3/lib/python3.8/site-packages/sklearn/model_selection/_split.py:670: UserWarning: The least populated class in y has only 3 members, which is less than n_splits=5.\n",
      "  warnings.warn((\"The least populated class in y has only %d\"\n",
      "/home/marco/anaconda3/lib/python3.8/site-packages/sklearn/model_selection/_split.py:670: UserWarning: The least populated class in y has only 3 members, which is less than n_splits=5.\n",
      "  warnings.warn((\"The least populated class in y has only %d\"\n"
     ]
    },
    {
     "data": {
      "text/plain": [
       "array([0.83333333, 0.5       , 0.83333333, 0.83333333, 1.        ])"
      ]
     },
     "execution_count": 34,
     "metadata": {},
     "output_type": "execute_result"
    }
   ],
   "source": [
    "# Cross-validation\n",
    "y_cv = cross_val_predict(lr_cultivated, X1_test, y1_test, cv=5)\n",
    "scores = cross_val_score(lr_cultivated, X1_test, y1_test, cv=5)\n",
    "scores"
   ]
  },
  {
   "cell_type": "code",
   "execution_count": 35,
   "metadata": {},
   "outputs": [
    {
     "name": "stdout",
     "output_type": "stream",
     "text": [
      "Logistic Regression: 1-dimensional representation\n"
     ]
    },
    {
     "data": {
      "image/png": "[encoded data removed]",
      "text/plain": [
       "<IPython.core.display.Image object>"
      ]
     },
     "execution_count": 35,
     "metadata": {},
     "output_type": "execute_result"
    }
   ],
   "source": [
    "print(\"Logistic Regression: 1-dimensional representation\")\n",
    "Image(filename='img/logisticregression.png') "
   ]
  },
  {
   "cell_type": "code",
   "execution_count": 36,
   "metadata": {},
   "outputs": [],
   "source": [
    "n_components = 5\n",
    "\n",
    "pca = PCA(n_components= n_components)\n",
    "principalComponents = pca.fit_transform(X_cult_scaled)\n",
    "\n",
    "df_PCA_composition = pd.DataFrame(data = principalComponents , columns = ['compositional_component1','compositional_component2','compositional_component3','compositional_component4','compositional_component5'])\n",
    "\n",
    "\n",
    "print('the new component contains',pca.explained_variance_ratio_ * 100, '% of the information from the', n_components ,'variables', 'for a total of',sum(pca.explained_variance_ratio_ * 100),'%' )\n",
    "#"
   ]
  },
  {
   "cell_type": "code",
   "execution_count": 199,
   "metadata": {},
   "outputs": [
    {
     "name": "stdout",
     "output_type": "stream",
     "text": [
      "all features Index(['pH', 'Acidified carbon', 'Flash2000_N_ppm', 'Awc1', 'P', 'K', 'S',\n",
      "       'Ca', 'Mg', 'Cu', 'Cl', 'Zn', 'Fe', 'Mn', 'Mo', 'depth_sub',\n",
      "       'depth_top'],\n",
      "      dtype='object') 17\n",
      "[1.27122298 0.84180645 0.48227514 0.43404857 0.29944111 0.28871865\n",
      " 0.22505539 0.22500572 0.20900283 0.17127252 0.10291673 0.08259209\n",
      " 0.07765662 0.07765662 0.06107512 0.02280531]\n",
      "Index(['Fe', 'Zn', 'Cl', 'Awc1', 'Ca'], dtype='object')\n"
     ]
    }
   ],
   "source": [
    "\n",
    "cult_features = df_composition_cultivated.drop(['Cultivated_n'], axis = 1)\n",
    "print('all features',cult_features.columns, len(cult_features.columns) )\n",
    "names_of_variables =cult_features.columns\n",
    "\n",
    "#create random weights and get the magnitude\n",
    "weights = np.random.rand(4)\n",
    "abs_weights = np.abs(importance)\n",
    "\n",
    "#get the sorting indices\n",
    "sorted_index = np.argsort(abs_weights)[::-1]\n",
    "\n",
    "#check if the sorting indices are correct\n",
    "print(abs_weights[sorted_index])\n",
    "\n",
    "#get the index of the top-2 features\n",
    "top_5 = sorted_index[:5]\n",
    "\n",
    "#get the names of the top 2 most important features\n",
    "print(names_of_variables[top_5])\n",
    "ls_top5 = names_of_variables[top_5].tolist()\n",
    "ls_top5[3] = 'water content'"
   ]
  },
  {
   "cell_type": "code",
   "execution_count": 200,
   "metadata": {},
   "outputs": [
    {
     "data": {
      "image/png": "[encoded data removed]",
      "text/plain": [
       "<Figure size 432x288 with 1 Axes>"
      ]
     },
     "metadata": {
      "needs_background": "light"
     },
     "output_type": "display_data"
    }
   ],
   "source": [
    "# plot feature importance\n",
    "plt.bar(ls_top5, abs_weights[sorted_index[:5]])\n",
    "plt.ylabel('Importance')\n",
    "plt.show()"
   ]
  },
  {
   "cell_type": "markdown",
   "metadata": {},
   "source": [
    "#### 2.2.4 Data modeling - major elements correlation"
   ]
  },
  {
   "cell_type": "markdown",
   "metadata": {},
   "source": [
    "The %N cannot be detected by XRF. It is interesting then to predict it by a correlation with major elements"
   ]
  },
  {
   "cell_type": "code",
   "execution_count": 37,
   "metadata": {},
   "outputs": [
    {
     "data": {
      "image/png": "[encoded data removed]",
      "text/plain": [
       "<IPython.core.display.Image object>"
      ]
     },
     "execution_count": 37,
     "metadata": {},
     "output_type": "execute_result"
    }
   ],
   "source": [
    "Image(filename='img/majorelements.png')"
   ]
  },
  {
   "cell_type": "code",
   "execution_count": 201,
   "metadata": {},
   "outputs": [
    {
     "name": "stdout",
     "output_type": "stream",
     "text": [
      "(467, 8)\n"
     ]
    },
    {
     "data": {
      "text/html": [
       "<div>\n",
       "<style scoped>\n",
       "    .dataframe tbody tr th:only-of-type {\n",
       "        vertical-align: middle;\n",
       "    }\n",
       "\n",
       "    .dataframe tbody tr th {\n",
       "        vertical-align: top;\n",
       "    }\n",
       "\n",
       "    .dataframe thead th {\n",
       "        text-align: right;\n",
       "    }\n",
       "</style>\n",
       "<table border=\"1\" class=\"dataframe\">\n",
       "  <thead>\n",
       "    <tr style=\"text-align: right;\">\n",
       "      <th></th>\n",
       "      <th>Flash2000_N_ppm</th>\n",
       "      <th>P</th>\n",
       "      <th>K</th>\n",
       "      <th>S</th>\n",
       "      <th>Ca</th>\n",
       "      <th>Mg</th>\n",
       "      <th>Cl</th>\n",
       "      <th>Fe</th>\n",
       "    </tr>\n",
       "  </thead>\n",
       "  <tbody>\n",
       "    <tr>\n",
       "      <th>0</th>\n",
       "      <td>392.82719</td>\n",
       "      <td>50.6</td>\n",
       "      <td>12991.3</td>\n",
       "      <td>45.7</td>\n",
       "      <td>944.1</td>\n",
       "      <td>5575.0</td>\n",
       "      <td>210.2</td>\n",
       "      <td>12501.3</td>\n",
       "    </tr>\n",
       "    <tr>\n",
       "      <th>1</th>\n",
       "      <td>859.46908</td>\n",
       "      <td>50.6</td>\n",
       "      <td>15173.5</td>\n",
       "      <td>45.7</td>\n",
       "      <td>9301.0</td>\n",
       "      <td>5519.1</td>\n",
       "      <td>152.6</td>\n",
       "      <td>24094.6</td>\n",
       "    </tr>\n",
       "    <tr>\n",
       "      <th>2</th>\n",
       "      <td>186.29957</td>\n",
       "      <td>50.6</td>\n",
       "      <td>6838.9</td>\n",
       "      <td>45.7</td>\n",
       "      <td>884.3</td>\n",
       "      <td>5575.0</td>\n",
       "      <td>229.5</td>\n",
       "      <td>2213.4</td>\n",
       "    </tr>\n",
       "    <tr>\n",
       "      <th>3</th>\n",
       "      <td>1026.56581</td>\n",
       "      <td>431.6</td>\n",
       "      <td>15845.8</td>\n",
       "      <td>45.7</td>\n",
       "      <td>46529.1</td>\n",
       "      <td>33771.2</td>\n",
       "      <td>58.2</td>\n",
       "      <td>24135.0</td>\n",
       "    </tr>\n",
       "    <tr>\n",
       "      <th>4</th>\n",
       "      <td>377.73812</td>\n",
       "      <td>50.6</td>\n",
       "      <td>12201.6</td>\n",
       "      <td>45.7</td>\n",
       "      <td>1790.1</td>\n",
       "      <td>5575.0</td>\n",
       "      <td>122.5</td>\n",
       "      <td>9135.1</td>\n",
       "    </tr>\n",
       "  </tbody>\n",
       "</table>\n",
       "</div>"
      ],
      "text/plain": [
       "   Flash2000_N_ppm      P        K     S       Ca       Mg     Cl       Fe\n",
       "0        392.82719   50.6  12991.3  45.7    944.1   5575.0  210.2  12501.3\n",
       "1        859.46908   50.6  15173.5  45.7   9301.0   5519.1  152.6  24094.6\n",
       "2        186.29957   50.6   6838.9  45.7    884.3   5575.0  229.5   2213.4\n",
       "3       1026.56581  431.6  15845.8  45.7  46529.1  33771.2   58.2  24135.0\n",
       "4        377.73812   50.6  12201.6  45.7   1790.1   5575.0  122.5   9135.1"
      ]
     },
     "execution_count": 201,
     "metadata": {},
     "output_type": "execute_result"
    }
   ],
   "source": [
    "major_elements = ['Flash2000_N_ppm','P', 'K', 'S', 'Ca', 'Mg', 'Cl','Fe']\n",
    "df_composition_major = df_composition[major_elements]\n",
    "print(df_composition_major.shape)\n",
    "df_composition_major.head()"
   ]
  },
  {
   "cell_type": "code",
   "execution_count": 202,
   "metadata": {},
   "outputs": [],
   "source": [
    "#Variables selection\n",
    "X_major = df_composition_major.drop(['Flash2000_N_ppm'], axis = 1).values[:, 1:]\n",
    "\n",
    "X_maj_scaled = StandardScaler().fit_transform(X_major) # scale those features\n",
    "y_maj = df_composition_major['Flash2000_N_ppm'].values\n",
    "\n",
    "X0_train, X0_test, y0_train, y0_test = train_test_split(X_maj_scaled, y_maj, test_size = 0.2, random_state = 42)"
   ]
  },
  {
   "cell_type": "markdown",
   "metadata": {},
   "source": [
    "Multilinear regression"
   ]
  },
  {
   "cell_type": "code",
   "execution_count": 218,
   "metadata": {},
   "outputs": [
    {
     "name": "stdout",
     "output_type": "stream",
     "text": [
      "R2: -1.187\n",
      "RMSE: 1125.092\n",
      "scaled RMSE 0.43\n"
     ]
    }
   ],
   "source": [
    "reg = LinearRegression()\n",
    "reg.fit(X0_train, y0_train)\n",
    "\n",
    "y0_pred = reg.predict(X0_test)\n",
    "\n",
    "multilinear_r2 = r2_score(y0_test,y0_pred)\n",
    "\n",
    "\n",
    "# Calculate mean squared error for the regression\n",
    "multilinear_mse = mean_squared_error(y0_test, y0_pred)\n",
    "multilinear_rmse = np.sqrt(multilinear_mse)\n",
    "print('R2: %5.3f'  % multilinear_r2)\n",
    "\n",
    "print('RMSE: %5.3f' % multilinear_rmse)\n",
    "\n",
    "y0_pred_scaled = y0_pred/max(y0_pred)\n",
    "y0_test_scaled = y0_test/max(y0_test)\n",
    "scaled_RMSE = np.sqrt(mean_squared_error(y0_test_scaled, y0_pred_scaled))\n",
    "print('scaled RMSE' ,np.round(scaled_RMSE,2) )"
   ]
  },
  {
   "cell_type": "markdown",
   "metadata": {},
   "source": [
    "XGBoost"
   ]
  },
  {
   "cell_type": "code",
   "execution_count": 219,
   "metadata": {},
   "outputs": [
    {
     "name": "stdout",
     "output_type": "stream",
     "text": [
      "R2: 0.366\n",
      "RMSE: 605.714\n",
      "scaled RMSE 0.16\n"
     ]
    }
   ],
   "source": [
    "#kfold = KFold(shuffle=True, random_state=0, n_splits=4)\n",
    "xgb = XGBRegressor(n_estimators=500, min_child_weight=20, n_jobs=-1, objective='reg:squarederror')\n",
    "\n",
    "xgb.fit(X0_train, y0_train)\n",
    "\n",
    "y_pred_xgb = xgb.predict(X0_test)#.reshape(1, 1))\n",
    "\n",
    "# Calculate scores for the regression\n",
    "xgb_score = r2_score(y0_test, y_pred_xgb)\n",
    "\n",
    "# Calculate mean squared error for the regression\n",
    "xgb_rmse = np.sqrt(mean_squared_error(y0_test, y_pred_xgb))\n",
    "\n",
    "print('R2: %5.3f'  % xgb_score)\n",
    "\n",
    "print('RMSE: %5.3f' % xgb_rmse)\n",
    "y0_xgb_scaled = y_pred_xgb/max(y_pred_xgb)\n",
    "y0_test_scaled = y0_test/max(y0_test)\n",
    "scaled_RMSE = np.sqrt(mean_squared_error(y0_test_scaled, y0_xgb_scaled))\n",
    "print('scaled RMSE' ,np.round(scaled_RMSE,2) )"
   ]
  },
  {
   "cell_type": "markdown",
   "metadata": {},
   "source": [
    "Random Forest"
   ]
  },
  {
   "cell_type": "code",
   "execution_count": 273,
   "metadata": {},
   "outputs": [
    {
     "name": "stdout",
     "output_type": "stream",
     "text": [
      "R2: 0.539\n",
      "RMSE: 516.346\n",
      "scaled RMSE 0.17\n"
     ]
    }
   ],
   "source": [
    "rf = RandomForestRegressor(max_depth=20, random_state=42)\n",
    "rf.fit(X0_train, y0_train)\n",
    "\n",
    "y_pred_rf = rf.predict(X0_test)#.reshape(1, 1))\n",
    "\n",
    "# Calculate scores for the regression\n",
    "rf_score = r2_score(y0_test, y_pred_rf)\n",
    "\n",
    "# Calculate mean squared error for the regression\n",
    "rf_rmse = np.sqrt(mean_squared_error(y0_test, y_pred_rf))\n",
    "\n",
    "print('R2: %5.3f'  % rf_score)\n",
    "\n",
    "print('RMSE: %5.3f' % rf_rmse)\n",
    "y0_rf_scaled = y_pred_xgb/max(y_pred_rf)\n",
    "y0_test_scaled = y0_test/max(y0_test)\n",
    "scaled_RMSE = np.sqrt(mean_squared_error(y0_test_scaled, y0_rf_scaled))\n",
    "print('scaled RMSE' ,np.round(scaled_RMSE,2) )"
   ]
  },
  {
   "cell_type": "code",
   "execution_count": 222,
   "metadata": {},
   "outputs": [
    {
     "name": "stdout",
     "output_type": "stream",
     "text": [
      "all features Index(['P', 'K', 'S', 'Ca', 'Mg', 'Cl', 'Fe'], dtype='object') 7\n",
      "[0.33644053 0.28435927 0.15141579 0.11729529 0.08574149 0.02474762]\n",
      "Index(['Cl', 'K', 'P', 'Mg', 'S'], dtype='object')\n"
     ]
    },
    {
     "data": {
      "text/plain": [
       "['Cl', 'K', 'P', 'Mg', 'S']"
      ]
     },
     "execution_count": 222,
     "metadata": {},
     "output_type": "execute_result"
    }
   ],
   "source": [
    "rf_importance = rf.feature_importances_\n",
    "comp_features = df_composition_major.drop(['Flash2000_N_ppm'], axis = 1)\n",
    "print('all features',comp_features.columns, len(comp_features.columns) )\n",
    "names_of_variables =comp_features.columns\n",
    "\n",
    "#create random weights and get the magnitude\n",
    "weights = np.random.rand(4)\n",
    "abs_weights = np.abs(rf_importance)\n",
    "\n",
    "#get the sorting indices\n",
    "sorted_index = np.argsort(abs_weights)[::-1]\n",
    "\n",
    "#check if the sorting indices are correct\n",
    "print(abs_weights[sorted_index])\n",
    "\n",
    "#get the index of the top-2 features\n",
    "top_5 = sorted_index[:5]\n",
    "\n",
    "#get the names of the top 2 most important features\n",
    "print(names_of_variables[top_5])\n",
    "ls_top5 = names_of_variables[top_5].tolist()\n",
    "ls_top5"
   ]
  },
  {
   "cell_type": "code",
   "execution_count": 223,
   "metadata": {},
   "outputs": [
    {
     "data": {
      "image/png": "[encoded data removed]",
      "text/plain": [
       "<Figure size 432x288 with 1 Axes>"
      ]
     },
     "metadata": {
      "needs_background": "light"
     },
     "output_type": "display_data"
    }
   ],
   "source": [
    "# plot feature importance\n",
    "plt.bar(ls_top5, abs_weights[sorted_index[:5]], color = 'r')\n",
    "plt.ylabel('Importance')\n",
    "plt.show()"
   ]
  },
  {
   "cell_type": "markdown",
   "metadata": {},
   "source": [
    "Poor correlation between elements concentration"
   ]
  },
  {
   "cell_type": "markdown",
   "metadata": {},
   "source": [
    "## 3. Elemental analysis - Infrared spectroscopy correlation"
   ]
  },
  {
   "cell_type": "markdown",
   "metadata": {},
   "source": [
    "### 3.1 Loading mid-infrared spectra and target variables"
   ]
  },
  {
   "cell_type": "code",
   "execution_count": 221,
   "metadata": {},
   "outputs": [],
   "source": [
    "df_FTIR_raw = pd.read_csv('middle_infrared_spectra_dataset.csv')\n",
    "todrop = ['SSN'] #irrelevant\n",
    "df_FTIR = df_FTIR_raw.drop(todrop, axis = 1)\n",
    "X = df_FTIR.values #spectra are already scaled\n",
    "X_scaled = StandardScaler().fit_transform(X) "
   ]
  },
  {
   "cell_type": "markdown",
   "metadata": {},
   "source": [
    "##### Targets selection"
   ]
  },
  {
   "cell_type": "code",
   "execution_count": 237,
   "metadata": {},
   "outputs": [
    {
     "name": "stdout",
     "output_type": "stream",
     "text": [
      "shapes verification (467,) (467, 3)\n"
     ]
    }
   ],
   "source": [
    "df_composition['%N'] = df_composition['Flash2000_N_ppm']/1000\n",
    "# single target regression\n",
    "target_feature = '%N' #['C % Org', '%P', '%K']#, '%Ca', '%Cu', '%Fe', '%Mo','pH'\n",
    "# multiple targets regression\n",
    "target_features = ['%N', 'Acidified carbon', 'pH']#, '%Ca', '%Cu', '%Fe', '%Mo','pH']\n",
    "\n",
    "y2 = df_composition[target_feature].values #PLS1 - single feature regression\n",
    "Y2 = df_composition[target_features].values #PLS2 - multiple features regression\n",
    "Y2_scaled = StandardScaler().fit_transform(Y2) \n",
    "print('shapes verification',y2.shape, Y2.shape)"
   ]
  },
  {
   "cell_type": "code",
   "execution_count": 158,
   "metadata": {},
   "outputs": [],
   "source": [
    "X2_train, X2_test, y2_train, y2_test = train_test_split(X_scaled, y2, test_size = 0.2, random_state = 42)"
   ]
  },
  {
   "cell_type": "code",
   "execution_count": 260,
   "metadata": {},
   "outputs": [
    {
     "name": "stdout",
     "output_type": "stream",
     "text": [
      "0\n",
      "0\n",
      "316\n"
     ]
    }
   ],
   "source": [
    "print(np.count_nonzero(y2 < 0))\n",
    "print(np.count_nonzero(Y2[:,0] < 0))\n",
    "print(np.count_nonzero(Y2_scaled[:,0] < 0)) # variables have been centered"
   ]
  },
  {
   "cell_type": "markdown",
   "metadata": {},
   "source": [
    "### 3.2 Multivariate linear regression"
   ]
  },
  {
   "cell_type": "code",
   "execution_count": 267,
   "metadata": {},
   "outputs": [
    {
     "name": "stdout",
     "output_type": "stream",
     "text": [
      "linear regression R² -4.645545816445811\n",
      "linear regression RMSE 3.2674598254294045\n"
     ]
    }
   ],
   "source": [
    "lr = LinearRegression()\n",
    "\n",
    "lr_model = lr.fit(X2_train,y2_train)\n",
    "\n",
    "y_lr = lr.predict(X2_test)  \n",
    "r2_lr = r2_score(y2_test, y_lr)\n",
    "rmse_lr = np.sqrt(mean_squared_error(y2_test, y_lr))\n",
    "print('linear regression R²',r2_lr )\n",
    "print('linear regression RMSE',mse_lr )"
   ]
  },
  {
   "cell_type": "code",
   "execution_count": 268,
   "metadata": {},
   "outputs": [
    {
     "data": {
      "text/plain": [
       "Text(0.5, 1.0, 'Multivariate linear regression')"
      ]
     },
     "execution_count": 268,
     "metadata": {},
     "output_type": "execute_result"
    },
    {
     "data": {
      "image/png": "[encoded data removed]",
      "text/plain": [
       "<Figure size 432x288 with 1 Axes>"
      ]
     },
     "metadata": {
      "needs_background": "light"
     },
     "output_type": "display_data"
    }
   ],
   "source": [
    "plt.scatter(y2_test, y_lr, label = target_feature)\n",
    "plt.legend()\n",
    "plt.xlabel('actual values')\n",
    "plt.ylabel('predicted values')\n",
    "plt.title('Multivariate linear regression')"
   ]
  },
  {
   "cell_type": "markdown",
   "metadata": {},
   "source": [
    "### 3.4 Ridge regression"
   ]
  },
  {
   "cell_type": "code",
   "execution_count": 270,
   "metadata": {},
   "outputs": [
    {
     "name": "stdout",
     "output_type": "stream",
     "text": [
      "Best parameter alpha =  0.00031622776601683794\n",
      "ridge regression R² : 0.990\n",
      "ridge regression RMSE 1.54\n"
     ]
    }
   ],
   "source": [
    "parameters = {'alpha':np.logspace(-4, -3.5, 50)}\n",
    "#Run a Grid search, using R^2 as the metric to optimise alpha\n",
    "ridge= GridSearchCV(Ridge(), parameters, scoring='r2', cv=10)\n",
    "# Fit to the data\n",
    "ridge.fit(X2_train, y2_train)\n",
    "# Run a ridge regression with the optimised value\n",
    "print('Best parameter alpha = ', ridge.best_params_['alpha'])\n",
    "\n",
    "y_ridge = ridge.predict(X2_test)  \n",
    "#Get the optimised value of alpha\n",
    "\n",
    "print('ridge regression R² : %5.3f'  % ridge.score(X2_train, y2_train))\n",
    "rmse_ridge = np.sqrt(mean_squared_error(y2_test, y_ridge))\n",
    "print('ridge regression RMSE', np.round(rmse_ridge,2) )"
   ]
  },
  {
   "cell_type": "code",
   "execution_count": 162,
   "metadata": {},
   "outputs": [
    {
     "data": {
      "text/plain": [
       "Text(0.5, 1.0, 'Ridge regression')"
      ]
     },
     "execution_count": 162,
     "metadata": {},
     "output_type": "execute_result"
    },
    {
     "data": {
      "image/png": "[encoded data removed]",
      "text/plain": [
       "<Figure size 432x288 with 1 Axes>"
      ]
     },
     "metadata": {
      "needs_background": "light"
     },
     "output_type": "display_data"
    }
   ],
   "source": [
    "plt.scatter(y2_test, y_ridge, label = target_feature)\n",
    "plt.legend()\n",
    "plt.xlabel('actual values')\n",
    "plt.ylabel('predicted values')\n",
    "plt.title('Ridge regression')"
   ]
  },
  {
   "cell_type": "markdown",
   "metadata": {},
   "source": [
    "### 3.3 Random forest regression"
   ]
  },
  {
   "cell_type": "code",
   "execution_count": 271,
   "metadata": {},
   "outputs": [
    {
     "name": "stdout",
     "output_type": "stream",
     "text": [
      "random forest regression R²: -0.181\n",
      "random forest regression RMSE: 1.000\n"
     ]
    }
   ],
   "source": [
    "\n",
    "X2, y2 = make_regression(n_features=len(df_FTIR.columns), n_informative=150,random_state=0, shuffle=False)\n",
    "\n",
    "rf = RandomForestRegressor(max_depth=20, random_state=42)\n",
    "rf.fit(X2_train, y2_train)\n",
    "y_pred_rf = rf.predict(X2_test)#.reshape(1, 1))\n",
    "\n",
    "# Calculate scores for calibration and cross-validation\n",
    "rf_score_c = r2_score(y2_test, y_pred_rf)\n",
    "\n",
    "# Calculate mean squared error for calibration and cross validation\n",
    "rf_rmse_c = np.sqrt(mean_squared_error(y2_test, y_pred_rf))\n",
    "\n",
    "print('random forest regression R²: %5.3f'  % rf_score_c)\n",
    "\n",
    "print('random forest regression RMSE: %5.3f' % np.round(rf_rmse_c,2))\n"
   ]
  },
  {
   "cell_type": "code",
   "execution_count": 272,
   "metadata": {},
   "outputs": [
    {
     "data": {
      "text/plain": [
       "Text(0.5, 1.0, 'Random forest regression')"
      ]
     },
     "execution_count": 272,
     "metadata": {},
     "output_type": "execute_result"
    },
    {
     "data": {
      "image/png": "[encoded data removed]",
      "text/plain": [
       "<Figure size 432x288 with 1 Axes>"
      ]
     },
     "metadata": {
      "needs_background": "light"
     },
     "output_type": "display_data"
    }
   ],
   "source": [
    "plt.scatter(y2_test, y_pred_rf, label = target_feature)\n",
    "plt.legend()\n",
    "plt.xlabel('actual values')\n",
    "plt.ylabel('predicted values')\n",
    "plt.title('Random forest regression')"
   ]
  },
  {
   "cell_type": "markdown",
   "metadata": {},
   "source": [
    "### 3.2 Multivariate partial least squares (PLS) regression\n",
    "#### PLS1: univariate target "
   ]
  },
  {
   "cell_type": "markdown",
   "metadata": {},
   "source": [
    "NIR spectra should be correlated to COH elements, i.e. organic carbon and we investigate the correlation between these data with multivariate partial least squares regression. The predicting variables are the FTIR wavelenghts. The target is % organic C. \n"
   ]
  },
  {
   "cell_type": "code",
   "execution_count": 165,
   "metadata": {},
   "outputs": [],
   "source": [
    "# what is the optimal number of latent predictive features?\n",
    "n_comp = 30\n",
    "mse = []\n",
    "r2 = []\n",
    "component = np.arange(1, n_comp,2)\n",
    "    \n",
    "for i in component:\n",
    "    pls = PLSRegression(n_components=i)\n",
    "    model = pls.fit(X2_train, y2_train)\n",
    "    \n",
    "    y_c = model.predict(X2_test)\n",
    "\n",
    "    mse.append(mean_squared_error(y2_test, y_c))\n",
    "    r2.append(r2_score(y2_test, y_c))"
   ]
  },
  {
   "cell_type": "code",
   "execution_count": 166,
   "metadata": {},
   "outputs": [
    {
     "data": {
      "text/plain": [
       "Text(0.5, 0, 'Number of PLS components')"
      ]
     },
     "execution_count": 166,
     "metadata": {},
     "output_type": "execute_result"
    },
    {
     "data": {
      "image/png": "[encoded data removed]",
      "text/plain": [
       "<Figure size 288x576 with 2 Axes>"
      ]
     },
     "metadata": {
      "needs_background": "light"
     },
     "output_type": "display_data"
    }
   ],
   "source": [
    "plt.figure(figsize= (4,8))\n",
    "plt.subplot(211)\n",
    "plt.scatter(component, mse, label = 'mse', marker = '+', c='r')\n",
    "plt.title('PLS')\n",
    "plt.ylabel('MSE')\n",
    "\n",
    "plt.subplot(212)\n",
    "plt.scatter(component, r2, label = 'R²', alpha=0.5, marker=r'$\\clubsuit$', c='g')\n",
    "plt.ylabel('R²')\n",
    "plt.xlabel('Number of PLS components')"
   ]
  },
  {
   "cell_type": "markdown",
   "metadata": {},
   "source": [
    "Now let's run this function by setting the optimized mumber of components."
   ]
  },
  {
   "cell_type": "code",
   "execution_count": 167,
   "metadata": {},
   "outputs": [
    {
     "name": "stdout",
     "output_type": "stream",
     "text": [
      "PLS R²: -0.595\n",
      "PLS MSE: 0.923\n"
     ]
    }
   ],
   "source": [
    "pls = PLSRegression(n_components=19)\n",
    "model_pls = pls.fit(X2_train, y2_train)\n",
    "\n",
    "y_c = model_pls.predict(X2_test)\n",
    "\n",
    "\n",
    "# Calculate scores for calibration and cross-validation\n",
    "score_c = r2_score(y2_test, y_c)\n",
    "\n",
    "\n",
    "\n",
    "# Calculate mean squared error for calibration and cross validation\n",
    "rmse_c = np.sqrt(mean_squared_error(y2_test, y_c))\n",
    "\n",
    "print('PLS R²: %5.3f'  % score_c)\n",
    "\n",
    "print('PLS MSE: %5.3f' % rmse_c)"
   ]
  },
  {
   "cell_type": "code",
   "execution_count": 168,
   "metadata": {},
   "outputs": [
    {
     "data": {
      "text/plain": [
       "Text(0.5, 1.0, 'PLS regression')"
      ]
     },
     "execution_count": 168,
     "metadata": {},
     "output_type": "execute_result"
    },
    {
     "data": {
      "image/png": "[encoded data removed]",
      "text/plain": [
       "<Figure size 432x288 with 1 Axes>"
      ]
     },
     "metadata": {
      "needs_background": "light"
     },
     "output_type": "display_data"
    }
   ],
   "source": [
    "plt.scatter(y2_test, y_c, label = target_feature)\n",
    "plt.legend()\n",
    "plt.xlabel('actual values')\n",
    "plt.ylabel('predicted values')\n",
    "plt.title('PLS regression')"
   ]
  },
  {
   "cell_type": "markdown",
   "metadata": {},
   "source": [
    "- PLS canonical"
   ]
  },
  {
   "cell_type": "code",
   "execution_count": 238,
   "metadata": {},
   "outputs": [],
   "source": [
    "X2_train, X2_test, Y2_train, Y2_test = train_test_split(X, Y2_scaled, test_size = 0.2, random_state = 42)"
   ]
  },
  {
   "cell_type": "code",
   "execution_count": 239,
   "metadata": {},
   "outputs": [
    {
     "name": "stdout",
     "output_type": "stream",
     "text": [
      "n targets:  3\n"
     ]
    }
   ],
   "source": [
    "print('n targets: ',len(target_features))\n",
    "\n",
    "plsca = PLSCanonical(n_components= len(target_features))\n",
    "model_pls_canonical = plsca.fit(X2_train, Y2_train)\n",
    "X_c, Y_c = plsca.transform(X2_test, Y2_test)\n",
    "\n"
   ]
  },
  {
   "cell_type": "code",
   "execution_count": 266,
   "metadata": {},
   "outputs": [
    {
     "name": "stdout",
     "output_type": "stream",
     "text": [
      "R² score %N :  0.7559967209197594\n",
      "R² score Acidified carbon :  -1.3140636092023108\n",
      "R² score pH :  -0.09840688472733916\n",
      "\n",
      "R² PLS Canonical average: -0.219\n",
      "RMSE score %N :  0.5\n",
      "RMSE PLS Canonical average: 1.160\n"
     ]
    }
   ],
   "source": [
    "\n",
    "# Calculate scores for calibration and cross-validation\n",
    "plsca_score_c = r2_score(Y2_test, Y_c)\n",
    "\n",
    "# Calculate mean squared error for calibration and cross validation\n",
    "plsca_mse_c = mean_squared_error(Y2_test, Y_c)\n",
    "\n",
    "\n",
    "print('R² score',target_features[0],': ',r2_score(Y2_test[:,0], Y_c[:,0]))\n",
    "print('R² score',target_features[1],': ',r2_score(Y2_test[:,1], Y_c[:,1]))\n",
    "print('R² score',target_features[2],': ',r2_score(Y2_test[:,2], Y_c[:,2]))\n",
    "print('')\n",
    "print('R² PLS Canonical average: %5.3f'  % plsca_score_c)\n",
    "print('RMSE score',target_features[0],': ',np.round(np.sqrt(mean_squared_error(Y2_test[:,0], Y_c[:,0])),2))\n",
    "print('RMSE PLS Canonical average: %5.3f' % np.round(np.sqrt(plsca_mse_c),2))\n"
   ]
  },
  {
   "cell_type": "code",
   "execution_count": 241,
   "metadata": {},
   "outputs": [
    {
     "data": {
      "text/plain": [
       "[]"
      ]
     },
     "execution_count": 241,
     "metadata": {},
     "output_type": "execute_result"
    },
    {
     "data": {
      "image/png": "[encoded data removed]",
      "text/plain": [
       "<Figure size 432x288 with 1 Axes>"
      ]
     },
     "metadata": {
      "needs_background": "light"
     },
     "output_type": "display_data"
    }
   ],
   "source": [
    "plt.scatter(Y2_test[:,0], Y_c[:,0], label = target_features[0], color = 'r')\n",
    "plt.scatter(Y2_test[:,1], Y_c[:,1], label = target_features[1], color = 'b')\n",
    "plt.scatter(Y2_test[:,2], Y_c[:,2], label = target_features[2], color = 'k')\n",
    "plt.legend()\n",
    "plt.xlabel('actual values')\n",
    "plt.ylabel('predicted values')\n",
    "plt.title('PLS Canonical - 3 variables prediction')\n",
    "plt.plot()"
   ]
  },
  {
   "cell_type": "markdown",
   "metadata": {},
   "source": [
    "## 4. Model improvements strategies\n",
    "\n",
    "PLS did not give so good results as expected from this academic paper\n",
    "\n",
    "https://www.sciencedirect.com/science/article/abs/pii/S0016706119302368\n",
    "\n",
    "Possibly the procedure can be optimized."
   ]
  },
  {
   "cell_type": "markdown",
   "metadata": {},
   "source": [
    "### 4.1 FTIR spectra baseline correction by differentiation"
   ]
  },
  {
   "cell_type": "code",
   "execution_count": 242,
   "metadata": {},
   "outputs": [
    {
     "name": "stdout",
     "output_type": "stream",
     "text": [
      "2542\n",
      "(467, 2542)\n"
     ]
    },
    {
     "data": {
      "image/png": "[encoded data removed]",
      "text/plain": [
       "<Figure size 576x324 with 1 Axes>"
      ]
     },
     "metadata": {
      "needs_background": "light"
     },
     "output_type": "display_data"
    }
   ],
   "source": [
    "\n",
    "\n",
    "# Get wavelengths\n",
    "wavelenghts_list = df_FTIR.columns.tolist() \n",
    "wavelenghts = np.array(wavelenghts_list)\n",
    "print(len(wavelenghts))\n",
    "\n",
    "\n",
    "# Calculate second derivative. That should average baselines\n",
    "X2 = savgol_filter(X, 17, polyorder = 2,deriv=2)\n",
    "print(X2.shape)\n",
    "# Plot second derivative\n",
    "plt.figure(figsize=(8,4.5))\n",
    "with plt.style.context(('ggplot')):\n",
    "    plt.plot(wavelenghts, X2.T)\n",
    "    plt.xlabel('Wavelength (nm)')\n",
    "    plt.ylabel('D2 Absorbance')\n",
    "    plt.show()"
   ]
  },
  {
   "cell_type": "code",
   "execution_count": 243,
   "metadata": {},
   "outputs": [
    {
     "name": "stdout",
     "output_type": "stream",
     "text": [
      "PLS R² after spectra differentiation: -1.180 vs. -0.5954643262899744 for primitive wave functions\n",
      "PLS MSE after spectra differentiation: 1.262 vs. 0.923403291471334 for primitive wave functions\n"
     ]
    }
   ],
   "source": [
    "y2 = df_composition[target_feature].values\n",
    "X3_train, X3_test, y3_train, y3_test = train_test_split(X2, y2, test_size = 0.2, random_state = 42)\n",
    "\n",
    "pls = PLSRegression(n_components=10)\n",
    "model_pls = pls.fit(X3_train, y3_train)\n",
    "\n",
    "y3_c = model_pls.predict(X3_test)\n",
    "\n",
    "\n",
    "# Calculate scores for calibration and cross-validation\n",
    "score3_c = r2_score(y3_test, y3_c)\n",
    "\n",
    "\n",
    "\n",
    "# Calculate mean squared error for calibration and cross validation\n",
    "mse3_c = mean_squared_error(y3_test, y3_c)\n",
    "\n",
    "print('PLS R² after spectra differentiation: %5.3f'  % score3_c,'vs.',score_c,'for primitive wave functions')\n",
    "\n",
    "print('PLS MSE after spectra differentiation: %5.3f' % mse3_c,'vs.',mse_c,'for primitive wave functions')"
   ]
  },
  {
   "cell_type": "code",
   "execution_count": 244,
   "metadata": {},
   "outputs": [
    {
     "data": {
      "text/plain": [
       "Text(0.5, 1.0, 'PLS regression for FTIR derivative function')"
      ]
     },
     "execution_count": 244,
     "metadata": {},
     "output_type": "execute_result"
    },
    {
     "data": {
      "image/png": "[encoded data removed]",
      "text/plain": [
       "<Figure size 432x288 with 1 Axes>"
      ]
     },
     "metadata": {
      "needs_background": "light"
     },
     "output_type": "display_data"
    }
   ],
   "source": [
    "plt.scatter(y3_test, y3_c, label = target_feature)\n",
    "plt.legend()\n",
    "plt.xlabel('actual values')\n",
    "plt.ylabel('predicted values')\n",
    "plt.title('PLS regression for FTIR derivative function')"
   ]
  },
  {
   "cell_type": "markdown",
   "metadata": {},
   "source": [
    "### 4.2 FTIR spectra reduction\n",
    "\n",
    "I select only the regions containing the peaks corresponding to C=O and C=C bonds and filter away the rest of the spectrum containing either a flat or a noisy curve"
   ]
  },
  {
   "cell_type": "code",
   "execution_count": 245,
   "metadata": {},
   "outputs": [],
   "source": [
    "FTIR_spectra = pd.read_csv('MIR_spectra_transposed.csv')"
   ]
  },
  {
   "cell_type": "code",
   "execution_count": 246,
   "metadata": {},
   "outputs": [
    {
     "name": "stdout",
     "output_type": "stream",
     "text": [
      "2542\n"
     ]
    }
   ],
   "source": [
    "print(len(FTIR_spectra.labda))"
   ]
  },
  {
   "cell_type": "code",
   "execution_count": 247,
   "metadata": {},
   "outputs": [
    {
     "name": "stdout",
     "output_type": "stream",
     "text": [
      "FTIR spectrum example\n"
     ]
    },
    {
     "data": {
      "text/plain": [
       "Text(0.5, 0, 'Wavelengths (cm-1)')"
      ]
     },
     "execution_count": 247,
     "metadata": {},
     "output_type": "execute_result"
    },
    {
     "data": {
      "image/png": "[encoded data removed]",
      "text/plain": [
       "<Figure size 432x432 with 1 Axes>"
      ]
     },
     "metadata": {
      "needs_background": "light"
     },
     "output_type": "display_data"
    }
   ],
   "source": [
    "wavelenght_lower_limit = 1000\n",
    "wavelenght_upper_limit = 1800\n",
    "print('FTIR spectrum example')\n",
    "plt.figure(figsize= (6,6))\n",
    "\n",
    " \n",
    "plt.plot(FTIR_spectra['labda'],FTIR_spectra['icr033603'])\n",
    "plt.plot(FTIR_spectra['labda'],FTIR_spectra['icr048642'])\n",
    "plt.axvline(x= wavelenght_upper_limit , ymin=0, ymax=1, color='r', linewidth = 1)\n",
    "plt.axvline(x= wavelenght_lower_limit , ymin=0, ymax=1, color='r', linewidth = 1)\n",
    "plt.text(3000, 2.25, 'range selected \\n for wavelenghts between \\n red lines')\n",
    "plt.xticks(rotation=90)\n",
    "plt.xlim(4000,400)\n",
    "plt.ylabel('Absorbance (A.U.)', fontsize=14)\n",
    "plt.xlabel('Wavelengths (cm-1)', fontsize = 14)"
   ]
  },
  {
   "cell_type": "code",
   "execution_count": 248,
   "metadata": {},
   "outputs": [
    {
     "data": {
      "text/plain": [
       "Text(0.5, 0, 'Wavelengths (cm-1)')"
      ]
     },
     "execution_count": 248,
     "metadata": {},
     "output_type": "execute_result"
    },
    {
     "data": {
      "image/png": "[encoded data removed]",
      "text/plain": [
       "<Figure size 432x288 with 1 Axes>"
      ]
     },
     "metadata": {
      "needs_background": "light"
     },
     "output_type": "display_data"
    }
   ],
   "source": [
    "df_MIR_FTIRspectra =  FTIR_spectra[FTIR_spectra['labda'] > wavelenght_lower_limit]  \n",
    "df_MIR_FTIRspectra = df_MIR_FTIRspectra[df_MIR_FTIRspectra['labda'] < wavelenght_upper_limit] \n",
    "\n",
    "plt.plot(df_MIR_FTIRspectra['labda'],df_MIR_FTIRspectra['icr042897']) \n",
    "plt.xlim( wavelenght_upper_limit+100,wavelenght_lower_limit-100)\n",
    "plt.title('Reduced MIR spectrum', fontsize=16)\n",
    "plt.ylabel('Absorbance (A.U.)', fontsize=14)\n",
    "plt.xlabel('Wavelengths (cm-1)', fontsize = 14)"
   ]
  },
  {
   "cell_type": "code",
   "execution_count": 249,
   "metadata": {},
   "outputs": [],
   "source": [
    "df_FTIR_reindexed = df_MIR_FTIRspectra.set_index('labda')\n",
    "mid_infrared_df = df_FTIR_reindexed.T.reset_index()\n",
    "mid_infrared_df = mid_infrared_df.rename(columns={'index': 'SSN'})"
   ]
  },
  {
   "cell_type": "code",
   "execution_count": 250,
   "metadata": {},
   "outputs": [
    {
     "name": "stdout",
     "output_type": "stream",
     "text": [
      "before selection (1888, 565)\n",
      "after selection (467, 565)\n"
     ]
    }
   ],
   "source": [
    "sampleslist = df_composition['SSN'].tolist()\n",
    "print('before selection',mid_infrared_df.shape)\n",
    "mid_infrared_df = mid_infrared_df[mid_infrared_df['SSN'].isin(sampleslist)]\n",
    "print('after selection',mid_infrared_df.shape)\n",
    "mid_infrared_df = mid_infrared_df.drop(['SSN'], axis = 1)"
   ]
  },
  {
   "cell_type": "code",
   "execution_count": 251,
   "metadata": {},
   "outputs": [
    {
     "name": "stdout",
     "output_type": "stream",
     "text": [
      "(467, 564) (467,)\n"
     ]
    }
   ],
   "source": [
    "X4 = mid_infrared_df.values\n",
    "y4 = df_composition[target_feature].values\n",
    "\n",
    "print(X4.shape, y4.shape)"
   ]
  },
  {
   "cell_type": "code",
   "execution_count": 252,
   "metadata": {},
   "outputs": [
    {
     "name": "stdout",
     "output_type": "stream",
     "text": [
      "PLS R² after spectra reduction: -0.116 vs. -0.5954643262899744 for full spectra\n",
      "PLS MSE after spectra reduction: 0.646 vs. 0.923403291471334 for full spectra\n"
     ]
    }
   ],
   "source": [
    "X4_train, X4_test, y4_train, y4_test = train_test_split(X4, y4, test_size = 0.2, random_state = 42)\n",
    "\n",
    "pls = PLSRegression(n_components=10)\n",
    "model_pls = pls.fit(X4_train, y4_train)\n",
    "\n",
    "y4_c = model_pls.predict(X4_test)\n",
    "\n",
    "\n",
    "# Calculate scores for calibration and cross-validation\n",
    "score4_c = r2_score(y4_test, y4_c)\n",
    "\n",
    "\n",
    "\n",
    "# Calculate mean squared error for calibration and cross validation\n",
    "mse4_c = mean_squared_error(y4_test, y4_c)\n",
    "\n",
    "print('PLS R² after spectra reduction: %5.3f'  % score4_c,'vs.',score_c,'for full spectra')\n",
    "\n",
    "print('PLS MSE after spectra reduction: %5.3f' % mse4_c,'vs.',mse_c,'for full spectra')"
   ]
  },
  {
   "cell_type": "code",
   "execution_count": null,
   "metadata": {},
   "outputs": [],
   "source": []
  }
 ],
 "metadata": {
  "kernelspec": {
   "display_name": "Python 3",
   "language": "python",
   "name": "python3"
  },
  "language_info": {
   "codemirror_mode": {
    "name": "ipython",
    "version": 3
   },
   "file_extension": ".py",
   "mimetype": "text/x-python",
   "name": "python",
   "nbconvert_exporter": "python",
   "pygments_lexer": "ipython3",
   "version": "3.8.3"
  }
 },
 "nbformat": 4,
 "nbformat_minor": 4
}
